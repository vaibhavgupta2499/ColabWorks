{
  "nbformat": 4,
  "nbformat_minor": 0,
  "metadata": {
    "colab": {
      "name": "Tensorflow_DevIncept.ipynb",
      "provenance": [],
      "toc_visible": true,
      "authorship_tag": "ABX9TyOlaR26A2dY80WxxYSTOdsb",
      "include_colab_link": true
    },
    "kernelspec": {
      "name": "python3",
      "display_name": "Python 3"
    },
    "language_info": {
      "name": "python"
    }
  },
  "cells": [
    {
      "cell_type": "markdown",
      "metadata": {
        "id": "view-in-github",
        "colab_type": "text"
      },
      "source": [
        "<a href=\"https://colab.research.google.com/github/vaibhavgupta2499/ColabWorks/blob/main/Tensorflow_DevIncept.ipynb\" target=\"_parent\"><img src=\"https://colab.research.google.com/assets/colab-badge.svg\" alt=\"Open In Colab\"/></a>"
      ]
    },
    {
      "cell_type": "markdown",
      "metadata": {
        "id": "tW_c-kPpdtIk"
      },
      "source": [
        "![DevIncept](https://external-content.duckduckgo.com/iu/?u=https%3A%2F%2Ftse4.mm.bing.net%2Fth%3Fid%3DOIP.Aa1Ojw7Azjcpr51sEtQSJgAAAA%26pid%3DApi&f=1)"
      ]
    },
    {
      "cell_type": "markdown",
      "metadata": {
        "id": "M7J7jOIhXhRu"
      },
      "source": [
        "1. **Tensorflow - *Yugal Agarwal***\n",
        "   * About Tensorflow\n",
        "   * Installation (Import)\n",
        "   * Introduction to Tensors\n",
        "2. Machine Learning\n",
        "   * A\n",
        "   * B\n",
        "   * C\n",
        "3. **Deep Learning - *Sai Dileep Kumar Mukkamala***\n",
        "   * What is Keras\n",
        "   * Neural Networks\n",
        "   * Convolutional neural network (CNN)\n",
        "   * CNN Code Implementation"
      ]
    },
    {
      "cell_type": "markdown",
      "metadata": {
        "id": "0hhIdE6ia7nb"
      },
      "source": [
        "# Tensorflow"
      ]
    },
    {
      "cell_type": "markdown",
      "metadata": {
        "id": "5CQ6K2enFoUG"
      },
      "source": [
        "## **AboutTenserFlow**"
      ]
    },
    {
      "cell_type": "markdown",
      "metadata": {
        "id": "bbpNrDthHOhE"
      },
      "source": [
        "TensorFlow is a free and open-source software library for machine learning. It can be used across a range of tasks but has a particular focus on training and inference of deep neural networks. Tensorflow is a symbolic math library based on dataflow and differentiable programming."
      ]
    },
    {
      "cell_type": "markdown",
      "metadata": {
        "id": "XksKwA2tI4d4"
      },
      "source": [
        "[![Teserflow](https://i.ytimg.com/vi/yjprpOoH5c8/maxresdefault.jpg)](https://www.tensorflow.org)"
      ]
    },
    {
      "cell_type": "markdown",
      "metadata": {
        "id": "WFu43KyJMve-"
      },
      "source": [
        "### **Why Tenserflow**"
      ]
    },
    {
      "cell_type": "markdown",
      "metadata": {
        "id": "0xEdXorFM4iZ"
      },
      "source": [
        "TensorFlow is an end-to-end open source platform for machine learning. It has a comprehensive, flexible ecosystem of tools, libraries and community resources that lets researchers push the state-of-the-art in ML and developers easily build and deploy ML powered applications."
      ]
    },
    {
      "cell_type": "markdown",
      "metadata": {
        "id": "y533TfcrNIuB"
      },
      "source": [
        "## **Installation**"
      ]
    },
    {
      "cell_type": "markdown",
      "metadata": {
        "id": "jODZ0vX6OWxg"
      },
      "source": [
        "In this section we will understand how to install Tenserflow in your system."
      ]
    },
    {
      "cell_type": "markdown",
      "metadata": {
        "id": "yaK0JcyhQlv3"
      },
      "source": [
        "#### **System Requirements**"
      ]
    },
    {
      "cell_type": "markdown",
      "metadata": {
        "id": "Ro2SQerAQzwV"
      },
      "source": [
        "* Python 3.6 - 3.9\n",
        "* pip 19.0 or later\n",
        "* Ubuntu 16.04 or later (64-bit)\n",
        "* macOS 10.12.6 (Sierra) or later (64-bit)\n",
        "* Windows 7 or later (64-bit) "
      ]
    },
    {
      "cell_type": "markdown",
      "metadata": {
        "id": "jcyI4R7UTjhN"
      },
      "source": [
        "### **1. Install Python environment on your system**"
      ]
    },
    {
      "cell_type": "markdown",
      "metadata": {
        "id": "Rd1KKRO-kVP2"
      },
      "source": [
        "Requires Python 3.6 - 3.9, pip and venv >= 19.0\n",
        "\n",
        "If these are already installed, skip to the next step.  \n",
        "Otherwise, install [Python](https://www.python.org/), the [pip package manager](https://pip.pypa.io/en/stable/installation/) and [venv](https://docs.python.org/3/library/venv.html)."
      ]
    },
    {
      "cell_type": "markdown",
      "metadata": {
        "id": "BQeZqgtBqvbj"
      },
      "source": [
        "### **2. Create a virtual environment**"
      ]
    },
    {
      "cell_type": "markdown",
      "metadata": {
        "id": "lm6MQQZEq_kf"
      },
      "source": [
        "Virtual Environment are used to isolate package installation from the system.  "
      ]
    },
    {
      "cell_type": "markdown",
      "metadata": {
        "id": "Td5wm7tysuqG"
      },
      "source": [
        "#### **Windows**"
      ]
    },
    {
      "cell_type": "markdown",
      "metadata": {
        "id": "tSDIjgtks3Hl"
      },
      "source": [
        "Create a new virtual environment by chossing a python interpretor and making a **.\\venv** directory to hold it."
      ]
    },
    {
      "cell_type": "code",
      "metadata": {
        "id": "WVy0GxhHthzN"
      },
      "source": [
        "python -m venv --system-site-packages .\\venv"
      ],
      "execution_count": null,
      "outputs": []
    },
    {
      "cell_type": "markdown",
      "metadata": {
        "id": "0CaiPsDGv0ZG"
      },
      "source": [
        "Activate the virtual environment"
      ]
    },
    {
      "cell_type": "code",
      "metadata": {
        "id": "kKun-Z4QwHxR"
      },
      "source": [
        ".\\venv\\Scripts\\activate"
      ],
      "execution_count": null,
      "outputs": []
    },
    {
      "cell_type": "markdown",
      "metadata": {
        "id": "rX6w1JM4wK0y"
      },
      "source": [
        "And exit the virtual environment later "
      ]
    },
    {
      "cell_type": "code",
      "metadata": {
        "id": "s653VCYawXG8"
      },
      "source": [
        "deactivate  # don't exit until you're done using TensorFlow"
      ],
      "execution_count": null,
      "outputs": []
    },
    {
      "cell_type": "markdown",
      "metadata": {
        "id": "i1H45U08wggt"
      },
      "source": [
        "### **3. Install the TenserFlow pip package**"
      ]
    },
    {
      "cell_type": "markdown",
      "metadata": {
        "id": "4bQQlXuswsgj"
      },
      "source": [
        "Choose one of the following TensorFlow packages to install from [PyPI](https://pypi.org/project/tensorflow/) :  \n",
        "* **tenserflow** - Latest stable release with CPU and GPU support (Ubuntu and Windows) .  \n",
        "* **tf - nighlty** - Preview build (unstable) . Ubuntu and Windows include GPU support .  \n",
        "* **tenserflow==1.5** - The final version of TenserFlow 1.x."
      ]
    },
    {
      "cell_type": "markdown",
      "metadata": {
        "id": "F2fKFUnS3l7H"
      },
      "source": [
        "##  **Introduction To Tensors**\n"
      ]
    },
    {
      "cell_type": "markdown",
      "metadata": {
        "id": "K3tj4DYw3t6_"
      },
      "source": [
        "By programming perspective **Tensors** are multi-dimensional arrays with a uniform type (called a **dtype**).  \n",
        "![](https://media.geeksforgeeks.org/wp-content/uploads/two-d.png)  \n",
        "The above image is a simple 2-dimensional array.\n",
        "When we go in more fundamental mathematics perspective **tensor** is a generalization of scalar vector and matrix. \n",
        "![](https://miro.medium.com/max/891/0*jGB1CGQ9HdeUwlgB)  \n",
        "For eg. a vector is a one-dimensional tensor, and matrix is a two-dimensional matrix.\n",
        "\n",
        "If you're familiar with **NumPy**, tensors are (kind of) like **np.arrays**.\n",
        "\n",
        "All tensors are immutable like Python numbers and strings: you can never update the contents of a tensor, only create a new one."
      ]
    },
    {
      "cell_type": "markdown",
      "metadata": {
        "id": "QS0Sfzib4nnG"
      },
      "source": [
        "### Basics"
      ]
    },
    {
      "cell_type": "markdown",
      "metadata": {
        "id": "auSw-mha42Xl"
      },
      "source": [
        "Lets create some basic tensors.  \n",
        "\n"
      ]
    },
    {
      "cell_type": "code",
      "metadata": {
        "colab": {
          "base_uri": "https://localhost:8080/"
        },
        "id": "3DcKDq8t-Sn6",
        "outputId": "65a66437-1dbd-4b1f-e2c5-64eb1885e37c"
      },
      "source": [
        "import tensorflow as tf\n",
        "print(tf.__version__)"
      ],
      "execution_count": null,
      "outputs": [
        {
          "output_type": "stream",
          "text": [
            "2.5.0\n"
          ],
          "name": "stdout"
        }
      ]
    },
    {
      "cell_type": "markdown",
      "metadata": {
        "id": "G5t06VfTBDln"
      },
      "source": [
        "### **Initialization of Tensor**"
      ]
    },
    {
      "cell_type": "code",
      "metadata": {
        "colab": {
          "base_uri": "https://localhost:8080/"
        },
        "id": "PDDDtbvxBIpe",
        "outputId": "f2de5175-5e7d-41e4-f8f9-1f200b66becd"
      },
      "source": [
        "# Tensor Initialization\n",
        "x = tf.constant(5)\n",
        "print(x)"
      ],
      "execution_count": null,
      "outputs": [
        {
          "output_type": "stream",
          "text": [
            "tf.Tensor(5, shape=(), dtype=int32)\n"
          ],
          "name": "stdout"
        }
      ]
    },
    {
      "cell_type": "markdown",
      "metadata": {
        "id": "LxtfVW9VBo-u"
      },
      "source": [
        "Above tensor is of scalar value which has no shape and is of data type **integer**.  \n",
        "We can also mention data type and shape. Lets see below example:"
      ]
    },
    {
      "cell_type": "code",
      "metadata": {
        "colab": {
          "base_uri": "https://localhost:8080/"
        },
        "id": "IQr6ahkxCCG1",
        "outputId": "56f79731-fe89-41e9-8586-d00b9e5e148a"
      },
      "source": [
        "y = tf.constant(7, shape=(1,1), dtype=tf.float32)\n",
        "print(y)"
      ],
      "execution_count": null,
      "outputs": [
        {
          "output_type": "stream",
          "text": [
            "tf.Tensor([[7.]], shape=(1, 1), dtype=float32)\n"
          ],
          "name": "stdout"
        }
      ]
    },
    {
      "cell_type": "markdown",
      "metadata": {
        "id": "8ybiwTb_CMyH"
      },
      "source": [
        "Now you can see the above tensor is also of scalar value with [1,1] shape and is of data type **float**."
      ]
    },
    {
      "cell_type": "code",
      "metadata": {
        "colab": {
          "base_uri": "https://localhost:8080/"
        },
        "id": "yWshsmdBCZpt",
        "outputId": "5bc044d9-187e-4c03-92bb-ae5f963aabeb"
      },
      "source": [
        "y = tf.constant([[2,4,6],[4,8,9]])\n",
        "print(y)"
      ],
      "execution_count": null,
      "outputs": [
        {
          "output_type": "stream",
          "text": [
            "tf.Tensor(\n",
            "[[2 4 6]\n",
            " [4 8 9]], shape=(2, 3), dtype=int32)\n"
          ],
          "name": "stdout"
        }
      ]
    },
    {
      "cell_type": "markdown",
      "metadata": {
        "id": "Tcm-Zwi5EGUK"
      },
      "source": [
        "Now the above is a matrix of order [2 x 3]"
      ]
    },
    {
      "cell_type": "markdown",
      "metadata": {
        "id": "YSqfhDtOE8BF"
      },
      "source": [
        "### **Intialization Methods**  "
      ]
    },
    {
      "cell_type": "code",
      "metadata": {
        "colab": {
          "base_uri": "https://localhost:8080/"
        },
        "id": "YQq5kvBBFtVK",
        "outputId": "43507636-ce57-4f75-d891-bace09c12145"
      },
      "source": [
        "x = tf.ones((3,3))\n",
        "print(x)"
      ],
      "execution_count": null,
      "outputs": [
        {
          "output_type": "stream",
          "text": [
            "tf.Tensor(\n",
            "[[1. 1. 1.]\n",
            " [1. 1. 1.]\n",
            " [1. 1. 1.]], shape=(3, 3), dtype=float32)\n"
          ],
          "name": "stdout"
        }
      ]
    },
    {
      "cell_type": "markdown",
      "metadata": {
        "id": "bNhR3eQVGF5g"
      },
      "source": [
        "This will create a 3x3 matrix of 1"
      ]
    },
    {
      "cell_type": "code",
      "metadata": {
        "colab": {
          "base_uri": "https://localhost:8080/"
        },
        "id": "aydfIbImGKH3",
        "outputId": "a1f56d16-df72-40a0-af99-b37ca0e1e5f8"
      },
      "source": [
        "x = tf.zeros([2,3])\n",
        "print(x)"
      ],
      "execution_count": null,
      "outputs": [
        {
          "output_type": "stream",
          "text": [
            "tf.Tensor(\n",
            "[[0. 0. 0.]\n",
            " [0. 0. 0.]], shape=(2, 3), dtype=float32)\n"
          ],
          "name": "stdout"
        }
      ]
    },
    {
      "cell_type": "markdown",
      "metadata": {
        "id": "9lBu9lHJGUPw"
      },
      "source": [
        "This will create a 2x3 matrix containing all zeroes"
      ]
    },
    {
      "cell_type": "code",
      "metadata": {
        "colab": {
          "base_uri": "https://localhost:8080/"
        },
        "id": "v2pESivCGZRy",
        "outputId": "a0c7fea8-3369-4252-a75c-ce67d1ff58bb"
      },
      "source": [
        "x = tf.eye(3)\n",
        "print(x)"
      ],
      "execution_count": null,
      "outputs": [
        {
          "output_type": "stream",
          "text": [
            "tf.Tensor(\n",
            "[[1. 0. 0.]\n",
            " [0. 1. 0.]\n",
            " [0. 0. 1.]], shape=(3, 3), dtype=float32)\n"
          ],
          "name": "stdout"
        }
      ]
    },
    {
      "cell_type": "markdown",
      "metadata": {
        "id": "8SU4wKL2Gx6O"
      },
      "source": [
        "This will print identity matrix of the mentioned order"
      ]
    },
    {
      "cell_type": "code",
      "metadata": {
        "colab": {
          "base_uri": "https://localhost:8080/"
        },
        "id": "iIZREQCoG10L",
        "outputId": "b87cb344-892f-45ce-c26a-4fdfee16be47"
      },
      "source": [
        "x = tf.range(start=1, limit=10, delta=2)\n",
        "print(x)"
      ],
      "execution_count": null,
      "outputs": [
        {
          "output_type": "stream",
          "text": [
            "tf.Tensor([1 3 5 7 9], shape=(5,), dtype=int32)\n"
          ],
          "name": "stdout"
        }
      ]
    },
    {
      "cell_type": "markdown",
      "metadata": {
        "id": "Xgq_qjiOHt8d"
      },
      "source": [
        "This will print range similar to python. In the above case it has jump of 2 after every number."
      ]
    },
    {
      "cell_type": "code",
      "metadata": {
        "colab": {
          "base_uri": "https://localhost:8080/"
        },
        "id": "F-aEjQd8H4Sf",
        "outputId": "52da9a7e-35db-496f-931d-519e4c6d32cc"
      },
      "source": [
        "x = tf.cast(x, dtype=tf.float64)\n",
        "print(x)"
      ],
      "execution_count": null,
      "outputs": [
        {
          "output_type": "stream",
          "text": [
            "tf.Tensor([1. 3. 5. 7. 9.], shape=(5,), dtype=float64)\n"
          ],
          "name": "stdout"
        }
      ]
    },
    {
      "cell_type": "markdown",
      "metadata": {
        "id": "kurjoRMNIVhA"
      },
      "source": [
        "This way we can convert data type into a specific data type."
      ]
    },
    {
      "cell_type": "markdown",
      "metadata": {
        "id": "Ulo3lvt_InY0"
      },
      "source": [
        ""
      ]
    },
    {
      "cell_type": "markdown",
      "metadata": {
        "id": "pKGXMqQgbuQo"
      },
      "source": [
        "# Machine Leanring"
      ]
    },
    {
      "cell_type": "markdown",
      "metadata": {
        "id": "Z-byadvwb0jb"
      },
      "source": [
        "# Deep Learning"
      ]
    },
    {
      "cell_type": "markdown",
      "metadata": {
        "id": "_v9ZQYEUa7Vp"
      },
      "source": [
        "## What is Keras?\n",
        "   "
      ]
    },
    {
      "cell_type": "markdown",
      "metadata": {
        "id": "1W6-MwkEpmEp"
      },
      "source": [
        ">* To Understand about that , First we need to know about Deep Learning.\n",
        ">\n",
        ">* Deep learning is a machine learning technique that teaches computers to do what comes naturally to humans: learn by example. Deep learning is a key technology behind driverless cars, enabling them to recognize a stop sign, or to distinguish a pedestrian from a lamppost. It is the key to voice control in consumer devices like phones, tablets, TVs, and hands-free speakers. Deep learning is getting lots of attention lately and for good reason. It’s achieving results that were not possible before.\n",
        ">\n",
        ">* In deep learning, a computer model learns to perform classification tasks directly from images, text, or sound. Deep learning models can achieve state-of-the-art accuracy, sometimes exceeding human-level performance. Models are trained by using a large set of labeled data and neural network architectures that contain many layers.    "
      ]
    },
    {
      "cell_type": "markdown",
      "metadata": {
        "id": "dhUwQwrAa7Vr"
      },
      "source": [
        "![Alt text](https://databricks.com/wp-content/uploads/2019/04/logo-keras.png)\n",
        "### Keras Deep Learning library with TensorFlow"
      ]
    },
    {
      "cell_type": "markdown",
      "metadata": {
        "id": "Nh9wFghBa7Vr"
      },
      "source": [
        ">Keras is a minimalist, highly modular neural networks library, written in Python and capable of running on top of either TensorFlow or Theano. \n",
        ">\n",
        ">It was developed with a focus on enabling fast experimentation. Being able to go from idea to result with the least possible delay is key to doing good research.\n",
        "ref: https://keras.io/"
      ]
    },
    {
      "cell_type": "markdown",
      "metadata": {
        "id": "GHZoaq8ea7Vs"
      },
      "source": [
        "#### Why Keras?\n",
        "\n",
        ">Keras is an API designed for human beings, not machines. Keras follows best practices for reducing cognitive load: it offers consistent & simple APIs, it minimizes the number of user actions required for common use cases, and it provides clear and actionable feedback upon user error.\n",
        "    >\n",
        ">This makes Keras easy to learn and easy to use. As a Keras user, you are more productive, allowing you to try more ideas than your competition, faster -- which in turn helps you win machine learning competitions.\n",
        "    >\n",
        ">This ease of use does not come at the cost of reduced flexibility: because Keras integrates with lower-level deep learning languages (in particular TensorFlow), it enables you to implement anything you could have built in the base language. In particular, as tf.keras, the Keras API integrates seamlessly with your TensorFlow workflows.\n"
      ]
    },
    {
      "cell_type": "markdown",
      "metadata": {
        "id": "5OqKHZi_a7Vt"
      },
      "source": [
        "#### Keras Working Pipeline"
      ]
    },
    {
      "cell_type": "markdown",
      "metadata": {
        "id": "e09DMramgJUd"
      },
      "source": [
        "![Alt text](https://blog.keras.io/img/keras-tensorflow-logo.jpg)"
      ]
    },
    {
      "cell_type": "markdown",
      "metadata": {
        "id": "kmR1CNXUa7Vu"
      },
      "source": [
        "### MODEL Definition\n",
        "There are two types of models available in Keras: the Sequential model and the Model class used with functional API.\n"
      ]
    },
    {
      "cell_type": "markdown",
      "metadata": {
        "id": "t5f7Gt30a7Vu"
      },
      "source": [
        "#### Sequential Model"
      ]
    },
    {
      "cell_type": "markdown",
      "metadata": {
        "id": "ZFqVNZ0Ba7Vu"
      },
      "source": [
        "<div class=\"alert alert-block alert-warning\">\n",
        "The simplest model is defined in the Sequential class which is a linear stack of Layers. You can create a Sequential model and define all of the layers in the constructor, for example: \n",
        "       \n",
        "       from keras.models import Sequential\n",
        "       model = Sequential(...)\n",
        "\n",
        "A more useful idiom is to create a Sequential model and add your layers in the order of the computation you wish to perform, for example:       \n",
        "       \n",
        "       from keras.models import Sequential\n",
        "       model = Sequential()\n",
        "       model.add(...)\n",
        "       model.add(...)\n",
        "       model.add(...)"
      ]
    },
    {
      "cell_type": "markdown",
      "metadata": {
        "id": "mkjVjWkua7Vv"
      },
      "source": [
        "#### Functional API"
      ]
    },
    {
      "cell_type": "markdown",
      "metadata": {
        "id": "1mZ-i-HYa7Vv"
      },
      "source": [
        "<div class=\"alert alert-block alert-warning\">\n",
        "The Keras functional API provides a more flexible way for defining models.\n",
        "\n",
        "It specifically allows you to define multiple input or output models as well as models that share layers. More than that, it allows you to define ad hoc acyclic network graphs.\n",
        "\n",
        "Models are defined by creating instances of layers and connecting them directly to each other in pairs, then defining a Model that specifies the layers to act as the input and output to the model,For Example:\n",
        "\n",
        "                         inputs = Input(shape=(3,))\n",
        "                         x = Dense(50, activation='relu')(inputs)\n",
        "                         output = Dense(1, activation = 'sigmoid')(x)\n",
        "                         n_net = Model(inputs, output)\n",
        "                         n_net.compile(optimizer='adam', loss='binary_crossentropy', metrics=['accuracy'])\n",
        "                         n_net.fit(x=dat_train, y=y_classifier_train, epochs=10,\n",
        "                         verbose=1, validation_data=(dat_test, y_classifier_test))"
      ]
    },
    {
      "cell_type": "markdown",
      "metadata": {
        "id": "U-I467a8a7Vv"
      },
      "source": [
        "### Model Compilation"
      ]
    },
    {
      "cell_type": "markdown",
      "metadata": {
        "id": "wHfyPrJ5a7Vw"
      },
      "source": [
        ">Before training a model, you need to configure the learning process, which is done via the compile method. It receives three arguments:\n",
        ">\n",
        ">* An optimizer. This could be the string identifier of an existing optimizer (such as rmsprop or adagrad), or an instance of the Optimizer class. See: optimizers.\n",
        ">* A loss function. This is the objective that the model will try to minimize. It can be the string identifier of an existing loss function (such as categorical_crossentropy or mse), or it can be an objective function. See: losses.\n",
        ">* A list of metrics. For any classification problem you will want to set this to metrics=['accuracy']. A metric could be the string identifier of an existing metric or a custom metric function.\n"
      ]
    },
    {
      "cell_type": "markdown",
      "metadata": {
        "id": "WtE4MAVha7Vw"
      },
      "source": [
        "#### For a multi-class classification problem\n",
        "model.compile(optimizer='rmsprop',\n",
        "              loss='categorical_crossentropy',\n",
        "              metrics=['accuracy'])\n",
        "\n",
        "### For a binary classification problem\n",
        "model.compile(optimizer='rmsprop',\n",
        "              loss='binary_crossentropy',\n",
        "              metrics=['accuracy'])\n",
        "\n",
        "### For a mean squared error regression problem\n",
        "model.compile(optimizer='rmsprop',\n",
        "              loss='mse')\n",
        "\n",
        "### For custom metrics\n",
        "import keras.backend as K\n",
        "\n",
        "def mean_pred(y_true, y_pred):\n",
        "    return K.mean(y_pred)\n",
        "\n",
        "model.compile(optimizer='rmsprop',\n",
        "              loss='binary_crossentropy',\n",
        "              metrics=['accuracy', mean_pred])"
      ]
    },
    {
      "cell_type": "markdown",
      "metadata": {
        "id": "J3y6tn8da7V2"
      },
      "source": [
        "### Applications\n",
        "Keras Applications are deep learning models that are made available alongside pre-trained weights. These models can be used for prediction, feature extraction, and fine-tuning.\n",
        "\n",
        "Weights are downloaded automatically when instantiating a model. They are stored at ~/.keras/models/."
      ]
    },
    {
      "cell_type": "markdown",
      "metadata": {
        "id": "MW__Rj-sg03d"
      },
      "source": [
        "## Neural Networks\n"
      ]
    },
    {
      "cell_type": "markdown",
      "metadata": {
        "id": "6D2tTd7bg5ld"
      },
      "source": [
        "![NN](https://i2.wp.com/vinodsblog.com/wp-content/uploads/2019/01/recurrent-neural-networks-4259348843-1549021778666.png?resize=1300%2C650&ssl=1)"
      ]
    },
    {
      "cell_type": "markdown",
      "metadata": {
        "id": "Curz4PCzhBHM"
      },
      "source": [
        "Neural networks are artificial systems that were inspired by biological neural networks. These systems learn to perform tasks by being exposed to various datasets and examples without any task-specific rules. The idea is that the system generates identifying characteristics from the data they have been passed without being programmed with a pre-programmed understanding of these datasets."
      ]
    },
    {
      "cell_type": "markdown",
      "metadata": {
        "id": "vzHE8NyjiCOV"
      },
      "source": [
        "Neural networks are based on computational models for threshold logic. Threshold logic is a combination of algorithms and mathematics. Neural networks are based either on the study of the brain or on the application of neural networks to artificial intelligence. The work has led to improvements in finite automata theory."
      ]
    },
    {
      "cell_type": "markdown",
      "metadata": {
        "id": "VI1iaFKaiXcJ"
      },
      "source": [
        "Components of a typical neural network involve neurons, connections, weights, biases, propagation function, and a learning rule. Neurons will receive an input p_j(t) from predecessor neurons that have an activation a_j(t), threshold $\\theta$_j, an activation function f, and an output function f_{out}. Connections consist of connections, weights and biases which rules how neuron $i$ transfers output to neuron $j$. Propagation computes the input and outputs the output and sums the predecessor neurons function with the weight. The learning rule modifies the weights and thresholds of the variables in the network."
      ]
    },
    {
      "cell_type": "markdown",
      "metadata": {
        "id": "xV2SOLsQiago"
      },
      "source": [
        "**Supervised vs Unsupervised Learning:**\n",
        "\n",
        "* Neural networks learn via supervised learning; \n",
        "\n",
        "* Supervised machine learning involves an input variable x and output variable y. The algorithm learns from a training dataset. With each correct answers, algorithms iteratively make predictions on the data. The learning stops when the algorithm reaches an acceptable level of performance.\n",
        "Unsupervised machine learning has input data X and no corresponding output variables. The goal is to model the underlying structure of the data for understanding more about the data. The keywords for supervised machine learning are classification and regression. For unsupervised machine learning, the keywords are clustering and association."
      ]
    },
    {
      "cell_type": "markdown",
      "metadata": {
        "id": "kdmDr0Xdit9d"
      },
      "source": [
        "**Evolution of Neural Networks:**\n",
        "\n",
        "Hebbian learning deals with neural plasticity. Hebbian learning is unsupervised and deals with long term potentiation. Hebbian learning deals with pattern recognition and exclusive-or circuits; deals with if-then rules.\n",
        "\n",
        "Back propagation solved the exclusive-or issue that Hebbian learning could not handle. This also allowed for multi-layer networks to be feasible and efficient. If an error was found, the error was solved at each layer by modifying the weights at each node. This led to the development of support vector machines, linear classifiers, and max-pooling. The vanishing gradient problem affects feedforward networks that use back propagation and recurrent neural network. This is known as deep-learning.\n",
        "\n",
        "Hardware-based designs are used for biophysical simulation and neurotrophic computing. They have large scale component analysis and convolution creates new class of neural computing with analog. This also solved back-propagation for many-layered feedforward neural networks.\n",
        "\n",
        "Convolutional networks are used for alternating between convolutional layers and max-pooling layers with connected layers (fully or sparsely connected) with a final classification layer. The learning is done without unsupervised pre-training. Each filter is equivalent to a weights vector that has to be trained. The shift variance has to be guaranteed to dealing with small and large neural networks. This is being resolved in Development Networks."
      ]
    },
    {
      "cell_type": "markdown",
      "metadata": {
        "id": "u9Yej_85jWg0"
      },
      "source": [
        "**Types of Neural Networks:**\n",
        "\n",
        "There are seven types of neural networks that can be used.\n",
        "\n",
        ">* The first is a multilayer perceptron which has three or more layers and uses a nonlinear activation function.\n",
        ">\n",
        ">* The second is the convolutional neural network that uses a variation of the multilayer perceptrons.\n",
        ">\n",
        ">* The third is the recursive neural network that uses weights to make structured predictions.\n",
        ">\n",
        ">* The fourth is a recurrent neural network that makes connections between the neurons in a directed cycle. The long short-term memory neural network uses the recurrent neural network architecture and does not use activation function.\n",
        ">\n",
        ">* The final two are sequence to sequence modules which uses two recurrent networks and shallow neural networks which produces a vector space from an amount of text. These neural networks are applications of the basic neural network demonstrated below."
      ]
    },
    {
      "cell_type": "markdown",
      "metadata": {
        "id": "mMTVC4jfk65V"
      },
      "source": [
        "## Convolutional neural network(CNN)"
      ]
    },
    {
      "cell_type": "markdown",
      "metadata": {
        "id": "ir14WO2ZlBTD"
      },
      "source": [
        "* As we discussed about various types of Neural Networks.\n",
        "* CNN is one of those."
      ]
    },
    {
      "cell_type": "markdown",
      "metadata": {
        "id": "CQ3s5_AulPSV"
      },
      "source": [
        "**Convolutional neural network (ConvNets or CNNs) is one of the main categories to do images recognition, images classifications. Objects detections, recognition faces etc.,**"
      ]
    },
    {
      "cell_type": "markdown",
      "metadata": {
        "id": "HiT8ea_HleS6"
      },
      "source": [
        "![cnn](https://i1.wp.com/www.michaelchimenti.com/wp-content/uploads/2017/11/Deep-Neural-Network-What-is-Deep-Learning-Edureka.png)"
      ]
    },
    {
      "cell_type": "markdown",
      "metadata": {
        "id": "z218TJ-UlvDp"
      },
      "source": [
        "***CNN image classifications takes an input image, process it and classify it under certain categories (Eg., Dog, Cat, Tiger, Lion). Computers sees an input image as array of pixels and it depends on the image resolution. Based on the image resolution, it will see h x w x d( h = Height, w = Width, d = Dimension ). Eg., An image of 6 x 6 x 3 array of matrix of RGB (3 refers to RGB values) and an image of 4 x 4 x 1 array of matrix of grayscale image.***"
      ]
    },
    {
      "cell_type": "markdown",
      "metadata": {
        "id": "oD3FLUnCmDWT"
      },
      "source": [
        "**Technically, deep learning CNN models to train and test, each input image will pass it through a series of convolution layers with filters (Kernals), Pooling, fully connected layers (FC) and apply Softmax function to classify an object with probabilistic values between 0 and 1. The below figure is a complete flow of CNN to process an input image and classifies the objects based on values.**"
      ]
    },
    {
      "cell_type": "markdown",
      "metadata": {
        "id": "viL_nTeimJzj"
      },
      "source": [
        "![](https://miro.medium.com/max/1400/1*XbuW8WuRrAY5pC4t-9DZAQ.jpeg)"
      ]
    },
    {
      "cell_type": "markdown",
      "metadata": {
        "id": "xqos-k5Jmd-M"
      },
      "source": [
        "**Convolution Layer**\n",
        "\n",
        "* Convolution is the first layer to extract features from an input image. Convolution preserves the relationship between pixels by learning image features using small squares of input data. It is a mathematical operation that takes two inputs such as image matrix and a filter or kernel.\n",
        "![](https://miro.medium.com/max/576/1*kYSsNpy0b3fIonQya66VSQ.png)\n",
        "* Consider a 5 x 5 whose image pixel values are 0, 1 and filter matrix 3 x 3 as shown in below\n",
        "![](https://miro.medium.com/max/516/1*4yv0yIH0nVhSOv3AkLUIiw.png)\n",
        "* Then the convolution of 5 x 5 image matrix multiplies with 3 x 3 filter matrix which is called “Feature Map” as output shown in below.\n",
        "![](https://miro.medium.com/max/335/1*MrGSULUtkXc0Ou07QouV8A.gif)\n",
        "* Convolution of an image with different filters can perform operations such as edge detection, blur and sharpen by applying filters. The below example shows various convolution image after applying different types of filters (Kernels).\n",
        "\n",
        "**Strides**\n",
        "* Stride is the number of pixels shifts over the input matrix. When the stride is 1 then we move the filters to 1 pixel at a time. When the stride is 2 then we move the filters to 2 pixels at a time and so on. The below figure shows convolution would work with a stride of 2.\n",
        "![](https://miro.medium.com/max/869/1*nGHLq1hx0gt02OK4l8WmRg.png)\n",
        "\n",
        "**Padding**\n",
        "\n",
        "Sometimes filter does not fit perfectly fit the input image. We have two options:\n",
        "* Pad the picture with zeros (zero-padding) so that it fits\n",
        "* Drop the part of the image where the filter did not fit. This is called valid padding which keeps only valid part of the image.\n",
        "\n",
        "**Non Linearity (ReLU)**\n",
        "\n",
        "* ReLU stands for Rectified Linear Unit for a non-linear operation. The output is **ƒ(x) = max(0,x)**.\n",
        "\n",
        "* Why ReLU is important : ReLU’s purpose is to introduce non-linearity in our ConvNet. Since, the real world data would want our ConvNet to learn would be non-negative linear values.\n",
        "![](https://miro.medium.com/max/561/1*gcvuKm3nUePXwUOLXfLIMQ.png)\n",
        "* There are other non linear functions such as tanh or sigmoid that can also be used instead of ReLU. Most of the data scientists use ReLU since performance wise ReLU is better than the other two.\n",
        "\n",
        "**Pooling Layer**\n",
        "\n",
        "Pooling layers section would reduce the number of parameters when the images are too large. Spatial pooling also called subsampling or downsampling which reduces the dimensionality of each map but retains important information. Spatial pooling can be of different types:\n",
        "* Max Pooling\n",
        "* Average Pooling\n",
        "* Sum Pooling\n",
        "\n",
        "Max pooling takes the largest element from the rectified feature map. Taking the largest element could also take the average pooling. Sum of all elements in the feature map call as sum pooling.\n",
        "![](https://miro.medium.com/max/753/1*SmiydxM5lbTjoKWYPiuzWQ.png)\n",
        "\n",
        "**Fully Connected Layer**\n",
        "\n",
        "The layer we call as FC layer, we flattened our matrix into vector and feed it into a fully connected layer like a neural network.\n",
        "![](https://miro.medium.com/max/693/1*Mw6LKUG8AWQhG73H1caT8w.png)\n",
        "\n",
        "In the above diagram, the feature map matrix will be converted as vector (x1, x2, x3, …). With the fully connected layers, we combined these features together to create a model. Finally, we have an activation function such as softmax or sigmoid to classify the outputs as cat, dog, car, truck etc.,\n",
        "![](https://miro.medium.com/max/875/1*4GLv7_4BbKXnpc6BRb0Aew.png)"
      ]
    },
    {
      "cell_type": "markdown",
      "metadata": {
        "id": "4UFr3OtdpdFY"
      },
      "source": [
        ""
      ]
    },
    {
      "cell_type": "markdown",
      "metadata": {
        "id": "xOV-VYXgqGRq"
      },
      "source": [
        "## CNN Code Implementation"
      ]
    },
    {
      "cell_type": "markdown",
      "metadata": {
        "id": "dKPo1Zh1qJc3"
      },
      "source": [
        "**Problem Definition**\n",
        "\n",
        "**Recognize handwritten digits**\n",
        "\n",
        "![](https://external-content.duckduckgo.com/iu/?u=https%3A%2F%2Ftse3.mm.bing.net%2Fth%3Fid%3DOIP.nLmRwwdIph2KOrNlxF16vwAAAA%26pid%3DApi&f=1)"
      ]
    },
    {
      "cell_type": "markdown",
      "metadata": {
        "id": "4OKP7kjwqvMn"
      },
      "source": [
        "**Data**\n",
        "\n",
        "The MNIST database ([link](http://yann.lecun.com/exdb/mnist)) has a database of handwritten digits. \n",
        "\n",
        "The training set has $60,000$ samples. \n",
        "\n",
        "The test set has $10,000$ samples.\n",
        "\n",
        "The digits are size-normalized and centered in a fixed-size image. \n",
        "\n",
        "The data page has description on how the data was collected. It also has reports the benchmark of various algorithms on the test dataset. "
      ]
    },
    {
      "cell_type": "markdown",
      "metadata": {
        "id": "r26QHjf_q1S3"
      },
      "source": [
        "**Load Data**"
      ]
    },
    {
      "cell_type": "code",
      "metadata": {
        "id": "AYb653q7seYy"
      },
      "source": [
        "from keras.datasets import mnist\n",
        "#download mnist data and split into train and test sets\n",
        "(X_train, y_train), (X_test, y_test) = mnist.load_data()"
      ],
      "execution_count": null,
      "outputs": []
    },
    {
      "cell_type": "code",
      "metadata": {
        "colab": {
          "base_uri": "https://localhost:8080/",
          "height": 282
        },
        "id": "8Z9nwlUHtiq-",
        "outputId": "2dfb34f0-1675-4ce7-caff-a05547f2a174"
      },
      "source": [
        "import matplotlib.pyplot as plt\n",
        "#plot the first image in the dataset\n",
        "plt.imshow(X_train[0])"
      ],
      "execution_count": null,
      "outputs": [
        {
          "output_type": "execute_result",
          "data": {
            "text/plain": [
              "<matplotlib.image.AxesImage at 0x7fb01556c450>"
            ]
          },
          "metadata": {
            "tags": []
          },
          "execution_count": 10
        },
        {
          "output_type": "display_data",
          "data": {
            "image/png": "[encoded data removed]",
            "text/plain": [
              "<Figure size 432x288 with 1 Axes>"
            ]
          },
          "metadata": {
            "tags": [],
            "needs_background": "light"
          }
        }
      ]
    },
    {
      "cell_type": "code",
      "metadata": {
        "colab": {
          "base_uri": "https://localhost:8080/"
        },
        "id": "9AYUvo_PtpTU",
        "outputId": "f5648a9e-080f-4038-d7d5-c85ba5e70fc0"
      },
      "source": [
        "#check image shape\n",
        "X_train[0].shape"
      ],
      "execution_count": null,
      "outputs": [
        {
          "output_type": "execute_result",
          "data": {
            "text/plain": [
              "(28, 28)"
            ]
          },
          "metadata": {
            "tags": []
          },
          "execution_count": 11
        }
      ]
    },
    {
      "cell_type": "code",
      "metadata": {
        "id": "YrMgBACRtsQK"
      },
      "source": [
        "#reshape data to fit model\n",
        "X_train = X_train.reshape(60000,28,28,1)\n",
        "X_test = X_test.reshape(10000,28,28,1)"
      ],
      "execution_count": null,
      "outputs": []
    },
    {
      "cell_type": "code",
      "metadata": {
        "colab": {
          "base_uri": "https://localhost:8080/"
        },
        "id": "BThk08DXtvuY",
        "outputId": "4279d7f1-37e7-4809-c288-b7fa25637c83"
      },
      "source": [
        "from tensorflow.keras.utils import to_categorical\n",
        "#one-hot encode target column\n",
        "y_train = to_categorical(y_train)\n",
        "y_test = to_categorical(y_test)\n",
        "y_train[0]"
      ],
      "execution_count": null,
      "outputs": [
        {
          "output_type": "execute_result",
          "data": {
            "text/plain": [
              "array([0., 0., 0., 0., 0., 1., 0., 0., 0., 0.], dtype=float32)"
            ]
          },
          "metadata": {
            "tags": []
          },
          "execution_count": 16
        }
      ]
    },
    {
      "cell_type": "code",
      "metadata": {
        "id": "b06_8wEHuCTg"
      },
      "source": [
        "from keras.models import Sequential\n",
        "from keras.layers import Dense, Conv2D, Flatten\n",
        "#create model\n",
        "model = Sequential()\n",
        "#add model layers\n",
        "model.add(Conv2D(64, kernel_size=3, activation='relu', input_shape=(28,28,1)))\n",
        "model.add(Conv2D(32, kernel_size=3, activation='relu'))\n",
        "model.add(Flatten())\n",
        "model.add(Dense(10, activation='softmax'))"
      ],
      "execution_count": null,
      "outputs": []
    },
    {
      "cell_type": "code",
      "metadata": {
        "id": "dWlPLCxBuOWN"
      },
      "source": [
        "#compile model using accuracy to measure model performance\n",
        "model.compile(optimizer='adam', loss='categorical_crossentropy', metrics=['accuracy'])"
      ],
      "execution_count": null,
      "outputs": []
    },
    {
      "cell_type": "code",
      "metadata": {
        "colab": {
          "base_uri": "https://localhost:8080/"
        },
        "id": "U4f4hlUVuRKf",
        "outputId": "8ed98b7d-6fcd-41c1-eb86-960158b50510"
      },
      "source": [
        "#train the model\n",
        "model.fit(X_train, y_train, validation_data=(X_test, y_test), epochs=3)"
      ],
      "execution_count": null,
      "outputs": [
        {
          "output_type": "stream",
          "text": [
            "Epoch 1/3\n",
            "1875/1875 [==============================] - 175s 86ms/step - loss: 0.6696 - accuracy: 0.9159 - val_loss: 0.0891 - val_accuracy: 0.9718\n",
            "Epoch 2/3\n",
            "1875/1875 [==============================] - 161s 86ms/step - loss: 0.0653 - accuracy: 0.9804 - val_loss: 0.0671 - val_accuracy: 0.9792\n",
            "Epoch 3/3\n",
            "1529/1875 [=======================>......] - ETA: 28s - loss: 0.0367 - accuracy: 0.9879"
          ],
          "name": "stdout"
        }
      ]
    },
    {
      "cell_type": "code",
      "metadata": {
        "colab": {
          "base_uri": "https://localhost:8080/"
        },
        "id": "5L5CUT6ruVtg",
        "outputId": "299f8014-3057-4a47-c6b9-fe3dffce0e10"
      },
      "source": [
        "#predict first 4 images in the test set\n",
        "model.predict(X_test[:4])\n",
        "#We can see that our model predicted 7, 2, 1 and 0 for the first four images."
      ],
      "execution_count": null,
      "outputs": [
        {
          "output_type": "execute_result",
          "data": {
            "text/plain": [
              "array([[6.3539533e-13, 7.0889677e-21, 3.4097174e-09, 2.8456363e-06,\n",
              "        5.2012079e-18, 7.1434132e-16, 3.5973449e-19, 9.9999714e-01,\n",
              "        1.9834703e-11, 1.5620637e-11],\n",
              "       [3.6415069e-13, 4.4966114e-12, 1.0000000e+00, 1.2004469e-14,\n",
              "        2.5530888e-18, 1.3625247e-19, 4.7619228e-08, 1.8187147e-21,\n",
              "        2.4556088e-11, 7.2342202e-19],\n",
              "       [5.2357302e-07, 9.9922395e-01, 6.0951940e-08, 1.0005252e-10,\n",
              "        6.3648535e-05, 3.5679033e-08, 7.0937148e-08, 6.9035366e-07,\n",
              "        7.1089470e-04, 1.1260731e-07],\n",
              "       [9.9999988e-01, 1.1731033e-15, 1.8327707e-08, 4.5582496e-12,\n",
              "        1.3764953e-10, 2.3421560e-12, 8.4785754e-08, 5.1673808e-12,\n",
              "        1.2793643e-10, 3.1415890e-09]], dtype=float32)"
            ]
          },
          "metadata": {
            "tags": []
          },
          "execution_count": 22
        }
      ]
    },
    {
      "cell_type": "code",
      "metadata": {
        "colab": {
          "base_uri": "https://localhost:8080/"
        },
        "id": "393pZD2MwYCC",
        "outputId": "68bd82f9-b297-4334-bdf2-0a4690286ecc"
      },
      "source": [
        "#actual results for first 4 images in test set\n",
        "y_test[:4]"
      ],
      "execution_count": null,
      "outputs": [
        {
          "output_type": "execute_result",
          "data": {
            "text/plain": [
              "array([[0., 0., 0., 0., 0., 0., 0., 1., 0., 0.],\n",
              "       [0., 0., 1., 0., 0., 0., 0., 0., 0., 0.],\n",
              "       [0., 1., 0., 0., 0., 0., 0., 0., 0., 0.],\n",
              "       [1., 0., 0., 0., 0., 0., 0., 0., 0., 0.]], dtype=float32)"
            ]
          },
          "metadata": {
            "tags": []
          },
          "execution_count": 23
        }
      ]
    }
  ]
}