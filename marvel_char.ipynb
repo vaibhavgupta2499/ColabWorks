{
  "nbformat": 4,
  "nbformat_minor": 0,
  "metadata": {
    "colab": {
      "name": "marvel_char.ipynb",
      "provenance": [],
      "collapsed_sections": [],
      "mount_file_id": "1Kwu-cGZaNhs5Akh9WEnC71fvQdgoUKfb",
      "authorship_tag": "ABX9TyNMnXon6Gh+0dv5lV96QgQZ",
      "include_colab_link": true
    },
    "kernelspec": {
      "name": "python3",
      "display_name": "Python 3"
    },
    "language_info": {
      "name": "python"
    }
  },
  "cells": [
    {
      "cell_type": "markdown",
      "metadata": {
        "id": "view-in-github",
        "colab_type": "text"
      },
      "source": [
        "<a href=\"https://colab.research.google.com/github/vaibhavgupta2499/ColabWorks/blob/main/marvel_char.ipynb\" target=\"_parent\"><img src=\"https://colab.research.google.com/assets/colab-badge.svg\" alt=\"Open In Colab\"/></a>"
      ]
    },
    {
      "cell_type": "code",
      "metadata": {
        "id": "OXjkwQb2GGpb"
      },
      "source": [
        "import numpy as np\n",
        "import pandas as pd\n",
        "import matplotlib.pyplot as plt"
      ],
      "execution_count": 1,
      "outputs": []
    },
    {
      "cell_type": "code",
      "metadata": {
        "id": "c3rBqSYTGS1a"
      },
      "source": [
        "df=pd.read_csv('/content/drive/MyDrive/marvelCharactersDataset/charcters_stats.csv')"
      ],
      "execution_count": 2,
      "outputs": []
    },
    {
      "cell_type": "code",
      "metadata": {
        "colab": {
          "base_uri": "https://localhost:8080/",
          "height": 417
        },
        "id": "3N6F5hvoG-Mu",
        "outputId": "9f5f8f93-ebd7-4822-e980-5c3868434167"
      },
      "source": [
        "df"
      ],
      "execution_count": 3,
      "outputs": [
        {
          "output_type": "execute_result",
          "data": {
            "text/html": [
              "<div>\n",
              "<style scoped>\n",
              "    .dataframe tbody tr th:only-of-type {\n",
              "        vertical-align: middle;\n",
              "    }\n",
              "\n",
              "    .dataframe tbody tr th {\n",
              "        vertical-align: top;\n",
              "    }\n",
              "\n",
              "    .dataframe thead th {\n",
              "        text-align: right;\n",
              "    }\n",
              "</style>\n",
              "<table border=\"1\" class=\"dataframe\">\n",
              "  <thead>\n",
              "    <tr style=\"text-align: right;\">\n",
              "      <th></th>\n",
              "      <th>Name</th>\n",
              "      <th>Alignment</th>\n",
              "      <th>Intelligence</th>\n",
              "      <th>Strength</th>\n",
              "      <th>Speed</th>\n",
              "      <th>Durability</th>\n",
              "      <th>Power</th>\n",
              "      <th>Combat</th>\n",
              "      <th>Total</th>\n",
              "    </tr>\n",
              "  </thead>\n",
              "  <tbody>\n",
              "    <tr>\n",
              "      <th>0</th>\n",
              "      <td>3-D Man</td>\n",
              "      <td>good</td>\n",
              "      <td>50</td>\n",
              "      <td>31</td>\n",
              "      <td>43</td>\n",
              "      <td>32</td>\n",
              "      <td>25</td>\n",
              "      <td>52</td>\n",
              "      <td>233</td>\n",
              "    </tr>\n",
              "    <tr>\n",
              "      <th>1</th>\n",
              "      <td>A-Bomb</td>\n",
              "      <td>good</td>\n",
              "      <td>38</td>\n",
              "      <td>100</td>\n",
              "      <td>17</td>\n",
              "      <td>80</td>\n",
              "      <td>17</td>\n",
              "      <td>64</td>\n",
              "      <td>316</td>\n",
              "    </tr>\n",
              "    <tr>\n",
              "      <th>2</th>\n",
              "      <td>Abe Sapien</td>\n",
              "      <td>good</td>\n",
              "      <td>88</td>\n",
              "      <td>14</td>\n",
              "      <td>35</td>\n",
              "      <td>42</td>\n",
              "      <td>35</td>\n",
              "      <td>85</td>\n",
              "      <td>299</td>\n",
              "    </tr>\n",
              "    <tr>\n",
              "      <th>3</th>\n",
              "      <td>Abin Sur</td>\n",
              "      <td>good</td>\n",
              "      <td>50</td>\n",
              "      <td>90</td>\n",
              "      <td>53</td>\n",
              "      <td>64</td>\n",
              "      <td>84</td>\n",
              "      <td>65</td>\n",
              "      <td>406</td>\n",
              "    </tr>\n",
              "    <tr>\n",
              "      <th>4</th>\n",
              "      <td>Abomination</td>\n",
              "      <td>bad</td>\n",
              "      <td>63</td>\n",
              "      <td>80</td>\n",
              "      <td>53</td>\n",
              "      <td>90</td>\n",
              "      <td>55</td>\n",
              "      <td>95</td>\n",
              "      <td>436</td>\n",
              "    </tr>\n",
              "    <tr>\n",
              "      <th>...</th>\n",
              "      <td>...</td>\n",
              "      <td>...</td>\n",
              "      <td>...</td>\n",
              "      <td>...</td>\n",
              "      <td>...</td>\n",
              "      <td>...</td>\n",
              "      <td>...</td>\n",
              "      <td>...</td>\n",
              "      <td>...</td>\n",
              "    </tr>\n",
              "    <tr>\n",
              "      <th>606</th>\n",
              "      <td>Yellowjacket</td>\n",
              "      <td>good</td>\n",
              "      <td>88</td>\n",
              "      <td>10</td>\n",
              "      <td>12</td>\n",
              "      <td>28</td>\n",
              "      <td>12</td>\n",
              "      <td>14</td>\n",
              "      <td>164</td>\n",
              "    </tr>\n",
              "    <tr>\n",
              "      <th>607</th>\n",
              "      <td>Yellowjacket II</td>\n",
              "      <td>good</td>\n",
              "      <td>50</td>\n",
              "      <td>10</td>\n",
              "      <td>35</td>\n",
              "      <td>28</td>\n",
              "      <td>31</td>\n",
              "      <td>28</td>\n",
              "      <td>182</td>\n",
              "    </tr>\n",
              "    <tr>\n",
              "      <th>608</th>\n",
              "      <td>Ymir</td>\n",
              "      <td>good</td>\n",
              "      <td>50</td>\n",
              "      <td>100</td>\n",
              "      <td>27</td>\n",
              "      <td>100</td>\n",
              "      <td>83</td>\n",
              "      <td>28</td>\n",
              "      <td>388</td>\n",
              "    </tr>\n",
              "    <tr>\n",
              "      <th>609</th>\n",
              "      <td>Zatanna</td>\n",
              "      <td>good</td>\n",
              "      <td>75</td>\n",
              "      <td>10</td>\n",
              "      <td>23</td>\n",
              "      <td>28</td>\n",
              "      <td>100</td>\n",
              "      <td>56</td>\n",
              "      <td>292</td>\n",
              "    </tr>\n",
              "    <tr>\n",
              "      <th>610</th>\n",
              "      <td>Zoom</td>\n",
              "      <td>bad</td>\n",
              "      <td>50</td>\n",
              "      <td>10</td>\n",
              "      <td>100</td>\n",
              "      <td>28</td>\n",
              "      <td>72</td>\n",
              "      <td>28</td>\n",
              "      <td>288</td>\n",
              "    </tr>\n",
              "  </tbody>\n",
              "</table>\n",
              "<p>611 rows × 9 columns</p>\n",
              "</div>"
            ],
            "text/plain": [
              "                Name Alignment  Intelligence  ...  Power  Combat  Total\n",
              "0            3-D Man      good            50  ...     25      52    233\n",
              "1             A-Bomb      good            38  ...     17      64    316\n",
              "2         Abe Sapien      good            88  ...     35      85    299\n",
              "3           Abin Sur      good            50  ...     84      65    406\n",
              "4        Abomination       bad            63  ...     55      95    436\n",
              "..               ...       ...           ...  ...    ...     ...    ...\n",
              "606     Yellowjacket      good            88  ...     12      14    164\n",
              "607  Yellowjacket II      good            50  ...     31      28    182\n",
              "608             Ymir      good            50  ...     83      28    388\n",
              "609          Zatanna      good            75  ...    100      56    292\n",
              "610             Zoom       bad            50  ...     72      28    288\n",
              "\n",
              "[611 rows x 9 columns]"
            ]
          },
          "metadata": {
            "tags": []
          },
          "execution_count": 3
        }
      ]
    },
    {
      "cell_type": "code",
      "metadata": {
        "colab": {
          "base_uri": "https://localhost:8080/"
        },
        "id": "EuYGsMgUG_Fi",
        "outputId": "97ac2990-f11d-4236-d91e-e24ce5dfc346"
      },
      "source": [
        "for x in list(df.columns):\n",
        "  print(x+' - '+str(df[x].isnull().sum()))"
      ],
      "execution_count": 6,
      "outputs": [
        {
          "output_type": "stream",
          "text": [
            "Name - 0\n",
            "Alignment - 3\n",
            "Intelligence - 0\n",
            "Strength - 0\n",
            "Speed - 0\n",
            "Durability - 0\n",
            "Power - 0\n",
            "Combat - 0\n",
            "Total - 0\n"
          ],
          "name": "stdout"
        }
      ]
    },
    {
      "cell_type": "code",
      "metadata": {
        "colab": {
          "base_uri": "https://localhost:8080/"
        },
        "id": "Djx6LQabH809",
        "outputId": "3fb43a38-177d-433f-be81-288208ebc5c1"
      },
      "source": [
        "df.Alignment.unique()"
      ],
      "execution_count": 8,
      "outputs": [
        {
          "output_type": "execute_result",
          "data": {
            "text/plain": [
              "array(['good', 'bad', nan, 'neutral'], dtype=object)"
            ]
          },
          "metadata": {
            "tags": []
          },
          "execution_count": 8
        }
      ]
    },
    {
      "cell_type": "code",
      "metadata": {
        "id": "YUHzOGp8HMaY"
      },
      "source": [
        "df['Alignment'].fillna('neutral',inplace=True)"
      ],
      "execution_count": 9,
      "outputs": []
    },
    {
      "cell_type": "code",
      "metadata": {
        "colab": {
          "base_uri": "https://localhost:8080/"
        },
        "id": "5_AjavIWIflZ",
        "outputId": "9e0f2bdc-4ded-4fe1-8895-63eb8225d7a2"
      },
      "source": [
        "df['Alignment'].isnull().sum()"
      ],
      "execution_count": 10,
      "outputs": [
        {
          "output_type": "execute_result",
          "data": {
            "text/plain": [
              "0"
            ]
          },
          "metadata": {
            "tags": []
          },
          "execution_count": 10
        }
      ]
    },
    {
      "cell_type": "code",
      "metadata": {
        "colab": {
          "base_uri": "https://localhost:8080/"
        },
        "id": "CrUUGF5-IjE8",
        "outputId": "2b7560ed-9495-4027-ef5d-674ada98347d"
      },
      "source": [
        "df.Alignment.unique()"
      ],
      "execution_count": 11,
      "outputs": [
        {
          "output_type": "execute_result",
          "data": {
            "text/plain": [
              "array(['good', 'bad', 'neutral'], dtype=object)"
            ]
          },
          "metadata": {
            "tags": []
          },
          "execution_count": 11
        }
      ]
    },
    {
      "cell_type": "code",
      "metadata": {
        "colab": {
          "base_uri": "https://localhost:8080/"
        },
        "id": "hKPbK5e0ImVp",
        "outputId": "6ab2e05a-56ed-4826-97e2-7bbeaf7be28f"
      },
      "source": [
        "df.info()"
      ],
      "execution_count": 12,
      "outputs": [
        {
          "output_type": "stream",
          "text": [
            "<class 'pandas.core.frame.DataFrame'>\n",
            "RangeIndex: 611 entries, 0 to 610\n",
            "Data columns (total 9 columns):\n",
            " #   Column        Non-Null Count  Dtype \n",
            "---  ------        --------------  ----- \n",
            " 0   Name          611 non-null    object\n",
            " 1   Alignment     611 non-null    object\n",
            " 2   Intelligence  611 non-null    int64 \n",
            " 3   Strength      611 non-null    int64 \n",
            " 4   Speed         611 non-null    int64 \n",
            " 5   Durability    611 non-null    int64 \n",
            " 6   Power         611 non-null    int64 \n",
            " 7   Combat        611 non-null    int64 \n",
            " 8   Total         611 non-null    int64 \n",
            "dtypes: int64(7), object(2)\n",
            "memory usage: 43.1+ KB\n"
          ],
          "name": "stdout"
        }
      ]
    },
    {
      "cell_type": "code",
      "metadata": {
        "id": "HV-GPojcIpBc"
      },
      "source": [
        ""
      ],
      "execution_count": null,
      "outputs": []
    }
  ]
}