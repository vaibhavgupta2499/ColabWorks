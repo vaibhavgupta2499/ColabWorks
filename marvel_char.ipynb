{
  "nbformat": 4,
  "nbformat_minor": 0,
  "metadata": {
    "colab": {
      "name": "marvel_char.ipynb",
      "provenance": [],
      "collapsed_sections": [],
      "mount_file_id": "1Kwu-cGZaNhs5Akh9WEnC71fvQdgoUKfb",
      "authorship_tag": "ABX9TyPn/zWj/ia9yIxylw26fQwl",
      "include_colab_link": true
    },
    "kernelspec": {
      "name": "python3",
      "display_name": "Python 3"
    },
    "language_info": {
      "name": "python"
    }
  },
  "cells": [
    {
      "cell_type": "markdown",
      "metadata": {
        "id": "view-in-github",
        "colab_type": "text"
      },
      "source": [
        "<a href=\"https://colab.research.google.com/github/vaibhavgupta2499/ColabWorks/blob/main/marvel_char.ipynb\" target=\"_parent\"><img src=\"https://colab.research.google.com/assets/colab-badge.svg\" alt=\"Open In Colab\"/></a>"
      ]
    },
    {
      "cell_type": "code",
      "metadata": {
        "id": "OXjkwQb2GGpb"
      },
      "source": [
        "import numpy as np\n",
        "import pandas as pd\n",
        "import matplotlib.pyplot as plt"
      ],
      "execution_count": 1,
      "outputs": []
    },
    {
      "cell_type": "code",
      "metadata": {
        "colab": {
          "base_uri": "https://localhost:8080/"
        },
        "id": "PdjZRz9Z0SBJ",
        "outputId": "46f7eaba-5b24-4f9b-e75b-193e50e029b8"
      },
      "source": [
        "from google.colab import drive\n",
        "drive.mount('/content/drive')"
      ],
      "execution_count": 2,
      "outputs": [
        {
          "output_type": "stream",
          "text": [
            "Drive already mounted at /content/drive; to attempt to forcibly remount, call drive.mount(\"/content/drive\", force_remount=True).\n"
          ],
          "name": "stdout"
        }
      ]
    },
    {
      "cell_type": "code",
      "metadata": {
        "id": "c3rBqSYTGS1a"
      },
      "source": [
        "df=pd.read_csv('/content/drive/MyDrive/marvelCharactersDataset/charcters_stats.csv')"
      ],
      "execution_count": 3,
      "outputs": []
    },
    {
      "cell_type": "code",
      "metadata": {
        "colab": {
          "base_uri": "https://localhost:8080/",
          "height": 417
        },
        "id": "3N6F5hvoG-Mu",
        "outputId": "c14323d2-dd71-43cc-970c-82b52bcadf56"
      },
      "source": [
        "df"
      ],
      "execution_count": 4,
      "outputs": [
        {
          "output_type": "execute_result",
          "data": {
            "text/html": [
              "<div>\n",
              "<style scoped>\n",
              "    .dataframe tbody tr th:only-of-type {\n",
              "        vertical-align: middle;\n",
              "    }\n",
              "\n",
              "    .dataframe tbody tr th {\n",
              "        vertical-align: top;\n",
              "    }\n",
              "\n",
              "    .dataframe thead th {\n",
              "        text-align: right;\n",
              "    }\n",
              "</style>\n",
              "<table border=\"1\" class=\"dataframe\">\n",
              "  <thead>\n",
              "    <tr style=\"text-align: right;\">\n",
              "      <th></th>\n",
              "      <th>Name</th>\n",
              "      <th>Alignment</th>\n",
              "      <th>Intelligence</th>\n",
              "      <th>Strength</th>\n",
              "      <th>Speed</th>\n",
              "      <th>Durability</th>\n",
              "      <th>Power</th>\n",
              "      <th>Combat</th>\n",
              "      <th>Total</th>\n",
              "    </tr>\n",
              "  </thead>\n",
              "  <tbody>\n",
              "    <tr>\n",
              "      <th>0</th>\n",
              "      <td>3-D Man</td>\n",
              "      <td>good</td>\n",
              "      <td>50</td>\n",
              "      <td>31</td>\n",
              "      <td>43</td>\n",
              "      <td>32</td>\n",
              "      <td>25</td>\n",
              "      <td>52</td>\n",
              "      <td>233</td>\n",
              "    </tr>\n",
              "    <tr>\n",
              "      <th>1</th>\n",
              "      <td>A-Bomb</td>\n",
              "      <td>good</td>\n",
              "      <td>38</td>\n",
              "      <td>100</td>\n",
              "      <td>17</td>\n",
              "      <td>80</td>\n",
              "      <td>17</td>\n",
              "      <td>64</td>\n",
              "      <td>316</td>\n",
              "    </tr>\n",
              "    <tr>\n",
              "      <th>2</th>\n",
              "      <td>Abe Sapien</td>\n",
              "      <td>good</td>\n",
              "      <td>88</td>\n",
              "      <td>14</td>\n",
              "      <td>35</td>\n",
              "      <td>42</td>\n",
              "      <td>35</td>\n",
              "      <td>85</td>\n",
              "      <td>299</td>\n",
              "    </tr>\n",
              "    <tr>\n",
              "      <th>3</th>\n",
              "      <td>Abin Sur</td>\n",
              "      <td>good</td>\n",
              "      <td>50</td>\n",
              "      <td>90</td>\n",
              "      <td>53</td>\n",
              "      <td>64</td>\n",
              "      <td>84</td>\n",
              "      <td>65</td>\n",
              "      <td>406</td>\n",
              "    </tr>\n",
              "    <tr>\n",
              "      <th>4</th>\n",
              "      <td>Abomination</td>\n",
              "      <td>bad</td>\n",
              "      <td>63</td>\n",
              "      <td>80</td>\n",
              "      <td>53</td>\n",
              "      <td>90</td>\n",
              "      <td>55</td>\n",
              "      <td>95</td>\n",
              "      <td>436</td>\n",
              "    </tr>\n",
              "    <tr>\n",
              "      <th>...</th>\n",
              "      <td>...</td>\n",
              "      <td>...</td>\n",
              "      <td>...</td>\n",
              "      <td>...</td>\n",
              "      <td>...</td>\n",
              "      <td>...</td>\n",
              "      <td>...</td>\n",
              "      <td>...</td>\n",
              "      <td>...</td>\n",
              "    </tr>\n",
              "    <tr>\n",
              "      <th>606</th>\n",
              "      <td>Yellowjacket</td>\n",
              "      <td>good</td>\n",
              "      <td>88</td>\n",
              "      <td>10</td>\n",
              "      <td>12</td>\n",
              "      <td>28</td>\n",
              "      <td>12</td>\n",
              "      <td>14</td>\n",
              "      <td>164</td>\n",
              "    </tr>\n",
              "    <tr>\n",
              "      <th>607</th>\n",
              "      <td>Yellowjacket II</td>\n",
              "      <td>good</td>\n",
              "      <td>50</td>\n",
              "      <td>10</td>\n",
              "      <td>35</td>\n",
              "      <td>28</td>\n",
              "      <td>31</td>\n",
              "      <td>28</td>\n",
              "      <td>182</td>\n",
              "    </tr>\n",
              "    <tr>\n",
              "      <th>608</th>\n",
              "      <td>Ymir</td>\n",
              "      <td>good</td>\n",
              "      <td>50</td>\n",
              "      <td>100</td>\n",
              "      <td>27</td>\n",
              "      <td>100</td>\n",
              "      <td>83</td>\n",
              "      <td>28</td>\n",
              "      <td>388</td>\n",
              "    </tr>\n",
              "    <tr>\n",
              "      <th>609</th>\n",
              "      <td>Zatanna</td>\n",
              "      <td>good</td>\n",
              "      <td>75</td>\n",
              "      <td>10</td>\n",
              "      <td>23</td>\n",
              "      <td>28</td>\n",
              "      <td>100</td>\n",
              "      <td>56</td>\n",
              "      <td>292</td>\n",
              "    </tr>\n",
              "    <tr>\n",
              "      <th>610</th>\n",
              "      <td>Zoom</td>\n",
              "      <td>bad</td>\n",
              "      <td>50</td>\n",
              "      <td>10</td>\n",
              "      <td>100</td>\n",
              "      <td>28</td>\n",
              "      <td>72</td>\n",
              "      <td>28</td>\n",
              "      <td>288</td>\n",
              "    </tr>\n",
              "  </tbody>\n",
              "</table>\n",
              "<p>611 rows × 9 columns</p>\n",
              "</div>"
            ],
            "text/plain": [
              "                Name Alignment  Intelligence  ...  Power  Combat  Total\n",
              "0            3-D Man      good            50  ...     25      52    233\n",
              "1             A-Bomb      good            38  ...     17      64    316\n",
              "2         Abe Sapien      good            88  ...     35      85    299\n",
              "3           Abin Sur      good            50  ...     84      65    406\n",
              "4        Abomination       bad            63  ...     55      95    436\n",
              "..               ...       ...           ...  ...    ...     ...    ...\n",
              "606     Yellowjacket      good            88  ...     12      14    164\n",
              "607  Yellowjacket II      good            50  ...     31      28    182\n",
              "608             Ymir      good            50  ...     83      28    388\n",
              "609          Zatanna      good            75  ...    100      56    292\n",
              "610             Zoom       bad            50  ...     72      28    288\n",
              "\n",
              "[611 rows x 9 columns]"
            ]
          },
          "metadata": {
            "tags": []
          },
          "execution_count": 4
        }
      ]
    },
    {
      "cell_type": "code",
      "metadata": {
        "colab": {
          "base_uri": "https://localhost:8080/"
        },
        "id": "EuYGsMgUG_Fi",
        "outputId": "d686536b-736d-4841-b2c6-141c236259ff"
      },
      "source": [
        "for x in list(df.columns):\n",
        "  print(x+' - '+str(df[x].isnull().sum()))"
      ],
      "execution_count": 5,
      "outputs": [
        {
          "output_type": "stream",
          "text": [
            "Name - 0\n",
            "Alignment - 3\n",
            "Intelligence - 0\n",
            "Strength - 0\n",
            "Speed - 0\n",
            "Durability - 0\n",
            "Power - 0\n",
            "Combat - 0\n",
            "Total - 0\n"
          ],
          "name": "stdout"
        }
      ]
    },
    {
      "cell_type": "code",
      "metadata": {
        "colab": {
          "base_uri": "https://localhost:8080/"
        },
        "id": "Djx6LQabH809",
        "outputId": "a62615d5-7d60-4b6e-b9a5-6e1006ab03d5"
      },
      "source": [
        "df.Alignment.unique()"
      ],
      "execution_count": 6,
      "outputs": [
        {
          "output_type": "execute_result",
          "data": {
            "text/plain": [
              "array(['good', 'bad', nan, 'neutral'], dtype=object)"
            ]
          },
          "metadata": {
            "tags": []
          },
          "execution_count": 6
        }
      ]
    },
    {
      "cell_type": "code",
      "metadata": {
        "id": "YUHzOGp8HMaY"
      },
      "source": [
        "df['Alignment'].fillna('neutral',inplace=True)"
      ],
      "execution_count": 7,
      "outputs": []
    },
    {
      "cell_type": "code",
      "metadata": {
        "colab": {
          "base_uri": "https://localhost:8080/"
        },
        "id": "5_AjavIWIflZ",
        "outputId": "67944670-a579-4153-ce84-922337de1927"
      },
      "source": [
        "df['Alignment'].isnull().sum()"
      ],
      "execution_count": 8,
      "outputs": [
        {
          "output_type": "execute_result",
          "data": {
            "text/plain": [
              "0"
            ]
          },
          "metadata": {
            "tags": []
          },
          "execution_count": 8
        }
      ]
    },
    {
      "cell_type": "code",
      "metadata": {
        "colab": {
          "base_uri": "https://localhost:8080/"
        },
        "id": "CrUUGF5-IjE8",
        "outputId": "50854bab-4520-4a01-e8ff-79a0e5983cc2"
      },
      "source": [
        "df.Alignment.unique()"
      ],
      "execution_count": 9,
      "outputs": [
        {
          "output_type": "execute_result",
          "data": {
            "text/plain": [
              "array(['good', 'bad', 'neutral'], dtype=object)"
            ]
          },
          "metadata": {
            "tags": []
          },
          "execution_count": 9
        }
      ]
    },
    {
      "cell_type": "code",
      "metadata": {
        "colab": {
          "base_uri": "https://localhost:8080/"
        },
        "id": "hKPbK5e0ImVp",
        "outputId": "03b5462b-223f-4351-e72a-d782b4249beb"
      },
      "source": [
        "df.info()"
      ],
      "execution_count": 10,
      "outputs": [
        {
          "output_type": "stream",
          "text": [
            "<class 'pandas.core.frame.DataFrame'>\n",
            "RangeIndex: 611 entries, 0 to 610\n",
            "Data columns (total 9 columns):\n",
            " #   Column        Non-Null Count  Dtype \n",
            "---  ------        --------------  ----- \n",
            " 0   Name          611 non-null    object\n",
            " 1   Alignment     611 non-null    object\n",
            " 2   Intelligence  611 non-null    int64 \n",
            " 3   Strength      611 non-null    int64 \n",
            " 4   Speed         611 non-null    int64 \n",
            " 5   Durability    611 non-null    int64 \n",
            " 6   Power         611 non-null    int64 \n",
            " 7   Combat        611 non-null    int64 \n",
            " 8   Total         611 non-null    int64 \n",
            "dtypes: int64(7), object(2)\n",
            "memory usage: 43.1+ KB\n"
          ],
          "name": "stdout"
        }
      ]
    },
    {
      "cell_type": "code",
      "metadata": {
        "colab": {
          "base_uri": "https://localhost:8080/",
          "height": 295
        },
        "id": "HV-GPojcIpBc",
        "outputId": "74934931-3fdb-4564-c1ca-dd18a4c959a7"
      },
      "source": [
        "df.describe()"
      ],
      "execution_count": 11,
      "outputs": [
        {
          "output_type": "execute_result",
          "data": {
            "text/html": [
              "<div>\n",
              "<style scoped>\n",
              "    .dataframe tbody tr th:only-of-type {\n",
              "        vertical-align: middle;\n",
              "    }\n",
              "\n",
              "    .dataframe tbody tr th {\n",
              "        vertical-align: top;\n",
              "    }\n",
              "\n",
              "    .dataframe thead th {\n",
              "        text-align: right;\n",
              "    }\n",
              "</style>\n",
              "<table border=\"1\" class=\"dataframe\">\n",
              "  <thead>\n",
              "    <tr style=\"text-align: right;\">\n",
              "      <th></th>\n",
              "      <th>Intelligence</th>\n",
              "      <th>Strength</th>\n",
              "      <th>Speed</th>\n",
              "      <th>Durability</th>\n",
              "      <th>Power</th>\n",
              "      <th>Combat</th>\n",
              "      <th>Total</th>\n",
              "    </tr>\n",
              "  </thead>\n",
              "  <tbody>\n",
              "    <tr>\n",
              "      <th>count</th>\n",
              "      <td>611.000000</td>\n",
              "      <td>611.000000</td>\n",
              "      <td>611.000000</td>\n",
              "      <td>611.000000</td>\n",
              "      <td>611.000000</td>\n",
              "      <td>611.000000</td>\n",
              "      <td>611.000000</td>\n",
              "    </tr>\n",
              "    <tr>\n",
              "      <th>mean</th>\n",
              "      <td>44.502455</td>\n",
              "      <td>29.083470</td>\n",
              "      <td>27.306056</td>\n",
              "      <td>41.839607</td>\n",
              "      <td>40.312602</td>\n",
              "      <td>43.206219</td>\n",
              "      <td>226.250409</td>\n",
              "    </tr>\n",
              "    <tr>\n",
              "      <th>std</th>\n",
              "      <td>32.924722</td>\n",
              "      <td>32.610939</td>\n",
              "      <td>25.760173</td>\n",
              "      <td>36.543849</td>\n",
              "      <td>34.539910</td>\n",
              "      <td>33.270329</td>\n",
              "      <td>167.324034</td>\n",
              "    </tr>\n",
              "    <tr>\n",
              "      <th>min</th>\n",
              "      <td>1.000000</td>\n",
              "      <td>1.000000</td>\n",
              "      <td>1.000000</td>\n",
              "      <td>1.000000</td>\n",
              "      <td>0.000000</td>\n",
              "      <td>1.000000</td>\n",
              "      <td>5.000000</td>\n",
              "    </tr>\n",
              "    <tr>\n",
              "      <th>25%</th>\n",
              "      <td>1.000000</td>\n",
              "      <td>1.000000</td>\n",
              "      <td>1.000000</td>\n",
              "      <td>1.000000</td>\n",
              "      <td>0.000000</td>\n",
              "      <td>1.000000</td>\n",
              "      <td>5.000000</td>\n",
              "    </tr>\n",
              "    <tr>\n",
              "      <th>50%</th>\n",
              "      <td>50.000000</td>\n",
              "      <td>10.000000</td>\n",
              "      <td>23.000000</td>\n",
              "      <td>32.000000</td>\n",
              "      <td>37.000000</td>\n",
              "      <td>50.000000</td>\n",
              "      <td>255.000000</td>\n",
              "    </tr>\n",
              "    <tr>\n",
              "      <th>75%</th>\n",
              "      <td>75.000000</td>\n",
              "      <td>53.000000</td>\n",
              "      <td>42.000000</td>\n",
              "      <td>80.000000</td>\n",
              "      <td>67.000000</td>\n",
              "      <td>70.000000</td>\n",
              "      <td>351.500000</td>\n",
              "    </tr>\n",
              "    <tr>\n",
              "      <th>max</th>\n",
              "      <td>113.000000</td>\n",
              "      <td>100.000000</td>\n",
              "      <td>100.000000</td>\n",
              "      <td>120.000000</td>\n",
              "      <td>100.000000</td>\n",
              "      <td>101.000000</td>\n",
              "      <td>581.000000</td>\n",
              "    </tr>\n",
              "  </tbody>\n",
              "</table>\n",
              "</div>"
            ],
            "text/plain": [
              "       Intelligence    Strength       Speed  ...       Power      Combat       Total\n",
              "count    611.000000  611.000000  611.000000  ...  611.000000  611.000000  611.000000\n",
              "mean      44.502455   29.083470   27.306056  ...   40.312602   43.206219  226.250409\n",
              "std       32.924722   32.610939   25.760173  ...   34.539910   33.270329  167.324034\n",
              "min        1.000000    1.000000    1.000000  ...    0.000000    1.000000    5.000000\n",
              "25%        1.000000    1.000000    1.000000  ...    0.000000    1.000000    5.000000\n",
              "50%       50.000000   10.000000   23.000000  ...   37.000000   50.000000  255.000000\n",
              "75%       75.000000   53.000000   42.000000  ...   67.000000   70.000000  351.500000\n",
              "max      113.000000  100.000000  100.000000  ...  100.000000  101.000000  581.000000\n",
              "\n",
              "[8 rows x 7 columns]"
            ]
          },
          "metadata": {
            "tags": []
          },
          "execution_count": 11
        }
      ]
    },
    {
      "cell_type": "code",
      "metadata": {
        "id": "tW3heM0C19uX"
      },
      "source": [
        "df.drop('Total',axis='columns',inplace=True)"
      ],
      "execution_count": 12,
      "outputs": []
    },
    {
      "cell_type": "code",
      "metadata": {
        "colab": {
          "base_uri": "https://localhost:8080/",
          "height": 203
        },
        "id": "xmXWsg5R2y0n",
        "outputId": "40eed2ff-8318-4897-b494-13a8248d9241"
      },
      "source": [
        "df.head()"
      ],
      "execution_count": 13,
      "outputs": [
        {
          "output_type": "execute_result",
          "data": {
            "text/html": [
              "<div>\n",
              "<style scoped>\n",
              "    .dataframe tbody tr th:only-of-type {\n",
              "        vertical-align: middle;\n",
              "    }\n",
              "\n",
              "    .dataframe tbody tr th {\n",
              "        vertical-align: top;\n",
              "    }\n",
              "\n",
              "    .dataframe thead th {\n",
              "        text-align: right;\n",
              "    }\n",
              "</style>\n",
              "<table border=\"1\" class=\"dataframe\">\n",
              "  <thead>\n",
              "    <tr style=\"text-align: right;\">\n",
              "      <th></th>\n",
              "      <th>Name</th>\n",
              "      <th>Alignment</th>\n",
              "      <th>Intelligence</th>\n",
              "      <th>Strength</th>\n",
              "      <th>Speed</th>\n",
              "      <th>Durability</th>\n",
              "      <th>Power</th>\n",
              "      <th>Combat</th>\n",
              "    </tr>\n",
              "  </thead>\n",
              "  <tbody>\n",
              "    <tr>\n",
              "      <th>0</th>\n",
              "      <td>3-D Man</td>\n",
              "      <td>good</td>\n",
              "      <td>50</td>\n",
              "      <td>31</td>\n",
              "      <td>43</td>\n",
              "      <td>32</td>\n",
              "      <td>25</td>\n",
              "      <td>52</td>\n",
              "    </tr>\n",
              "    <tr>\n",
              "      <th>1</th>\n",
              "      <td>A-Bomb</td>\n",
              "      <td>good</td>\n",
              "      <td>38</td>\n",
              "      <td>100</td>\n",
              "      <td>17</td>\n",
              "      <td>80</td>\n",
              "      <td>17</td>\n",
              "      <td>64</td>\n",
              "    </tr>\n",
              "    <tr>\n",
              "      <th>2</th>\n",
              "      <td>Abe Sapien</td>\n",
              "      <td>good</td>\n",
              "      <td>88</td>\n",
              "      <td>14</td>\n",
              "      <td>35</td>\n",
              "      <td>42</td>\n",
              "      <td>35</td>\n",
              "      <td>85</td>\n",
              "    </tr>\n",
              "    <tr>\n",
              "      <th>3</th>\n",
              "      <td>Abin Sur</td>\n",
              "      <td>good</td>\n",
              "      <td>50</td>\n",
              "      <td>90</td>\n",
              "      <td>53</td>\n",
              "      <td>64</td>\n",
              "      <td>84</td>\n",
              "      <td>65</td>\n",
              "    </tr>\n",
              "    <tr>\n",
              "      <th>4</th>\n",
              "      <td>Abomination</td>\n",
              "      <td>bad</td>\n",
              "      <td>63</td>\n",
              "      <td>80</td>\n",
              "      <td>53</td>\n",
              "      <td>90</td>\n",
              "      <td>55</td>\n",
              "      <td>95</td>\n",
              "    </tr>\n",
              "  </tbody>\n",
              "</table>\n",
              "</div>"
            ],
            "text/plain": [
              "          Name Alignment  Intelligence  ...  Durability  Power  Combat\n",
              "0      3-D Man      good            50  ...          32     25      52\n",
              "1       A-Bomb      good            38  ...          80     17      64\n",
              "2   Abe Sapien      good            88  ...          42     35      85\n",
              "3     Abin Sur      good            50  ...          64     84      65\n",
              "4  Abomination       bad            63  ...          90     55      95\n",
              "\n",
              "[5 rows x 8 columns]"
            ]
          },
          "metadata": {
            "tags": []
          },
          "execution_count": 13
        }
      ]
    },
    {
      "cell_type": "code",
      "metadata": {
        "colab": {
          "base_uri": "https://localhost:8080/"
        },
        "id": "yM-1N4ut21Hg",
        "outputId": "849e71b3-3c11-4a1d-96b3-117e683576d5"
      },
      "source": [
        "col=list(df.columns)\n",
        "col.remove('Name')\n",
        "col.remove('Alignment')\n",
        "print(col)"
      ],
      "execution_count": 14,
      "outputs": [
        {
          "output_type": "stream",
          "text": [
            "['Intelligence', 'Strength', 'Speed', 'Durability', 'Power', 'Combat']\n"
          ],
          "name": "stdout"
        }
      ]
    },
    {
      "cell_type": "code",
      "metadata": {
        "colab": {
          "base_uri": "https://localhost:8080/"
        },
        "id": "qJZoREa13Fa3",
        "outputId": "a2b94e52-381c-4aa7-fb52-4e344e9bb91e"
      },
      "source": [
        "min_max_arr=[[0 for i in range(6)] for j in range(3)]\n",
        "print(min_max_arr)"
      ],
      "execution_count": 15,
      "outputs": [
        {
          "output_type": "stream",
          "text": [
            "[[0, 0, 0, 0, 0, 0], [0, 0, 0, 0, 0, 0], [0, 0, 0, 0, 0, 0]]\n"
          ],
          "name": "stdout"
        }
      ]
    },
    {
      "cell_type": "code",
      "metadata": {
        "colab": {
          "base_uri": "https://localhost:8080/"
        },
        "id": "JgM5iJCj4AIS",
        "outputId": "62dda974-d1fd-473d-dd6f-a370d7a342ed"
      },
      "source": [
        "i=0\n",
        "for c in col:\n",
        "  min_max_arr[0][i]=df[c].min()\n",
        "  min_max_arr[1][i]=df[c].max()\n",
        "  min_max_arr[2][i]=c\n",
        "  i=i+1\n",
        "print(min_max_arr)"
      ],
      "execution_count": 16,
      "outputs": [
        {
          "output_type": "stream",
          "text": [
            "[[1, 1, 1, 1, 0, 1], [113, 100, 100, 120, 100, 101], ['Intelligence', 'Strength', 'Speed', 'Durability', 'Power', 'Combat']]\n"
          ],
          "name": "stdout"
        }
      ]
    },
    {
      "cell_type": "code",
      "metadata": {
        "id": "9DPiDLe04Qfu"
      },
      "source": [
        "from sklearn.preprocessing import MinMaxScaler\n",
        "scaler=MinMaxScaler()\n",
        "df[col] = scaler.fit_transform(df[col])"
      ],
      "execution_count": 17,
      "outputs": []
    },
    {
      "cell_type": "code",
      "metadata": {
        "colab": {
          "base_uri": "https://localhost:8080/",
          "height": 203
        },
        "id": "wYWCANHF6NtH",
        "outputId": "4e223a97-ce25-4546-8c1a-83897f8bd11b"
      },
      "source": [
        "df.head()"
      ],
      "execution_count": 18,
      "outputs": [
        {
          "output_type": "execute_result",
          "data": {
            "text/html": [
              "<div>\n",
              "<style scoped>\n",
              "    .dataframe tbody tr th:only-of-type {\n",
              "        vertical-align: middle;\n",
              "    }\n",
              "\n",
              "    .dataframe tbody tr th {\n",
              "        vertical-align: top;\n",
              "    }\n",
              "\n",
              "    .dataframe thead th {\n",
              "        text-align: right;\n",
              "    }\n",
              "</style>\n",
              "<table border=\"1\" class=\"dataframe\">\n",
              "  <thead>\n",
              "    <tr style=\"text-align: right;\">\n",
              "      <th></th>\n",
              "      <th>Name</th>\n",
              "      <th>Alignment</th>\n",
              "      <th>Intelligence</th>\n",
              "      <th>Strength</th>\n",
              "      <th>Speed</th>\n",
              "      <th>Durability</th>\n",
              "      <th>Power</th>\n",
              "      <th>Combat</th>\n",
              "    </tr>\n",
              "  </thead>\n",
              "  <tbody>\n",
              "    <tr>\n",
              "      <th>0</th>\n",
              "      <td>3-D Man</td>\n",
              "      <td>good</td>\n",
              "      <td>0.437500</td>\n",
              "      <td>0.303030</td>\n",
              "      <td>0.424242</td>\n",
              "      <td>0.260504</td>\n",
              "      <td>0.25</td>\n",
              "      <td>0.51</td>\n",
              "    </tr>\n",
              "    <tr>\n",
              "      <th>1</th>\n",
              "      <td>A-Bomb</td>\n",
              "      <td>good</td>\n",
              "      <td>0.330357</td>\n",
              "      <td>1.000000</td>\n",
              "      <td>0.161616</td>\n",
              "      <td>0.663866</td>\n",
              "      <td>0.17</td>\n",
              "      <td>0.63</td>\n",
              "    </tr>\n",
              "    <tr>\n",
              "      <th>2</th>\n",
              "      <td>Abe Sapien</td>\n",
              "      <td>good</td>\n",
              "      <td>0.776786</td>\n",
              "      <td>0.131313</td>\n",
              "      <td>0.343434</td>\n",
              "      <td>0.344538</td>\n",
              "      <td>0.35</td>\n",
              "      <td>0.84</td>\n",
              "    </tr>\n",
              "    <tr>\n",
              "      <th>3</th>\n",
              "      <td>Abin Sur</td>\n",
              "      <td>good</td>\n",
              "      <td>0.437500</td>\n",
              "      <td>0.898990</td>\n",
              "      <td>0.525253</td>\n",
              "      <td>0.529412</td>\n",
              "      <td>0.84</td>\n",
              "      <td>0.64</td>\n",
              "    </tr>\n",
              "    <tr>\n",
              "      <th>4</th>\n",
              "      <td>Abomination</td>\n",
              "      <td>bad</td>\n",
              "      <td>0.553571</td>\n",
              "      <td>0.797980</td>\n",
              "      <td>0.525253</td>\n",
              "      <td>0.747899</td>\n",
              "      <td>0.55</td>\n",
              "      <td>0.94</td>\n",
              "    </tr>\n",
              "  </tbody>\n",
              "</table>\n",
              "</div>"
            ],
            "text/plain": [
              "          Name Alignment  Intelligence  ...  Durability  Power  Combat\n",
              "0      3-D Man      good      0.437500  ...    0.260504   0.25    0.51\n",
              "1       A-Bomb      good      0.330357  ...    0.663866   0.17    0.63\n",
              "2   Abe Sapien      good      0.776786  ...    0.344538   0.35    0.84\n",
              "3     Abin Sur      good      0.437500  ...    0.529412   0.84    0.64\n",
              "4  Abomination       bad      0.553571  ...    0.747899   0.55    0.94\n",
              "\n",
              "[5 rows x 8 columns]"
            ]
          },
          "metadata": {
            "tags": []
          },
          "execution_count": 18
        }
      ]
    },
    {
      "cell_type": "code",
      "metadata": {
        "colab": {
          "base_uri": "https://localhost:8080/",
          "height": 295
        },
        "id": "J7LF6t-26P6w",
        "outputId": "2074c3a6-2544-4a57-8140-244957773983"
      },
      "source": [
        "df.describe()"
      ],
      "execution_count": 19,
      "outputs": [
        {
          "output_type": "execute_result",
          "data": {
            "text/html": [
              "<div>\n",
              "<style scoped>\n",
              "    .dataframe tbody tr th:only-of-type {\n",
              "        vertical-align: middle;\n",
              "    }\n",
              "\n",
              "    .dataframe tbody tr th {\n",
              "        vertical-align: top;\n",
              "    }\n",
              "\n",
              "    .dataframe thead th {\n",
              "        text-align: right;\n",
              "    }\n",
              "</style>\n",
              "<table border=\"1\" class=\"dataframe\">\n",
              "  <thead>\n",
              "    <tr style=\"text-align: right;\">\n",
              "      <th></th>\n",
              "      <th>Intelligence</th>\n",
              "      <th>Strength</th>\n",
              "      <th>Speed</th>\n",
              "      <th>Durability</th>\n",
              "      <th>Power</th>\n",
              "      <th>Combat</th>\n",
              "    </tr>\n",
              "  </thead>\n",
              "  <tbody>\n",
              "    <tr>\n",
              "      <th>count</th>\n",
              "      <td>611.000000</td>\n",
              "      <td>611.000000</td>\n",
              "      <td>611.000000</td>\n",
              "      <td>611.000000</td>\n",
              "      <td>611.000000</td>\n",
              "      <td>611.000000</td>\n",
              "    </tr>\n",
              "    <tr>\n",
              "      <th>mean</th>\n",
              "      <td>0.388415</td>\n",
              "      <td>0.283671</td>\n",
              "      <td>0.265718</td>\n",
              "      <td>0.343190</td>\n",
              "      <td>0.403126</td>\n",
              "      <td>0.422062</td>\n",
              "    </tr>\n",
              "    <tr>\n",
              "      <th>std</th>\n",
              "      <td>0.293971</td>\n",
              "      <td>0.329403</td>\n",
              "      <td>0.260204</td>\n",
              "      <td>0.307091</td>\n",
              "      <td>0.345399</td>\n",
              "      <td>0.332703</td>\n",
              "    </tr>\n",
              "    <tr>\n",
              "      <th>min</th>\n",
              "      <td>0.000000</td>\n",
              "      <td>0.000000</td>\n",
              "      <td>0.000000</td>\n",
              "      <td>0.000000</td>\n",
              "      <td>0.000000</td>\n",
              "      <td>0.000000</td>\n",
              "    </tr>\n",
              "    <tr>\n",
              "      <th>25%</th>\n",
              "      <td>0.000000</td>\n",
              "      <td>0.000000</td>\n",
              "      <td>0.000000</td>\n",
              "      <td>0.000000</td>\n",
              "      <td>0.000000</td>\n",
              "      <td>0.000000</td>\n",
              "    </tr>\n",
              "    <tr>\n",
              "      <th>50%</th>\n",
              "      <td>0.437500</td>\n",
              "      <td>0.090909</td>\n",
              "      <td>0.222222</td>\n",
              "      <td>0.260504</td>\n",
              "      <td>0.370000</td>\n",
              "      <td>0.490000</td>\n",
              "    </tr>\n",
              "    <tr>\n",
              "      <th>75%</th>\n",
              "      <td>0.660714</td>\n",
              "      <td>0.525253</td>\n",
              "      <td>0.414141</td>\n",
              "      <td>0.663866</td>\n",
              "      <td>0.670000</td>\n",
              "      <td>0.690000</td>\n",
              "    </tr>\n",
              "    <tr>\n",
              "      <th>max</th>\n",
              "      <td>1.000000</td>\n",
              "      <td>1.000000</td>\n",
              "      <td>1.000000</td>\n",
              "      <td>1.000000</td>\n",
              "      <td>1.000000</td>\n",
              "      <td>1.000000</td>\n",
              "    </tr>\n",
              "  </tbody>\n",
              "</table>\n",
              "</div>"
            ],
            "text/plain": [
              "       Intelligence    Strength       Speed  Durability       Power      Combat\n",
              "count    611.000000  611.000000  611.000000  611.000000  611.000000  611.000000\n",
              "mean       0.388415    0.283671    0.265718    0.343190    0.403126    0.422062\n",
              "std        0.293971    0.329403    0.260204    0.307091    0.345399    0.332703\n",
              "min        0.000000    0.000000    0.000000    0.000000    0.000000    0.000000\n",
              "25%        0.000000    0.000000    0.000000    0.000000    0.000000    0.000000\n",
              "50%        0.437500    0.090909    0.222222    0.260504    0.370000    0.490000\n",
              "75%        0.660714    0.525253    0.414141    0.663866    0.670000    0.690000\n",
              "max        1.000000    1.000000    1.000000    1.000000    1.000000    1.000000"
            ]
          },
          "metadata": {
            "tags": []
          },
          "execution_count": 19
        }
      ]
    },
    {
      "cell_type": "code",
      "metadata": {
        "id": "GuqsXwgvy6Pe"
      },
      "source": [
        "dff=pd.get_dummies(df[['Alignment']])\n",
        "ddff=pd.concat([df,dff],axis=1)\n",
        "ddff.drop('Alignment',axis='columns',inplace=True)"
      ],
      "execution_count": 20,
      "outputs": []
    },
    {
      "cell_type": "code",
      "metadata": {
        "colab": {
          "base_uri": "https://localhost:8080/",
          "height": 203
        },
        "id": "lc-6qIDBzAyO",
        "outputId": "7004f2b9-fe77-41bd-bdc0-ef53403eee35"
      },
      "source": [
        "ddff.head()"
      ],
      "execution_count": 21,
      "outputs": [
        {
          "output_type": "execute_result",
          "data": {
            "text/html": [
              "<div>\n",
              "<style scoped>\n",
              "    .dataframe tbody tr th:only-of-type {\n",
              "        vertical-align: middle;\n",
              "    }\n",
              "\n",
              "    .dataframe tbody tr th {\n",
              "        vertical-align: top;\n",
              "    }\n",
              "\n",
              "    .dataframe thead th {\n",
              "        text-align: right;\n",
              "    }\n",
              "</style>\n",
              "<table border=\"1\" class=\"dataframe\">\n",
              "  <thead>\n",
              "    <tr style=\"text-align: right;\">\n",
              "      <th></th>\n",
              "      <th>Name</th>\n",
              "      <th>Intelligence</th>\n",
              "      <th>Strength</th>\n",
              "      <th>Speed</th>\n",
              "      <th>Durability</th>\n",
              "      <th>Power</th>\n",
              "      <th>Combat</th>\n",
              "      <th>Alignment_bad</th>\n",
              "      <th>Alignment_good</th>\n",
              "      <th>Alignment_neutral</th>\n",
              "    </tr>\n",
              "  </thead>\n",
              "  <tbody>\n",
              "    <tr>\n",
              "      <th>0</th>\n",
              "      <td>3-D Man</td>\n",
              "      <td>0.437500</td>\n",
              "      <td>0.303030</td>\n",
              "      <td>0.424242</td>\n",
              "      <td>0.260504</td>\n",
              "      <td>0.25</td>\n",
              "      <td>0.51</td>\n",
              "      <td>0</td>\n",
              "      <td>1</td>\n",
              "      <td>0</td>\n",
              "    </tr>\n",
              "    <tr>\n",
              "      <th>1</th>\n",
              "      <td>A-Bomb</td>\n",
              "      <td>0.330357</td>\n",
              "      <td>1.000000</td>\n",
              "      <td>0.161616</td>\n",
              "      <td>0.663866</td>\n",
              "      <td>0.17</td>\n",
              "      <td>0.63</td>\n",
              "      <td>0</td>\n",
              "      <td>1</td>\n",
              "      <td>0</td>\n",
              "    </tr>\n",
              "    <tr>\n",
              "      <th>2</th>\n",
              "      <td>Abe Sapien</td>\n",
              "      <td>0.776786</td>\n",
              "      <td>0.131313</td>\n",
              "      <td>0.343434</td>\n",
              "      <td>0.344538</td>\n",
              "      <td>0.35</td>\n",
              "      <td>0.84</td>\n",
              "      <td>0</td>\n",
              "      <td>1</td>\n",
              "      <td>0</td>\n",
              "    </tr>\n",
              "    <tr>\n",
              "      <th>3</th>\n",
              "      <td>Abin Sur</td>\n",
              "      <td>0.437500</td>\n",
              "      <td>0.898990</td>\n",
              "      <td>0.525253</td>\n",
              "      <td>0.529412</td>\n",
              "      <td>0.84</td>\n",
              "      <td>0.64</td>\n",
              "      <td>0</td>\n",
              "      <td>1</td>\n",
              "      <td>0</td>\n",
              "    </tr>\n",
              "    <tr>\n",
              "      <th>4</th>\n",
              "      <td>Abomination</td>\n",
              "      <td>0.553571</td>\n",
              "      <td>0.797980</td>\n",
              "      <td>0.525253</td>\n",
              "      <td>0.747899</td>\n",
              "      <td>0.55</td>\n",
              "      <td>0.94</td>\n",
              "      <td>1</td>\n",
              "      <td>0</td>\n",
              "      <td>0</td>\n",
              "    </tr>\n",
              "  </tbody>\n",
              "</table>\n",
              "</div>"
            ],
            "text/plain": [
              "          Name  Intelligence  ...  Alignment_good  Alignment_neutral\n",
              "0      3-D Man      0.437500  ...               1                  0\n",
              "1       A-Bomb      0.330357  ...               1                  0\n",
              "2   Abe Sapien      0.776786  ...               1                  0\n",
              "3     Abin Sur      0.437500  ...               1                  0\n",
              "4  Abomination      0.553571  ...               0                  0\n",
              "\n",
              "[5 rows x 10 columns]"
            ]
          },
          "metadata": {
            "tags": []
          },
          "execution_count": 21
        }
      ]
    },
    {
      "cell_type": "code",
      "metadata": {
        "id": "-TzAYtZ1z1P4"
      },
      "source": [
        "from sklearn import linear_model, metrics\n",
        "from sklearn.model_selection import train_test_split\n",
        "\n",
        "X = ddff.drop(\"Name\", axis=1)\n",
        "y = ddff[\"Name\"]\n",
        "\n",
        "X_train, X_test, y_train, y_test = train_test_split(X, y, test_size=0.3, random_state=101)\n",
        "\n",
        "\n",
        "from sklearn.linear_model import LogisticRegression\n",
        "\n",
        "logmodel = LogisticRegression()\n",
        "logmodel.fit(X_train, y_train)\n",
        "\n",
        "predictions = logmodel.predict(X_test)"
      ],
      "execution_count": 22,
      "outputs": []
    },
    {
      "cell_type": "code",
      "metadata": {
        "colab": {
          "base_uri": "https://localhost:8080/"
        },
        "id": "fQ6B66z_0zgR",
        "outputId": "06063e27-2f3c-4bb5-c404-4c5890a2a118"
      },
      "source": [
        "np.size(predictions)"
      ],
      "execution_count": 23,
      "outputs": [
        {
          "output_type": "execute_result",
          "data": {
            "text/plain": [
              "184"
            ]
          },
          "metadata": {
            "tags": []
          },
          "execution_count": 23
        }
      ]
    },
    {
      "cell_type": "code",
      "metadata": {
        "colab": {
          "base_uri": "https://localhost:8080/"
        },
        "id": "sCYKEBWB83a_",
        "outputId": "8b43dc14-76f2-4202-c5b1-059771fa94dd"
      },
      "source": [
        "predictions"
      ],
      "execution_count": 24,
      "outputs": [
        {
          "output_type": "execute_result",
          "data": {
            "text/plain": [
              "array(['Zoom', 'Nova', 'Nova', 'Blue Beetle I', 'Luke Campbell', 'Nova',\n",
              "       'Red Skull', 'Punisher', 'Kevin 11', 'Nova', 'Giganta', 'Darkseid',\n",
              "       'Punisher', 'Blue Beetle I', 'Blue Beetle I', 'Darkseid',\n",
              "       'Solomon Grundy', 'Blue Beetle I', 'Red Hood', 'Giganta',\n",
              "       'Blue Beetle I', 'Nova', 'Darkseid', 'Red Skull', 'Blue Beetle I',\n",
              "       'Rhino', 'Blue Beetle I', 'Luke Campbell', 'Luke Campbell', 'Nova',\n",
              "       'Blue Beetle I', 'Nova', 'Mister Mxyzptlk', 'Luke Campbell',\n",
              "       'Trickster', 'Nova', 'Luke Campbell', 'Nova', 'Darkseid',\n",
              "       'General Zod', 'Punisher', 'Nova', 'Abraxas', 'Blue Beetle I',\n",
              "       'Blue Beetle I', 'Nova', 'Nova', 'Blue Beetle I', 'Blue Beetle I',\n",
              "       'Anti-Venom', 'General Zod', 'Blue Beetle I', 'Nova',\n",
              "       'Blue Beetle I', 'Blue Beetle I', 'Blue Beetle I', 'Bizarro',\n",
              "       'General Zod', 'Blue Beetle I', 'Red Skull', 'Luke Campbell',\n",
              "       'Professor X', 'General Zod', 'Professor X', 'Luke Campbell',\n",
              "       'Nova', 'Nova', 'Kevin 11', 'Blue Beetle I', 'Nova', 'Nova',\n",
              "       'Rhino', 'Bane', 'Air-Walker', 'Luke Campbell', 'Luke Campbell',\n",
              "       'Red Skull', 'Blue Beetle I', 'Blue Beetle I', 'Nova', 'Nova',\n",
              "       'Mister Mxyzptlk', 'Nova', 'Nova', 'Nova', 'Blue Beetle I', 'Nova',\n",
              "       'Punisher', 'Blue Beetle I', 'Nova', 'Apocalypse', 'Nova',\n",
              "       'Blue Beetle I', 'Exodus', 'Nova', 'Blue Beetle I', 'Nova', 'Nova',\n",
              "       'Nova', 'Nova', 'General Zod', 'Blue Beetle I', 'Rhino',\n",
              "       'Luke Campbell', 'Nova', 'Nova', 'Thanos', 'Nova', 'Nova',\n",
              "       'Nick Fury', 'Nova', 'Nova', 'Wyatt Wingfoot', 'Blue Beetle I',\n",
              "       'Nova', 'Zoom', 'Blue Beetle I', 'Nightwing', 'Nova',\n",
              "       'Blue Beetle I', 'Luke Campbell', 'Nova', 'Rhino', 'Nova', 'Nova',\n",
              "       'Nova', 'Zoom', 'General Zod', 'Nova', 'Blue Beetle I',\n",
              "       'Luke Campbell', 'Luke Campbell', 'Nick Fury', 'Nova',\n",
              "       'Luke Campbell', 'Blue Beetle I', 'Blue Beetle I', 'Nightwing',\n",
              "       'Blue Beetle I', 'Red Skull', 'Nova', 'Mister Mxyzptlk', 'Nova',\n",
              "       'Nova', 'Blue Beetle I', 'Mister Mxyzptlk', 'Blue Beetle I',\n",
              "       'Nova', 'Blue Beetle I', 'Nova', 'Abraxas', 'Luke Campbell',\n",
              "       'Blue Beetle I', 'Nightwing', 'Nick Fury', 'Riddler', 'Giganta',\n",
              "       'Nova', 'Blue Beetle I', 'Red Skull', 'Nova', 'Nova', 'Nova',\n",
              "       'Nova', 'Nova', 'Blue Beetle I', 'Blue Beetle I', 'Nova',\n",
              "       'Blue Beetle I', 'Nova', 'Mister Mxyzptlk', 'Blue Beetle I',\n",
              "       'Nova', 'Nova', 'Luke Campbell', 'Nova', 'Blue Beetle I',\n",
              "       'Blue Beetle I', 'Nova', 'Blue Beetle I', 'General Zod',\n",
              "       'Red Skull', 'Blue Beetle I', 'Black Adam'], dtype=object)"
            ]
          },
          "metadata": {
            "tags": []
          },
          "execution_count": 24
        }
      ]
    },
    {
      "cell_type": "code",
      "metadata": {
        "colab": {
          "base_uri": "https://localhost:8080/"
        },
        "id": "w3ia3L1uUV1y",
        "outputId": "6a4243e3-8b54-4a5a-dc8e-11076001034e"
      },
      "source": [
        "X1 = ddff.drop(\"Name\", axis=1)\n",
        "y1 = ddff[\"Name\"]\n",
        "X1_train, X1_test, y1_train, y1_test = train_test_split(X1, y1, test_size=1)\n",
        "logmodel1 = LogisticRegression()\n",
        "logmodel1.fit(X_train, y_train)\n",
        "\n",
        "#predictions = logmodel.predict(X_test)"
      ],
      "execution_count": 25,
      "outputs": [
        {
          "output_type": "execute_result",
          "data": {
            "text/plain": [
              "LogisticRegression(C=1.0, class_weight=None, dual=False, fit_intercept=True,\n",
              "                   intercept_scaling=1, l1_ratio=None, max_iter=100,\n",
              "                   multi_class='auto', n_jobs=None, penalty='l2',\n",
              "                   random_state=None, solver='lbfgs', tol=0.0001, verbose=0,\n",
              "                   warm_start=False)"
            ]
          },
          "metadata": {
            "tags": []
          },
          "execution_count": 25
        }
      ]
    },
    {
      "cell_type": "code",
      "metadata": {
        "colab": {
          "base_uri": "https://localhost:8080/"
        },
        "id": "vbf-GIHNVI5w",
        "outputId": "2a5f17ba-5ef7-40b5-9d6c-5c95b4b9ba4e"
      },
      "source": [
        "print(logmodel1.predict([[0.2,0.303030,0.1644,0.260504,0.25,0.544,0,2,0]]))"
      ],
      "execution_count": 26,
      "outputs": [
        {
          "output_type": "stream",
          "text": [
            "['Nova']\n"
          ],
          "name": "stdout"
        }
      ]
    },
    {
      "cell_type": "code",
      "metadata": {
        "colab": {
          "base_uri": "https://localhost:8080/"
        },
        "id": "zoVOsRG8_QND",
        "outputId": "3dae614a-e54c-4b85-8da6-4c8eeab3c00b"
      },
      "source": [
        "from sklearn.tree import DecisionTreeClassifier\n",
        "dtree_model = DecisionTreeClassifier().fit(X_train, y_train)\n",
        "dtree_predictions = dtree_model.predict(X_test)\n",
        "print(dtree_predictions)"
      ],
      "execution_count": 27,
      "outputs": [
        {
          "output_type": "stream",
          "text": [
            "['Kevin 11' 'Silverclaw' 'Black Bolt' 'Adam Strange' 'Ammo' 'Archangel'\n",
            " 'Giganta' 'Monica Dawson' 'Siren' 'Doc Samson' 'Green Goblin' 'Venom III'\n",
            " 'Ronin' 'Adam Strange' 'Adam Strange' 'Apocalypse' 'Mister Freeze'\n",
            " 'Adam Strange' 'Red Hood' 'Klaw' 'Adam Strange' 'Steel' 'Onslaught'\n",
            " 'Brainiac' 'Adam Strange' 'Rhino' 'Adam Strange' 'Ammo' 'Ammo' 'Superman'\n",
            " 'Adam Strange' 'Dazzler' 'Mystique' 'Ammo' 'Red Hood' 'Brainiac 5' 'Ammo'\n",
            " 'Multiple Man' 'Sabretooth' 'Blackout' 'Forge' 'Lightning Lad' 'Abraxas'\n",
            " 'Adam Strange' 'Adam Strange' 'Bumblebee' 'Snowbird' 'Adam Strange'\n",
            " 'Adam Strange' 'Ghost Rider' 'Venom' 'Adam Strange' 'Northstar'\n",
            " 'Adam Strange' 'Adam Strange' 'Adam Strange' 'Ghost Rider' 'Bizarro'\n",
            " 'Adam Strange' 'Vulture' 'Ammo' 'Leech' 'Abraxas' 'Violet' 'Ammo'\n",
            " 'Space Ghost' 'Abin Sur' 'Blizzard II' 'Adam Strange' 'Ymir'\n",
            " 'Plastic Man' 'Arclight' 'Bane' 'Evilhawk' 'Ammo' 'Ammo' 'Goblin Queen'\n",
            " 'Adam Strange' 'Adam Strange' 'Watcher' 'Moon Knight' 'Shocker'\n",
            " 'Snowbird' 'Silver Surfer' 'Songbird' 'Adam Strange' 'Emma Frost'\n",
            " 'Hawkeye II' 'Adam Strange' 'Ms Marvel' 'Swamp Thing' 'Big Barda'\n",
            " 'Adam Strange' 'Maxima' 'Wasp' 'Adam Strange' 'Forge' 'Stargirl'\n",
            " 'Sasquatch' 'Black Widow' 'Anti-Monitor' 'Adam Strange' 'Iron Monger'\n",
            " 'Ammo' 'Hulk' 'Ymir' 'Molten Man' 'Black Panther' 'Isis' 'Archangel'\n",
            " 'Green Arrow' 'Man-Wolf' 'Hit-Girl' 'Adam Strange' 'Sobek' 'Electro'\n",
            " 'Adam Strange' 'Nightwing' 'Banshee' 'Adam Strange' 'Ammo' 'Hal Jordan'\n",
            " 'Rhino' 'Emma Frost' 'Red Tornado' 'A-Bomb' 'Green Goblin' 'Venom'\n",
            " 'Hawkgirl' 'Adam Strange' 'Ammo' 'Ammo' 'Banshee' 'Captain America'\n",
            " 'Ammo' 'Adam Strange' 'Adam Strange' 'Domino' 'Adam Strange' 'Big Man'\n",
            " 'Archangel' 'Kevin 11' 'Vision' 'Kilowog' 'Adam Strange' 'Mystique'\n",
            " 'Adam Strange' 'Cloak' 'Adam Strange' 'Watcher' 'Abraxas' 'Ammo'\n",
            " 'Adam Strange' 'Punisher' 'Nina Theroux' 'Mister Freeze' 'Green Goblin'\n",
            " 'Hawk' 'Quill' 'Giganta' 'Meltdown' 'Big Barda' 'Beast Boy' 'Nova'\n",
            " 'Black Widow' 'Adam Strange' 'Adam Strange' 'Medusa' 'Adam Strange'\n",
            " 'Meltdown' 'Scarecrow' 'Adam Strange' 'Superman' 'Black Widow' 'Ammo'\n",
            " 'Spider-Girl' 'Adam Strange' 'Adam Strange' 'Wonder Girl' 'Adam Strange'\n",
            " 'Bizarro' 'Blackwing' 'Adam Strange' 'Tiger Shark']\n"
          ],
          "name": "stdout"
        }
      ]
    },
    {
      "cell_type": "code",
      "metadata": {
        "colab": {
          "base_uri": "https://localhost:8080/"
        },
        "id": "sGM2eDl-CFSi",
        "outputId": "d98b056e-c512-4c7c-bef5-0982b3f5c68b"
      },
      "source": [
        "print(y_test)"
      ],
      "execution_count": 28,
      "outputs": [
        {
          "output_type": "stream",
          "text": [
            "504             Siryn\n",
            "407          Namorita\n",
            "481    Scarlet Spider\n",
            "100       Blaquesmith\n",
            "425         Overtkill\n",
            "            ...      \n",
            "388              Mogo\n",
            "535    Superboy-Prime\n",
            "315             Joker\n",
            "568          Valkyrie\n",
            "205               Ego\n",
            "Name: Name, Length: 184, dtype: object\n"
          ],
          "name": "stdout"
        }
      ]
    },
    {
      "cell_type": "code",
      "metadata": {
        "colab": {
          "base_uri": "https://localhost:8080/"
        },
        "id": "Af80ZShdBaNl",
        "outputId": "bf867764-15bc-4b57-aff2-6c053086f8aa"
      },
      "source": [
        "from sklearn.metrics import balanced_accuracy_score\n",
        "balanced_accuracy_score(y_test,dtree_predictions )"
      ],
      "execution_count": 29,
      "outputs": [
        {
          "output_type": "stream",
          "text": [
            "/usr/local/lib/python3.7/dist-packages/sklearn/metrics/_classification.py:1859: UserWarning: y_pred contains classes not in y_true\n",
            "  warnings.warn('y_pred contains classes not in y_true')\n"
          ],
          "name": "stderr"
        },
        {
          "output_type": "execute_result",
          "data": {
            "text/plain": [
              "0.0"
            ]
          },
          "metadata": {
            "tags": []
          },
          "execution_count": 29
        }
      ]
    },
    {
      "cell_type": "code",
      "metadata": {
        "colab": {
          "base_uri": "https://localhost:8080/"
        },
        "id": "d48anTtb1X6X",
        "outputId": "5cb63cda-75b7-4e67-a8fb-463074dcc63e"
      },
      "source": [
        "from sklearn.metrics import confusion_matrix\n",
        "cm = confusion_matrix(y_test, predictions)\n",
        "print(cm)\n",
        "print(np.size(cm))"
      ],
      "execution_count": 30,
      "outputs": [
        {
          "output_type": "stream",
          "text": [
            "[[0 0 0 ... 0 0 0]\n",
            " [0 0 0 ... 0 0 0]\n",
            " [0 0 0 ... 0 0 0]\n",
            " ...\n",
            " [0 0 0 ... 0 0 0]\n",
            " [0 0 0 ... 0 0 0]\n",
            " [0 0 0 ... 0 0 0]]\n",
            "45369\n"
          ],
          "name": "stdout"
        }
      ]
    },
    {
      "cell_type": "code",
      "metadata": {
        "colab": {
          "base_uri": "https://localhost:8080/"
        },
        "id": "r4YM7PWN3GNu",
        "outputId": "910596d8-82fe-4393-9dc6-4bb41d59ee4a"
      },
      "source": [
        "from sklearn.metrics import precision_recall_fscore_support\n",
        "a=precision_recall_fscore_support(y_test, predictions)\n",
        "print(a)"
      ],
      "execution_count": 31,
      "outputs": [
        {
          "output_type": "stream",
          "text": [
            "(array([0., 0., 0., 0., 0., 0., 0., 0., 0., 0., 0., 0., 0., 0., 0., 0., 0.,\n",
            "       0., 0., 0., 0., 0., 0., 0., 0., 0., 0., 0., 0., 0., 0., 0., 0., 0.,\n",
            "       0., 0., 0., 0., 0., 0., 0., 0., 0., 0., 0., 0., 0., 0., 0., 0., 0.,\n",
            "       0., 0., 0., 0., 0., 0., 0., 0., 0., 0., 0., 0., 0., 0., 0., 0., 0.,\n",
            "       0., 0., 0., 0., 0., 0., 0., 0., 0., 0., 0., 0., 0., 0., 0., 0., 0.,\n",
            "       0., 0., 0., 0., 0., 0., 0., 0., 0., 0., 0., 0., 0., 0., 0., 0., 0.,\n",
            "       0., 0., 0., 0., 0., 0., 0., 0., 0., 0., 0., 0., 0., 0., 0., 0., 0.,\n",
            "       0., 0., 0., 0., 0., 0., 0., 0., 0., 0., 0., 0., 0., 0., 0., 0., 0.,\n",
            "       0., 0., 0., 0., 0., 0., 0., 0., 0., 0., 0., 0., 0., 0., 0., 0., 0.,\n",
            "       0., 0., 0., 0., 0., 0., 0., 0., 0., 0., 0., 0., 0., 0., 0., 0., 0.,\n",
            "       0., 0., 0., 0., 0., 0., 0., 0., 0., 0., 0., 0., 0., 0., 0., 0., 0.,\n",
            "       0., 0., 0., 0., 0., 0., 0., 0., 0., 0., 0., 0., 0., 0., 0., 0., 0.,\n",
            "       0., 0., 0., 0., 0., 0., 0., 0., 0.]), array([0., 0., 0., 0., 0., 0., 0., 0., 0., 0., 0., 0., 0., 0., 0., 0., 0.,\n",
            "       0., 0., 0., 0., 0., 0., 0., 0., 0., 0., 0., 0., 0., 0., 0., 0., 0.,\n",
            "       0., 0., 0., 0., 0., 0., 0., 0., 0., 0., 0., 0., 0., 0., 0., 0., 0.,\n",
            "       0., 0., 0., 0., 0., 0., 0., 0., 0., 0., 0., 0., 0., 0., 0., 0., 0.,\n",
            "       0., 0., 0., 0., 0., 0., 0., 0., 0., 0., 0., 0., 0., 0., 0., 0., 0.,\n",
            "       0., 0., 0., 0., 0., 0., 0., 0., 0., 0., 0., 0., 0., 0., 0., 0., 0.,\n",
            "       0., 0., 0., 0., 0., 0., 0., 0., 0., 0., 0., 0., 0., 0., 0., 0., 0.,\n",
            "       0., 0., 0., 0., 0., 0., 0., 0., 0., 0., 0., 0., 0., 0., 0., 0., 0.,\n",
            "       0., 0., 0., 0., 0., 0., 0., 0., 0., 0., 0., 0., 0., 0., 0., 0., 0.,\n",
            "       0., 0., 0., 0., 0., 0., 0., 0., 0., 0., 0., 0., 0., 0., 0., 0., 0.,\n",
            "       0., 0., 0., 0., 0., 0., 0., 0., 0., 0., 0., 0., 0., 0., 0., 0., 0.,\n",
            "       0., 0., 0., 0., 0., 0., 0., 0., 0., 0., 0., 0., 0., 0., 0., 0., 0.,\n",
            "       0., 0., 0., 0., 0., 0., 0., 0., 0.]), array([0., 0., 0., 0., 0., 0., 0., 0., 0., 0., 0., 0., 0., 0., 0., 0., 0.,\n",
            "       0., 0., 0., 0., 0., 0., 0., 0., 0., 0., 0., 0., 0., 0., 0., 0., 0.,\n",
            "       0., 0., 0., 0., 0., 0., 0., 0., 0., 0., 0., 0., 0., 0., 0., 0., 0.,\n",
            "       0., 0., 0., 0., 0., 0., 0., 0., 0., 0., 0., 0., 0., 0., 0., 0., 0.,\n",
            "       0., 0., 0., 0., 0., 0., 0., 0., 0., 0., 0., 0., 0., 0., 0., 0., 0.,\n",
            "       0., 0., 0., 0., 0., 0., 0., 0., 0., 0., 0., 0., 0., 0., 0., 0., 0.,\n",
            "       0., 0., 0., 0., 0., 0., 0., 0., 0., 0., 0., 0., 0., 0., 0., 0., 0.,\n",
            "       0., 0., 0., 0., 0., 0., 0., 0., 0., 0., 0., 0., 0., 0., 0., 0., 0.,\n",
            "       0., 0., 0., 0., 0., 0., 0., 0., 0., 0., 0., 0., 0., 0., 0., 0., 0.,\n",
            "       0., 0., 0., 0., 0., 0., 0., 0., 0., 0., 0., 0., 0., 0., 0., 0., 0.,\n",
            "       0., 0., 0., 0., 0., 0., 0., 0., 0., 0., 0., 0., 0., 0., 0., 0., 0.,\n",
            "       0., 0., 0., 0., 0., 0., 0., 0., 0., 0., 0., 0., 0., 0., 0., 0., 0.,\n",
            "       0., 0., 0., 0., 0., 0., 0., 0., 0.]), array([1., 1., 1., 0., 1., 0., 1., 1., 1., 1., 1., 1., 0., 0., 1., 1., 1.,\n",
            "       1., 1., 1., 0., 1., 1., 1., 1., 1., 1., 1., 1., 1., 0., 1., 0., 1.,\n",
            "       1., 1., 1., 1., 1., 1., 1., 0., 1., 1., 1., 1., 1., 1., 1., 1., 1.,\n",
            "       1., 1., 1., 1., 1., 1., 1., 1., 1., 1., 1., 1., 0., 1., 1., 1., 1.,\n",
            "       1., 1., 1., 1., 1., 1., 1., 0., 1., 1., 1., 1., 1., 1., 1., 0., 1.,\n",
            "       0., 1., 1., 1., 1., 1., 1., 1., 1., 1., 1., 1., 1., 1., 1., 1., 1.,\n",
            "       1., 1., 1., 1., 1., 1., 1., 1., 1., 1., 0., 1., 1., 1., 1., 1., 1.,\n",
            "       1., 1., 1., 1., 1., 1., 1., 0., 1., 1., 1., 1., 1., 1., 1., 1., 1.,\n",
            "       1., 1., 1., 0., 1., 1., 1., 1., 1., 1., 1., 0., 0., 1., 0., 1., 1.,\n",
            "       1., 1., 1., 1., 0., 1., 1., 0., 1., 1., 1., 0., 0., 1., 0., 1., 0.,\n",
            "       1., 1., 1., 1., 1., 1., 1., 1., 1., 1., 1., 0., 1., 1., 1., 1., 1.,\n",
            "       1., 1., 1., 1., 0., 1., 1., 1., 1., 1., 0., 1., 1., 1., 1., 1., 1.,\n",
            "       1., 1., 1., 1., 0., 1., 1., 1., 0.]))\n"
          ],
          "name": "stdout"
        },
        {
          "output_type": "stream",
          "text": [
            "/usr/local/lib/python3.7/dist-packages/sklearn/metrics/_classification.py:1272: UndefinedMetricWarning: Precision and F-score are ill-defined and being set to 0.0 in labels with no predicted samples. Use `zero_division` parameter to control this behavior.\n",
            "  _warn_prf(average, modifier, msg_start, len(result))\n",
            "/usr/local/lib/python3.7/dist-packages/sklearn/metrics/_classification.py:1272: UndefinedMetricWarning: Recall and F-score are ill-defined and being set to 0.0 in labels with no true samples. Use `zero_division` parameter to control this behavior.\n",
            "  _warn_prf(average, modifier, msg_start, len(result))\n"
          ],
          "name": "stderr"
        }
      ]
    },
    {
      "cell_type": "code",
      "metadata": {
        "colab": {
          "base_uri": "https://localhost:8080/"
        },
        "id": "xEHy1gd28fhK",
        "outputId": "6b6809a2-d98c-4199-9d09-090448c4a22b"
      },
      "source": [
        "from sklearn.metrics import precision_score\n",
        "precision_score(y_test, predictions,average=None)"
      ],
      "execution_count": 33,
      "outputs": [
        {
          "output_type": "stream",
          "text": [
            "/usr/local/lib/python3.7/dist-packages/sklearn/metrics/_classification.py:1272: UndefinedMetricWarning: Precision is ill-defined and being set to 0.0 in labels with no predicted samples. Use `zero_division` parameter to control this behavior.\n",
            "  _warn_prf(average, modifier, msg_start, len(result))\n"
          ],
          "name": "stderr"
        },
        {
          "output_type": "execute_result",
          "data": {
            "text/plain": [
              "array([0., 0., 0., 0., 0., 0., 0., 0., 0., 0., 0., 0., 0., 0., 0., 0., 0.,\n",
              "       0., 0., 0., 0., 0., 0., 0., 0., 0., 0., 0., 0., 0., 0., 0., 0., 0.,\n",
              "       0., 0., 0., 0., 0., 0., 0., 0., 0., 0., 0., 0., 0., 0., 0., 0., 0.,\n",
              "       0., 0., 0., 0., 0., 0., 0., 0., 0., 0., 0., 0., 0., 0., 0., 0., 0.,\n",
              "       0., 0., 0., 0., 0., 0., 0., 0., 0., 0., 0., 0., 0., 0., 0., 0., 0.,\n",
              "       0., 0., 0., 0., 0., 0., 0., 0., 0., 0., 0., 0., 0., 0., 0., 0., 0.,\n",
              "       0., 0., 0., 0., 0., 0., 0., 0., 0., 0., 0., 0., 0., 0., 0., 0., 0.,\n",
              "       0., 0., 0., 0., 0., 0., 0., 0., 0., 0., 0., 0., 0., 0., 0., 0., 0.,\n",
              "       0., 0., 0., 0., 0., 0., 0., 0., 0., 0., 0., 0., 0., 0., 0., 0., 0.,\n",
              "       0., 0., 0., 0., 0., 0., 0., 0., 0., 0., 0., 0., 0., 0., 0., 0., 0.,\n",
              "       0., 0., 0., 0., 0., 0., 0., 0., 0., 0., 0., 0., 0., 0., 0., 0., 0.,\n",
              "       0., 0., 0., 0., 0., 0., 0., 0., 0., 0., 0., 0., 0., 0., 0., 0., 0.,\n",
              "       0., 0., 0., 0., 0., 0., 0., 0., 0.])"
            ]
          },
          "metadata": {
            "tags": []
          },
          "execution_count": 33
        }
      ]
    },
    {
      "cell_type": "code",
      "metadata": {
        "id": "4-SFMf_06TA_"
      },
      "source": [
        "def func(st):\n",
        "  if(st=='good'):\n",
        "    return(1)\n",
        "  elif(st=='neutral'):\n",
        "    return(0)\n",
        "  else:\n",
        "    return(-1)\n",
        "df['Alignment']=df.apply(lambda row : func(row['Alignment']), axis = 1)"
      ],
      "execution_count": 34,
      "outputs": []
    },
    {
      "cell_type": "code",
      "metadata": {
        "colab": {
          "base_uri": "https://localhost:8080/",
          "height": 203
        },
        "id": "Q1gq11d57Wsh",
        "outputId": "5864ff89-e67a-4acf-db6e-d6a09fd7ad2b"
      },
      "source": [
        "df.head()"
      ],
      "execution_count": 35,
      "outputs": [
        {
          "output_type": "execute_result",
          "data": {
            "text/html": [
              "<div>\n",
              "<style scoped>\n",
              "    .dataframe tbody tr th:only-of-type {\n",
              "        vertical-align: middle;\n",
              "    }\n",
              "\n",
              "    .dataframe tbody tr th {\n",
              "        vertical-align: top;\n",
              "    }\n",
              "\n",
              "    .dataframe thead th {\n",
              "        text-align: right;\n",
              "    }\n",
              "</style>\n",
              "<table border=\"1\" class=\"dataframe\">\n",
              "  <thead>\n",
              "    <tr style=\"text-align: right;\">\n",
              "      <th></th>\n",
              "      <th>Name</th>\n",
              "      <th>Alignment</th>\n",
              "      <th>Intelligence</th>\n",
              "      <th>Strength</th>\n",
              "      <th>Speed</th>\n",
              "      <th>Durability</th>\n",
              "      <th>Power</th>\n",
              "      <th>Combat</th>\n",
              "    </tr>\n",
              "  </thead>\n",
              "  <tbody>\n",
              "    <tr>\n",
              "      <th>0</th>\n",
              "      <td>3-D Man</td>\n",
              "      <td>1</td>\n",
              "      <td>0.437500</td>\n",
              "      <td>0.303030</td>\n",
              "      <td>0.424242</td>\n",
              "      <td>0.260504</td>\n",
              "      <td>0.25</td>\n",
              "      <td>0.51</td>\n",
              "    </tr>\n",
              "    <tr>\n",
              "      <th>1</th>\n",
              "      <td>A-Bomb</td>\n",
              "      <td>1</td>\n",
              "      <td>0.330357</td>\n",
              "      <td>1.000000</td>\n",
              "      <td>0.161616</td>\n",
              "      <td>0.663866</td>\n",
              "      <td>0.17</td>\n",
              "      <td>0.63</td>\n",
              "    </tr>\n",
              "    <tr>\n",
              "      <th>2</th>\n",
              "      <td>Abe Sapien</td>\n",
              "      <td>1</td>\n",
              "      <td>0.776786</td>\n",
              "      <td>0.131313</td>\n",
              "      <td>0.343434</td>\n",
              "      <td>0.344538</td>\n",
              "      <td>0.35</td>\n",
              "      <td>0.84</td>\n",
              "    </tr>\n",
              "    <tr>\n",
              "      <th>3</th>\n",
              "      <td>Abin Sur</td>\n",
              "      <td>1</td>\n",
              "      <td>0.437500</td>\n",
              "      <td>0.898990</td>\n",
              "      <td>0.525253</td>\n",
              "      <td>0.529412</td>\n",
              "      <td>0.84</td>\n",
              "      <td>0.64</td>\n",
              "    </tr>\n",
              "    <tr>\n",
              "      <th>4</th>\n",
              "      <td>Abomination</td>\n",
              "      <td>-1</td>\n",
              "      <td>0.553571</td>\n",
              "      <td>0.797980</td>\n",
              "      <td>0.525253</td>\n",
              "      <td>0.747899</td>\n",
              "      <td>0.55</td>\n",
              "      <td>0.94</td>\n",
              "    </tr>\n",
              "  </tbody>\n",
              "</table>\n",
              "</div>"
            ],
            "text/plain": [
              "          Name  Alignment  Intelligence  ...  Durability  Power  Combat\n",
              "0      3-D Man          1      0.437500  ...    0.260504   0.25    0.51\n",
              "1       A-Bomb          1      0.330357  ...    0.663866   0.17    0.63\n",
              "2   Abe Sapien          1      0.776786  ...    0.344538   0.35    0.84\n",
              "3     Abin Sur          1      0.437500  ...    0.529412   0.84    0.64\n",
              "4  Abomination         -1      0.553571  ...    0.747899   0.55    0.94\n",
              "\n",
              "[5 rows x 8 columns]"
            ]
          },
          "metadata": {
            "tags": []
          },
          "execution_count": 35
        }
      ]
    },
    {
      "cell_type": "code",
      "metadata": {
        "colab": {
          "base_uri": "https://localhost:8080/",
          "height": 295
        },
        "id": "ZnEoxwev7ajK",
        "outputId": "be5c1ac2-356c-4545-a35e-a20aeecb7a56"
      },
      "source": [
        "df.describe()"
      ],
      "execution_count": 36,
      "outputs": [
        {
          "output_type": "execute_result",
          "data": {
            "text/html": [
              "<div>\n",
              "<style scoped>\n",
              "    .dataframe tbody tr th:only-of-type {\n",
              "        vertical-align: middle;\n",
              "    }\n",
              "\n",
              "    .dataframe tbody tr th {\n",
              "        vertical-align: top;\n",
              "    }\n",
              "\n",
              "    .dataframe thead th {\n",
              "        text-align: right;\n",
              "    }\n",
              "</style>\n",
              "<table border=\"1\" class=\"dataframe\">\n",
              "  <thead>\n",
              "    <tr style=\"text-align: right;\">\n",
              "      <th></th>\n",
              "      <th>Alignment</th>\n",
              "      <th>Intelligence</th>\n",
              "      <th>Strength</th>\n",
              "      <th>Speed</th>\n",
              "      <th>Durability</th>\n",
              "      <th>Power</th>\n",
              "      <th>Combat</th>\n",
              "    </tr>\n",
              "  </thead>\n",
              "  <tbody>\n",
              "    <tr>\n",
              "      <th>count</th>\n",
              "      <td>611.000000</td>\n",
              "      <td>611.000000</td>\n",
              "      <td>611.000000</td>\n",
              "      <td>611.000000</td>\n",
              "      <td>611.000000</td>\n",
              "      <td>611.000000</td>\n",
              "      <td>611.000000</td>\n",
              "    </tr>\n",
              "    <tr>\n",
              "      <th>mean</th>\n",
              "      <td>0.436989</td>\n",
              "      <td>0.388415</td>\n",
              "      <td>0.283671</td>\n",
              "      <td>0.265718</td>\n",
              "      <td>0.343190</td>\n",
              "      <td>0.403126</td>\n",
              "      <td>0.422062</td>\n",
              "    </tr>\n",
              "    <tr>\n",
              "      <th>std</th>\n",
              "      <td>0.887365</td>\n",
              "      <td>0.293971</td>\n",
              "      <td>0.329403</td>\n",
              "      <td>0.260204</td>\n",
              "      <td>0.307091</td>\n",
              "      <td>0.345399</td>\n",
              "      <td>0.332703</td>\n",
              "    </tr>\n",
              "    <tr>\n",
              "      <th>min</th>\n",
              "      <td>-1.000000</td>\n",
              "      <td>0.000000</td>\n",
              "      <td>0.000000</td>\n",
              "      <td>0.000000</td>\n",
              "      <td>0.000000</td>\n",
              "      <td>0.000000</td>\n",
              "      <td>0.000000</td>\n",
              "    </tr>\n",
              "    <tr>\n",
              "      <th>25%</th>\n",
              "      <td>-1.000000</td>\n",
              "      <td>0.000000</td>\n",
              "      <td>0.000000</td>\n",
              "      <td>0.000000</td>\n",
              "      <td>0.000000</td>\n",
              "      <td>0.000000</td>\n",
              "      <td>0.000000</td>\n",
              "    </tr>\n",
              "    <tr>\n",
              "      <th>50%</th>\n",
              "      <td>1.000000</td>\n",
              "      <td>0.437500</td>\n",
              "      <td>0.090909</td>\n",
              "      <td>0.222222</td>\n",
              "      <td>0.260504</td>\n",
              "      <td>0.370000</td>\n",
              "      <td>0.490000</td>\n",
              "    </tr>\n",
              "    <tr>\n",
              "      <th>75%</th>\n",
              "      <td>1.000000</td>\n",
              "      <td>0.660714</td>\n",
              "      <td>0.525253</td>\n",
              "      <td>0.414141</td>\n",
              "      <td>0.663866</td>\n",
              "      <td>0.670000</td>\n",
              "      <td>0.690000</td>\n",
              "    </tr>\n",
              "    <tr>\n",
              "      <th>max</th>\n",
              "      <td>1.000000</td>\n",
              "      <td>1.000000</td>\n",
              "      <td>1.000000</td>\n",
              "      <td>1.000000</td>\n",
              "      <td>1.000000</td>\n",
              "      <td>1.000000</td>\n",
              "      <td>1.000000</td>\n",
              "    </tr>\n",
              "  </tbody>\n",
              "</table>\n",
              "</div>"
            ],
            "text/plain": [
              "        Alignment  Intelligence    Strength  ...  Durability       Power      Combat\n",
              "count  611.000000    611.000000  611.000000  ...  611.000000  611.000000  611.000000\n",
              "mean     0.436989      0.388415    0.283671  ...    0.343190    0.403126    0.422062\n",
              "std      0.887365      0.293971    0.329403  ...    0.307091    0.345399    0.332703\n",
              "min     -1.000000      0.000000    0.000000  ...    0.000000    0.000000    0.000000\n",
              "25%     -1.000000      0.000000    0.000000  ...    0.000000    0.000000    0.000000\n",
              "50%      1.000000      0.437500    0.090909  ...    0.260504    0.370000    0.490000\n",
              "75%      1.000000      0.660714    0.525253  ...    0.663866    0.670000    0.690000\n",
              "max      1.000000      1.000000    1.000000  ...    1.000000    1.000000    1.000000\n",
              "\n",
              "[8 rows x 7 columns]"
            ]
          },
          "metadata": {
            "tags": []
          },
          "execution_count": 36
        }
      ]
    },
    {
      "cell_type": "code",
      "metadata": {
        "colab": {
          "base_uri": "https://localhost:8080/"
        },
        "id": "mGM4TGDjjxYt",
        "outputId": "bcabd8ef-3fb3-40d1-ce15-798e6803a5b6"
      },
      "source": [
        "from sklearn.metrics import classification_report\n",
        "print(classification_report(y_test, predictions))"
      ],
      "execution_count": 38,
      "outputs": [
        {
          "output_type": "stream",
          "text": [
            "                   precision    recall  f1-score   support\n",
            "\n",
            "          3-D Man       0.00      0.00      0.00       1.0\n",
            "       Abe Sapien       0.00      0.00      0.00       1.0\n",
            "      Abomination       0.00      0.00      0.00       1.0\n",
            "          Abraxas       0.00      0.00      0.00       0.0\n",
            "        Agent  13       0.00      0.00      0.00       1.0\n",
            "       Air-Walker       0.00      0.00      0.00       0.0\n",
            "       Alan Scott       0.00      0.00      0.00       1.0\n",
            "            Amazo       0.00      0.00      0.00       1.0\n",
            "   Ando Masahashi       0.00      0.00      0.00       1.0\n",
            "            Angel       0.00      0.00      0.00       1.0\n",
            "        Annihilus       0.00      0.00      0.00       1.0\n",
            "          Ant-Man       0.00      0.00      0.00       1.0\n",
            "       Anti-Venom       0.00      0.00      0.00       0.0\n",
            "       Apocalypse       0.00      0.00      0.00       0.0\n",
            "         Aquababy       0.00      0.00      0.00       1.0\n",
            "          Aqualad       0.00      0.00      0.00       1.0\n",
            "          Aquaman       0.00      0.00      0.00       1.0\n",
            "          Arachne       0.00      0.00      0.00       1.0\n",
            "          Arsenal       0.00      0.00      0.00       1.0\n",
            "           Aurora       0.00      0.00      0.00       1.0\n",
            "             Bane       0.00      0.00      0.00       0.0\n",
            "        Batgirl I       0.00      0.00      0.00       1.0\n",
            "       Batgirl II       0.00      0.00      0.00       1.0\n",
            "       Batgirl IV       0.00      0.00      0.00       1.0\n",
            "       Batgirl VI       0.00      0.00      0.00       1.0\n",
            "        Batman II       0.00      0.00      0.00       1.0\n",
            "             Beak       0.00      0.00      0.00       1.0\n",
            "            Beast       0.00      0.00      0.00       1.0\n",
            "        Big Daddy       0.00      0.00      0.00       1.0\n",
            "           Bishop       0.00      0.00      0.00       1.0\n",
            "          Bizarro       0.00      0.00      0.00       0.0\n",
            "     Black Abbott       0.00      0.00      0.00       1.0\n",
            "       Black Adam       0.00      0.00      0.00       0.0\n",
            "   Black Canary I       0.00      0.00      0.00       1.0\n",
            "    Black Goliath       0.00      0.00      0.00       1.0\n",
            "        Blackwulf       0.00      0.00      0.00       1.0\n",
            "      Blaquesmith       0.00      0.00      0.00       1.0\n",
            "       Blizzard I       0.00      0.00      0.00       1.0\n",
            "             Blob       0.00      0.00      0.00       1.0\n",
            "         Bloodaxe       0.00      0.00      0.00       1.0\n",
            "      Bloodwraith       0.00      0.00      0.00       1.0\n",
            "    Blue Beetle I       0.00      0.00      0.00       0.0\n",
            "  Blue Beetle III       0.00      0.00      0.00       1.0\n",
            "             Bolt       0.00      0.00      0.00       1.0\n",
            "        Boom Boom       0.00      0.00      0.00       1.0\n",
            "           Boomer       0.00      0.00      0.00       1.0\n",
            "     Booster Gold       0.00      0.00      0.00       1.0\n",
            "   Brother Voodoo       0.00      0.00      0.00       1.0\n",
            "          Bushido       0.00      0.00      0.00       1.0\n",
            "         Callisto       0.00      0.00      0.00       1.0\n",
            "   Captain Marvel       0.00      0.00      0.00       1.0\n",
            "Captain Marvel II       0.00      0.00      0.00       1.0\n",
            " Captain Universe       0.00      0.00      0.00       1.0\n",
            "          Century       0.00      0.00      0.00       1.0\n",
            "          Cerebra       0.00      0.00      0.00       1.0\n",
            "     Chuck Norris       0.00      0.00      0.00       1.0\n",
            "    Claire Bennet       0.00      0.00      0.00       1.0\n",
            "     Colin Wagner       0.00      0.00      0.00       1.0\n",
            "            Curse       0.00      0.00      0.00       1.0\n",
            "           Cypher       0.00      0.00      0.00       1.0\n",
            "           Dagger       0.00      0.00      0.00       1.0\n",
            "     Danny Cooper       0.00      0.00      0.00       1.0\n",
            "         Darkhawk       0.00      0.00      0.00       1.0\n",
            "         Darkseid       0.00      0.00      0.00       0.0\n",
            "         Darkside       0.00      0.00      0.00       1.0\n",
            "         Deadpool       0.00      0.00      0.00       1.0\n",
            "         Deadshot       0.00      0.00      0.00       1.0\n",
            "         Deathlok       0.00      0.00      0.00       1.0\n",
            "      Doctor Doom       0.00      0.00      0.00       1.0\n",
            "     Doppelganger       0.00      0.00      0.00       1.0\n",
            "     Dr Manhattan       0.00      0.00      0.00       1.0\n",
            "            ERG-1       0.00      0.00      0.00       1.0\n",
            "              Ego       0.00      0.00      0.00       1.0\n",
            "      Elle Bishop       0.00      0.00      0.00       1.0\n",
            "           Energy       0.00      0.00      0.00       1.0\n",
            "           Exodus       0.00      0.00      0.00       0.0\n",
            "    Fabian Cortez       0.00      0.00      0.00       1.0\n",
            "         Firelord       0.00      0.00      0.00       1.0\n",
            "            Fixer       0.00      0.00      0.00       1.0\n",
            "     Flash Gordon       0.00      0.00      0.00       1.0\n",
            "           Frenzy       0.00      0.00      0.00       1.0\n",
            "           Frigga       0.00      0.00      0.00       1.0\n",
            "        Gary Bell       0.00      0.00      0.00       1.0\n",
            "      General Zod       0.00      0.00      0.00       0.0\n",
            "        Giant-Man       0.00      0.00      0.00       1.0\n",
            "          Giganta       0.00      0.00      0.00       0.0\n",
            "       Goliath IV       0.00      0.00      0.00       1.0\n",
            "  Granny Goodness       0.00      0.00      0.00       1.0\n",
            "          Gravity       0.00      0.00      0.00       1.0\n",
            "  Green Goblin II       0.00      0.00      0.00       1.0\n",
            "            Groot       0.00      0.00      0.00       1.0\n",
            "          Hancock       0.00      0.00      0.00       1.0\n",
            "     Harley Quinn       0.00      0.00      0.00       1.0\n",
            "            Havok       0.00      0.00      0.00       1.0\n",
            "          Hawkeye       0.00      0.00      0.00       1.0\n",
            "          Hawkman       0.00      0.00      0.00       1.0\n",
            "          Hellboy       0.00      0.00      0.00       1.0\n",
            "          Hellcat       0.00      0.00      0.00       1.0\n",
            "    Hiro Nakamura       0.00      0.00      0.00       1.0\n",
            "     Hope Summers       0.00      0.00      0.00       1.0\n",
            "         Huntress       0.00      0.00      0.00       1.0\n",
            "          Impulse       0.00      0.00      0.00       1.0\n",
            "              Ink       0.00      0.00      0.00       1.0\n",
            "   Jack of Hearts       0.00      0.00      0.00       1.0\n",
            "  Jessica Sanders       0.00      0.00      0.00       1.0\n",
            "    Johann Krauss       0.00      0.00      0.00       1.0\n",
            "     John Stewart       0.00      0.00      0.00       1.0\n",
            "      John Wraith       0.00      0.00      0.00       1.0\n",
            "            Joker       0.00      0.00      0.00       1.0\n",
            "       Juggernaut       0.00      0.00      0.00       1.0\n",
            "         Junkpile       0.00      0.00      0.00       1.0\n",
            "             Kang       0.00      0.00      0.00       1.0\n",
            "         Kevin 11       0.00      0.00      0.00       0.0\n",
            "         Kick-Ass       0.00      0.00      0.00       1.0\n",
            "      Killer Croc       0.00      0.00      0.00       1.0\n",
            "          Kingpin       0.00      0.00      0.00       1.0\n",
            "        Kraven II       0.00      0.00      0.00       1.0\n",
            "    Lady Bullseye       0.00      0.00      0.00       1.0\n",
            " Lady Deathstrike       0.00      0.00      0.00       1.0\n",
            "           Leader       0.00      0.00      0.00       1.0\n",
            "   Lightning Lord       0.00      0.00      0.00       1.0\n",
            "     Living Brain       0.00      0.00      0.00       1.0\n",
            "           Lizard       0.00      0.00      0.00       1.0\n",
            "             Lobo       0.00      0.00      0.00       1.0\n",
            "             Loki       0.00      0.00      0.00       1.0\n",
            "         Longshot       0.00      0.00      0.00       1.0\n",
            "    Luke Campbell       0.00      0.00      0.00       0.0\n",
            "          Mach-IV       0.00      0.00      0.00       1.0\n",
            "          Magneto       0.00      0.00      0.00       1.0\n",
            "            Magog       0.00      0.00      0.00       1.0\n",
            "         Mandarin       0.00      0.00      0.00       1.0\n",
            "Martian Manhunter       0.00      0.00      0.00       1.0\n",
            "     Master Brood       0.00      0.00      0.00       1.0\n",
            "            Match       0.00      0.00      0.00       1.0\n",
            "         Maverick       0.00      0.00      0.00       1.0\n",
            "       Metamorpho       0.00      0.00      0.00       1.0\n",
            "        Meteorite       0.00      0.00      0.00       1.0\n",
            "     Minna Murray       0.00      0.00      0.00       1.0\n",
            "           Misfit       0.00      0.00      0.00       1.0\n",
            "  Mister Mxyzptlk       0.00      0.00      0.00       0.0\n",
            "  Mister Sinister       0.00      0.00      0.00       1.0\n",
            "             Mogo       0.00      0.00      0.00       1.0\n",
            "           Moloch       0.00      0.00      0.00       1.0\n",
            "           Morlun       0.00      0.00      0.00       1.0\n",
            "     Moses Magnum       0.00      0.00      0.00       1.0\n",
            "       Mysterio I       0.00      0.00      0.00       1.0\n",
            "         Namorita       0.00      0.00      0.00       1.0\n",
            "        Nick Fury       0.00      0.00      0.00       0.0\n",
            "        Nightwing       0.00      0.00      0.00       0.0\n",
            "      Nite Owl II       0.00      0.00      0.00       1.0\n",
            "             Nova       0.00      0.00      0.00       0.0\n",
            "       Omniscient       0.00      0.00      0.00       1.0\n",
            "           Osiris       0.00      0.00      0.00       1.0\n",
            "        Overtkill       0.00      0.00      0.00       1.0\n",
            "          Penance       0.00      0.00      0.00       1.0\n",
            "        Penance I       0.00      0.00      0.00       1.0\n",
            "     Phantom Girl       0.00      0.00      0.00       1.0\n",
            "      Professor X       0.00      0.00      0.00       0.0\n",
            "     Proto-Goblin       0.00      0.00      0.00       1.0\n",
            "         Psylocke       0.00      0.00      0.00       1.0\n",
            "         Punisher       0.00      0.00      0.00       0.0\n",
            "             Pyro       0.00      0.00      0.00       1.0\n",
            "     Ra's Al Ghul       0.00      0.00      0.00       1.0\n",
            "    Rachel Pirzad       0.00      0.00      0.00       1.0\n",
            "         Red Hood       0.00      0.00      0.00       0.0\n",
            "        Red Skull       0.00      0.00      0.00       0.0\n",
            "      Redeemer II       0.00      0.00      0.00       1.0\n",
            "            Rhino       0.00      0.00      0.00       0.0\n",
            "        Rick Flag       0.00      0.00      0.00       1.0\n",
            "          Riddler       0.00      0.00      0.00       0.0\n",
            "   Rocket Raccoon       0.00      0.00      0.00       1.0\n",
            "   Scarlet Spider       0.00      0.00      0.00       1.0\n",
            "Scarlet Spider II       0.00      0.00      0.00       1.0\n",
            "          Scorpia       0.00      0.00      0.00       1.0\n",
            "        Shadowcat       0.00      0.00      0.00       1.0\n",
            "        Shang-Chi       0.00      0.00      0.00       1.0\n",
            "      Shatterstar       0.00      0.00      0.00       1.0\n",
            "         She-Hulk       0.00      0.00      0.00       1.0\n",
            "              Sif       0.00      0.00      0.00       1.0\n",
            "         Sinestro       0.00      0.00      0.00       1.0\n",
            "            Siryn       0.00      0.00      0.00       1.0\n",
            "   Solomon Grundy       0.00      0.00      0.00       0.0\n",
            "   Spider-Carnage       0.00      0.00      0.00       1.0\n",
            "       Spider-Man       0.00      0.00      0.00       1.0\n",
            "     Spider-Woman       0.00      0.00      0.00       1.0\n",
            " Spider-Woman III       0.00      0.00      0.00       1.0\n",
            "        Spiderman       0.00      0.00      0.00       1.0\n",
            "         Stardust       0.00      0.00      0.00       1.0\n",
            "         Superboy       0.00      0.00      0.00       1.0\n",
            "   Superboy-Prime       0.00      0.00      0.00       1.0\n",
            "        Supergirl       0.00      0.00      0.00       1.0\n",
            "           Thanos       0.00      0.00      0.00       0.0\n",
            "         The Cape       0.00      0.00      0.00       1.0\n",
            "     The Comedian       0.00      0.00      0.00       1.0\n",
            "            Thing       0.00      0.00      0.00       1.0\n",
            "             Thor       0.00      0.00      0.00       1.0\n",
            "  Thunderbird III       0.00      0.00      0.00       1.0\n",
            "        Trickster       0.00      0.00      0.00       0.0\n",
            "           Ultron       0.00      0.00      0.00       1.0\n",
            "      Utgard-Loki       0.00      0.00      0.00       1.0\n",
            "         Vagabond       0.00      0.00      0.00       1.0\n",
            "         Valkyrie       0.00      0.00      0.00       1.0\n",
            "         Vanisher       0.00      0.00      0.00       1.0\n",
            "         Venom II       0.00      0.00      0.00       1.0\n",
            "        Vision II       0.00      0.00      0.00       1.0\n",
            "          Warbird       0.00      0.00      0.00       1.0\n",
            "         Wildfire       0.00      0.00      0.00       1.0\n",
            "        Wolfsbane       0.00      0.00      0.00       1.0\n",
            "   Wyatt Wingfoot       0.00      0.00      0.00       0.0\n",
            "             X-23       0.00      0.00      0.00       1.0\n",
            "            X-Man       0.00      0.00      0.00       1.0\n",
            "      Yellow Claw       0.00      0.00      0.00       1.0\n",
            "             Zoom       0.00      0.00      0.00       0.0\n",
            "\n",
            "         accuracy                           0.00     184.0\n",
            "        macro avg       0.00      0.00      0.00     184.0\n",
            "     weighted avg       0.00      0.00      0.00     184.0\n",
            "\n"
          ],
          "name": "stdout"
        },
        {
          "output_type": "stream",
          "text": [
            "/usr/local/lib/python3.7/dist-packages/sklearn/metrics/_classification.py:1272: UndefinedMetricWarning: Precision and F-score are ill-defined and being set to 0.0 in labels with no predicted samples. Use `zero_division` parameter to control this behavior.\n",
            "  _warn_prf(average, modifier, msg_start, len(result))\n",
            "/usr/local/lib/python3.7/dist-packages/sklearn/metrics/_classification.py:1272: UndefinedMetricWarning: Recall and F-score are ill-defined and being set to 0.0 in labels with no true samples. Use `zero_division` parameter to control this behavior.\n",
            "  _warn_prf(average, modifier, msg_start, len(result))\n"
          ],
          "name": "stderr"
        }
      ]
    },
    {
      "cell_type": "code",
      "metadata": {
        "id": "BtCMSKBynNwx"
      },
      "source": [
        ""
      ],
      "execution_count": null,
      "outputs": []
    }
  ]
}