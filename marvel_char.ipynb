{
  "nbformat": 4,
  "nbformat_minor": 0,
  "metadata": {
    "colab": {
      "name": "marvel_char.ipynb",
      "provenance": [],
      "collapsed_sections": [],
      "mount_file_id": "1Kwu-cGZaNhs5Akh9WEnC71fvQdgoUKfb",
      "authorship_tag": "ABX9TyOHoDT8ebuR4cIqdaDQccfr",
      "include_colab_link": true
    },
    "kernelspec": {
      "name": "python3",
      "display_name": "Python 3"
    },
    "language_info": {
      "name": "python"
    }
  },
  "cells": [
    {
      "cell_type": "markdown",
      "metadata": {
        "id": "view-in-github",
        "colab_type": "text"
      },
      "source": [
        "<a href=\"https://colab.research.google.com/github/vaibhavgupta2499/ColabWorks/blob/main/marvel_char.ipynb\" target=\"_parent\"><img src=\"https://colab.research.google.com/assets/colab-badge.svg\" alt=\"Open In Colab\"/></a>"
      ]
    },
    {
      "cell_type": "code",
      "metadata": {
        "id": "OXjkwQb2GGpb"
      },
      "source": [
        "import numpy as np\n",
        "import pandas as pd\n",
        "import matplotlib.pyplot as plt"
      ],
      "execution_count": 1,
      "outputs": []
    },
    {
      "cell_type": "code",
      "metadata": {
        "colab": {
          "base_uri": "https://localhost:8080/"
        },
        "id": "PdjZRz9Z0SBJ",
        "outputId": "9b76d02e-6260-41af-9fac-47f7e8024704"
      },
      "source": [
        "from google.colab import drive\n",
        "drive.mount('/content/drive')"
      ],
      "execution_count": 1,
      "outputs": [
        {
          "output_type": "stream",
          "text": [
            "Drive already mounted at /content/drive; to attempt to forcibly remount, call drive.mount(\"/content/drive\", force_remount=True).\n"
          ],
          "name": "stdout"
        }
      ]
    },
    {
      "cell_type": "code",
      "metadata": {
        "id": "c3rBqSYTGS1a"
      },
      "source": [
        "df=pd.read_csv('/content/drive/MyDrive/marvelCharactersDataset/charcters_stats.csv')"
      ],
      "execution_count": 63,
      "outputs": []
    },
    {
      "cell_type": "code",
      "metadata": {
        "colab": {
          "base_uri": "https://localhost:8080/",
          "height": 417
        },
        "id": "3N6F5hvoG-Mu",
        "outputId": "474a8053-95e5-4426-f3f1-4f26aa624978"
      },
      "source": [
        "df"
      ],
      "execution_count": 39,
      "outputs": [
        {
          "output_type": "execute_result",
          "data": {
            "text/html": [
              "<div>\n",
              "<style scoped>\n",
              "    .dataframe tbody tr th:only-of-type {\n",
              "        vertical-align: middle;\n",
              "    }\n",
              "\n",
              "    .dataframe tbody tr th {\n",
              "        vertical-align: top;\n",
              "    }\n",
              "\n",
              "    .dataframe thead th {\n",
              "        text-align: right;\n",
              "    }\n",
              "</style>\n",
              "<table border=\"1\" class=\"dataframe\">\n",
              "  <thead>\n",
              "    <tr style=\"text-align: right;\">\n",
              "      <th></th>\n",
              "      <th>Name</th>\n",
              "      <th>Alignment</th>\n",
              "      <th>Intelligence</th>\n",
              "      <th>Strength</th>\n",
              "      <th>Speed</th>\n",
              "      <th>Durability</th>\n",
              "      <th>Power</th>\n",
              "      <th>Combat</th>\n",
              "      <th>Total</th>\n",
              "    </tr>\n",
              "  </thead>\n",
              "  <tbody>\n",
              "    <tr>\n",
              "      <th>0</th>\n",
              "      <td>3-D Man</td>\n",
              "      <td>good</td>\n",
              "      <td>50</td>\n",
              "      <td>31</td>\n",
              "      <td>43</td>\n",
              "      <td>32</td>\n",
              "      <td>25</td>\n",
              "      <td>52</td>\n",
              "      <td>233</td>\n",
              "    </tr>\n",
              "    <tr>\n",
              "      <th>1</th>\n",
              "      <td>A-Bomb</td>\n",
              "      <td>good</td>\n",
              "      <td>38</td>\n",
              "      <td>100</td>\n",
              "      <td>17</td>\n",
              "      <td>80</td>\n",
              "      <td>17</td>\n",
              "      <td>64</td>\n",
              "      <td>316</td>\n",
              "    </tr>\n",
              "    <tr>\n",
              "      <th>2</th>\n",
              "      <td>Abe Sapien</td>\n",
              "      <td>good</td>\n",
              "      <td>88</td>\n",
              "      <td>14</td>\n",
              "      <td>35</td>\n",
              "      <td>42</td>\n",
              "      <td>35</td>\n",
              "      <td>85</td>\n",
              "      <td>299</td>\n",
              "    </tr>\n",
              "    <tr>\n",
              "      <th>3</th>\n",
              "      <td>Abin Sur</td>\n",
              "      <td>good</td>\n",
              "      <td>50</td>\n",
              "      <td>90</td>\n",
              "      <td>53</td>\n",
              "      <td>64</td>\n",
              "      <td>84</td>\n",
              "      <td>65</td>\n",
              "      <td>406</td>\n",
              "    </tr>\n",
              "    <tr>\n",
              "      <th>4</th>\n",
              "      <td>Abomination</td>\n",
              "      <td>bad</td>\n",
              "      <td>63</td>\n",
              "      <td>80</td>\n",
              "      <td>53</td>\n",
              "      <td>90</td>\n",
              "      <td>55</td>\n",
              "      <td>95</td>\n",
              "      <td>436</td>\n",
              "    </tr>\n",
              "    <tr>\n",
              "      <th>...</th>\n",
              "      <td>...</td>\n",
              "      <td>...</td>\n",
              "      <td>...</td>\n",
              "      <td>...</td>\n",
              "      <td>...</td>\n",
              "      <td>...</td>\n",
              "      <td>...</td>\n",
              "      <td>...</td>\n",
              "      <td>...</td>\n",
              "    </tr>\n",
              "    <tr>\n",
              "      <th>606</th>\n",
              "      <td>Yellowjacket</td>\n",
              "      <td>good</td>\n",
              "      <td>88</td>\n",
              "      <td>10</td>\n",
              "      <td>12</td>\n",
              "      <td>28</td>\n",
              "      <td>12</td>\n",
              "      <td>14</td>\n",
              "      <td>164</td>\n",
              "    </tr>\n",
              "    <tr>\n",
              "      <th>607</th>\n",
              "      <td>Yellowjacket II</td>\n",
              "      <td>good</td>\n",
              "      <td>50</td>\n",
              "      <td>10</td>\n",
              "      <td>35</td>\n",
              "      <td>28</td>\n",
              "      <td>31</td>\n",
              "      <td>28</td>\n",
              "      <td>182</td>\n",
              "    </tr>\n",
              "    <tr>\n",
              "      <th>608</th>\n",
              "      <td>Ymir</td>\n",
              "      <td>good</td>\n",
              "      <td>50</td>\n",
              "      <td>100</td>\n",
              "      <td>27</td>\n",
              "      <td>100</td>\n",
              "      <td>83</td>\n",
              "      <td>28</td>\n",
              "      <td>388</td>\n",
              "    </tr>\n",
              "    <tr>\n",
              "      <th>609</th>\n",
              "      <td>Zatanna</td>\n",
              "      <td>good</td>\n",
              "      <td>75</td>\n",
              "      <td>10</td>\n",
              "      <td>23</td>\n",
              "      <td>28</td>\n",
              "      <td>100</td>\n",
              "      <td>56</td>\n",
              "      <td>292</td>\n",
              "    </tr>\n",
              "    <tr>\n",
              "      <th>610</th>\n",
              "      <td>Zoom</td>\n",
              "      <td>bad</td>\n",
              "      <td>50</td>\n",
              "      <td>10</td>\n",
              "      <td>100</td>\n",
              "      <td>28</td>\n",
              "      <td>72</td>\n",
              "      <td>28</td>\n",
              "      <td>288</td>\n",
              "    </tr>\n",
              "  </tbody>\n",
              "</table>\n",
              "<p>611 rows × 9 columns</p>\n",
              "</div>"
            ],
            "text/plain": [
              "                Name Alignment  Intelligence  ...  Power  Combat  Total\n",
              "0            3-D Man      good            50  ...     25      52    233\n",
              "1             A-Bomb      good            38  ...     17      64    316\n",
              "2         Abe Sapien      good            88  ...     35      85    299\n",
              "3           Abin Sur      good            50  ...     84      65    406\n",
              "4        Abomination       bad            63  ...     55      95    436\n",
              "..               ...       ...           ...  ...    ...     ...    ...\n",
              "606     Yellowjacket      good            88  ...     12      14    164\n",
              "607  Yellowjacket II      good            50  ...     31      28    182\n",
              "608             Ymir      good            50  ...     83      28    388\n",
              "609          Zatanna      good            75  ...    100      56    292\n",
              "610             Zoom       bad            50  ...     72      28    288\n",
              "\n",
              "[611 rows x 9 columns]"
            ]
          },
          "metadata": {
            "tags": []
          },
          "execution_count": 39
        }
      ]
    },
    {
      "cell_type": "code",
      "metadata": {
        "colab": {
          "base_uri": "https://localhost:8080/"
        },
        "id": "EuYGsMgUG_Fi",
        "outputId": "92278bf2-bb66-4446-c791-3e8c851ae1a2"
      },
      "source": [
        "for x in list(df.columns):\n",
        "  print(x+' - '+str(df[x].isnull().sum()))"
      ],
      "execution_count": 40,
      "outputs": [
        {
          "output_type": "stream",
          "text": [
            "Name - 0\n",
            "Alignment - 3\n",
            "Intelligence - 0\n",
            "Strength - 0\n",
            "Speed - 0\n",
            "Durability - 0\n",
            "Power - 0\n",
            "Combat - 0\n",
            "Total - 0\n"
          ],
          "name": "stdout"
        }
      ]
    },
    {
      "cell_type": "code",
      "metadata": {
        "colab": {
          "base_uri": "https://localhost:8080/"
        },
        "id": "Djx6LQabH809",
        "outputId": "53bf13de-298e-46dd-99ad-8873b854941d"
      },
      "source": [
        "df.Alignment.unique()"
      ],
      "execution_count": 41,
      "outputs": [
        {
          "output_type": "execute_result",
          "data": {
            "text/plain": [
              "array(['good', 'bad', nan, 'neutral'], dtype=object)"
            ]
          },
          "metadata": {
            "tags": []
          },
          "execution_count": 41
        }
      ]
    },
    {
      "cell_type": "code",
      "metadata": {
        "id": "YUHzOGp8HMaY"
      },
      "source": [
        "df['Alignment'].fillna('neutral',inplace=True)"
      ],
      "execution_count": 64,
      "outputs": []
    },
    {
      "cell_type": "code",
      "metadata": {
        "colab": {
          "base_uri": "https://localhost:8080/"
        },
        "id": "5_AjavIWIflZ",
        "outputId": "e5beb247-d97b-465e-ecc9-bfa3bb8e9f75"
      },
      "source": [
        "df['Alignment'].isnull().sum()"
      ],
      "execution_count": 43,
      "outputs": [
        {
          "output_type": "execute_result",
          "data": {
            "text/plain": [
              "0"
            ]
          },
          "metadata": {
            "tags": []
          },
          "execution_count": 43
        }
      ]
    },
    {
      "cell_type": "code",
      "metadata": {
        "colab": {
          "base_uri": "https://localhost:8080/"
        },
        "id": "CrUUGF5-IjE8",
        "outputId": "3a266764-51d4-402d-9a40-f8ee909a1a1c"
      },
      "source": [
        "df.Alignment.unique()"
      ],
      "execution_count": 44,
      "outputs": [
        {
          "output_type": "execute_result",
          "data": {
            "text/plain": [
              "array(['good', 'bad', 'neutral'], dtype=object)"
            ]
          },
          "metadata": {
            "tags": []
          },
          "execution_count": 44
        }
      ]
    },
    {
      "cell_type": "code",
      "metadata": {
        "colab": {
          "base_uri": "https://localhost:8080/"
        },
        "id": "hKPbK5e0ImVp",
        "outputId": "0ef3aeac-66f3-4912-9585-57880842a4cb"
      },
      "source": [
        "df.info()"
      ],
      "execution_count": 45,
      "outputs": [
        {
          "output_type": "stream",
          "text": [
            "<class 'pandas.core.frame.DataFrame'>\n",
            "RangeIndex: 611 entries, 0 to 610\n",
            "Data columns (total 9 columns):\n",
            " #   Column        Non-Null Count  Dtype \n",
            "---  ------        --------------  ----- \n",
            " 0   Name          611 non-null    object\n",
            " 1   Alignment     611 non-null    object\n",
            " 2   Intelligence  611 non-null    int64 \n",
            " 3   Strength      611 non-null    int64 \n",
            " 4   Speed         611 non-null    int64 \n",
            " 5   Durability    611 non-null    int64 \n",
            " 6   Power         611 non-null    int64 \n",
            " 7   Combat        611 non-null    int64 \n",
            " 8   Total         611 non-null    int64 \n",
            "dtypes: int64(7), object(2)\n",
            "memory usage: 43.1+ KB\n"
          ],
          "name": "stdout"
        }
      ]
    },
    {
      "cell_type": "code",
      "metadata": {
        "colab": {
          "base_uri": "https://localhost:8080/",
          "height": 295
        },
        "id": "HV-GPojcIpBc",
        "outputId": "d4e8323c-11d0-4a68-de1e-d454530fc58a"
      },
      "source": [
        "df.describe()"
      ],
      "execution_count": 46,
      "outputs": [
        {
          "output_type": "execute_result",
          "data": {
            "text/html": [
              "<div>\n",
              "<style scoped>\n",
              "    .dataframe tbody tr th:only-of-type {\n",
              "        vertical-align: middle;\n",
              "    }\n",
              "\n",
              "    .dataframe tbody tr th {\n",
              "        vertical-align: top;\n",
              "    }\n",
              "\n",
              "    .dataframe thead th {\n",
              "        text-align: right;\n",
              "    }\n",
              "</style>\n",
              "<table border=\"1\" class=\"dataframe\">\n",
              "  <thead>\n",
              "    <tr style=\"text-align: right;\">\n",
              "      <th></th>\n",
              "      <th>Intelligence</th>\n",
              "      <th>Strength</th>\n",
              "      <th>Speed</th>\n",
              "      <th>Durability</th>\n",
              "      <th>Power</th>\n",
              "      <th>Combat</th>\n",
              "      <th>Total</th>\n",
              "    </tr>\n",
              "  </thead>\n",
              "  <tbody>\n",
              "    <tr>\n",
              "      <th>count</th>\n",
              "      <td>611.000000</td>\n",
              "      <td>611.000000</td>\n",
              "      <td>611.000000</td>\n",
              "      <td>611.000000</td>\n",
              "      <td>611.000000</td>\n",
              "      <td>611.000000</td>\n",
              "      <td>611.000000</td>\n",
              "    </tr>\n",
              "    <tr>\n",
              "      <th>mean</th>\n",
              "      <td>44.502455</td>\n",
              "      <td>29.083470</td>\n",
              "      <td>27.306056</td>\n",
              "      <td>41.839607</td>\n",
              "      <td>40.312602</td>\n",
              "      <td>43.206219</td>\n",
              "      <td>226.250409</td>\n",
              "    </tr>\n",
              "    <tr>\n",
              "      <th>std</th>\n",
              "      <td>32.924722</td>\n",
              "      <td>32.610939</td>\n",
              "      <td>25.760173</td>\n",
              "      <td>36.543849</td>\n",
              "      <td>34.539910</td>\n",
              "      <td>33.270329</td>\n",
              "      <td>167.324034</td>\n",
              "    </tr>\n",
              "    <tr>\n",
              "      <th>min</th>\n",
              "      <td>1.000000</td>\n",
              "      <td>1.000000</td>\n",
              "      <td>1.000000</td>\n",
              "      <td>1.000000</td>\n",
              "      <td>0.000000</td>\n",
              "      <td>1.000000</td>\n",
              "      <td>5.000000</td>\n",
              "    </tr>\n",
              "    <tr>\n",
              "      <th>25%</th>\n",
              "      <td>1.000000</td>\n",
              "      <td>1.000000</td>\n",
              "      <td>1.000000</td>\n",
              "      <td>1.000000</td>\n",
              "      <td>0.000000</td>\n",
              "      <td>1.000000</td>\n",
              "      <td>5.000000</td>\n",
              "    </tr>\n",
              "    <tr>\n",
              "      <th>50%</th>\n",
              "      <td>50.000000</td>\n",
              "      <td>10.000000</td>\n",
              "      <td>23.000000</td>\n",
              "      <td>32.000000</td>\n",
              "      <td>37.000000</td>\n",
              "      <td>50.000000</td>\n",
              "      <td>255.000000</td>\n",
              "    </tr>\n",
              "    <tr>\n",
              "      <th>75%</th>\n",
              "      <td>75.000000</td>\n",
              "      <td>53.000000</td>\n",
              "      <td>42.000000</td>\n",
              "      <td>80.000000</td>\n",
              "      <td>67.000000</td>\n",
              "      <td>70.000000</td>\n",
              "      <td>351.500000</td>\n",
              "    </tr>\n",
              "    <tr>\n",
              "      <th>max</th>\n",
              "      <td>113.000000</td>\n",
              "      <td>100.000000</td>\n",
              "      <td>100.000000</td>\n",
              "      <td>120.000000</td>\n",
              "      <td>100.000000</td>\n",
              "      <td>101.000000</td>\n",
              "      <td>581.000000</td>\n",
              "    </tr>\n",
              "  </tbody>\n",
              "</table>\n",
              "</div>"
            ],
            "text/plain": [
              "       Intelligence    Strength       Speed  ...       Power      Combat       Total\n",
              "count    611.000000  611.000000  611.000000  ...  611.000000  611.000000  611.000000\n",
              "mean      44.502455   29.083470   27.306056  ...   40.312602   43.206219  226.250409\n",
              "std       32.924722   32.610939   25.760173  ...   34.539910   33.270329  167.324034\n",
              "min        1.000000    1.000000    1.000000  ...    0.000000    1.000000    5.000000\n",
              "25%        1.000000    1.000000    1.000000  ...    0.000000    1.000000    5.000000\n",
              "50%       50.000000   10.000000   23.000000  ...   37.000000   50.000000  255.000000\n",
              "75%       75.000000   53.000000   42.000000  ...   67.000000   70.000000  351.500000\n",
              "max      113.000000  100.000000  100.000000  ...  100.000000  101.000000  581.000000\n",
              "\n",
              "[8 rows x 7 columns]"
            ]
          },
          "metadata": {
            "tags": []
          },
          "execution_count": 46
        }
      ]
    },
    {
      "cell_type": "code",
      "metadata": {
        "id": "tW3heM0C19uX"
      },
      "source": [
        "df.drop('Total',axis='columns',inplace=True)"
      ],
      "execution_count": 65,
      "outputs": []
    },
    {
      "cell_type": "code",
      "metadata": {
        "colab": {
          "base_uri": "https://localhost:8080/",
          "height": 203
        },
        "id": "xmXWsg5R2y0n",
        "outputId": "f2d82e49-8b90-4e49-8e53-afa95259a74d"
      },
      "source": [
        "df.head()"
      ],
      "execution_count": 48,
      "outputs": [
        {
          "output_type": "execute_result",
          "data": {
            "text/html": [
              "<div>\n",
              "<style scoped>\n",
              "    .dataframe tbody tr th:only-of-type {\n",
              "        vertical-align: middle;\n",
              "    }\n",
              "\n",
              "    .dataframe tbody tr th {\n",
              "        vertical-align: top;\n",
              "    }\n",
              "\n",
              "    .dataframe thead th {\n",
              "        text-align: right;\n",
              "    }\n",
              "</style>\n",
              "<table border=\"1\" class=\"dataframe\">\n",
              "  <thead>\n",
              "    <tr style=\"text-align: right;\">\n",
              "      <th></th>\n",
              "      <th>Name</th>\n",
              "      <th>Alignment</th>\n",
              "      <th>Intelligence</th>\n",
              "      <th>Strength</th>\n",
              "      <th>Speed</th>\n",
              "      <th>Durability</th>\n",
              "      <th>Power</th>\n",
              "      <th>Combat</th>\n",
              "    </tr>\n",
              "  </thead>\n",
              "  <tbody>\n",
              "    <tr>\n",
              "      <th>0</th>\n",
              "      <td>3-D Man</td>\n",
              "      <td>good</td>\n",
              "      <td>50</td>\n",
              "      <td>31</td>\n",
              "      <td>43</td>\n",
              "      <td>32</td>\n",
              "      <td>25</td>\n",
              "      <td>52</td>\n",
              "    </tr>\n",
              "    <tr>\n",
              "      <th>1</th>\n",
              "      <td>A-Bomb</td>\n",
              "      <td>good</td>\n",
              "      <td>38</td>\n",
              "      <td>100</td>\n",
              "      <td>17</td>\n",
              "      <td>80</td>\n",
              "      <td>17</td>\n",
              "      <td>64</td>\n",
              "    </tr>\n",
              "    <tr>\n",
              "      <th>2</th>\n",
              "      <td>Abe Sapien</td>\n",
              "      <td>good</td>\n",
              "      <td>88</td>\n",
              "      <td>14</td>\n",
              "      <td>35</td>\n",
              "      <td>42</td>\n",
              "      <td>35</td>\n",
              "      <td>85</td>\n",
              "    </tr>\n",
              "    <tr>\n",
              "      <th>3</th>\n",
              "      <td>Abin Sur</td>\n",
              "      <td>good</td>\n",
              "      <td>50</td>\n",
              "      <td>90</td>\n",
              "      <td>53</td>\n",
              "      <td>64</td>\n",
              "      <td>84</td>\n",
              "      <td>65</td>\n",
              "    </tr>\n",
              "    <tr>\n",
              "      <th>4</th>\n",
              "      <td>Abomination</td>\n",
              "      <td>bad</td>\n",
              "      <td>63</td>\n",
              "      <td>80</td>\n",
              "      <td>53</td>\n",
              "      <td>90</td>\n",
              "      <td>55</td>\n",
              "      <td>95</td>\n",
              "    </tr>\n",
              "  </tbody>\n",
              "</table>\n",
              "</div>"
            ],
            "text/plain": [
              "          Name Alignment  Intelligence  ...  Durability  Power  Combat\n",
              "0      3-D Man      good            50  ...          32     25      52\n",
              "1       A-Bomb      good            38  ...          80     17      64\n",
              "2   Abe Sapien      good            88  ...          42     35      85\n",
              "3     Abin Sur      good            50  ...          64     84      65\n",
              "4  Abomination       bad            63  ...          90     55      95\n",
              "\n",
              "[5 rows x 8 columns]"
            ]
          },
          "metadata": {
            "tags": []
          },
          "execution_count": 48
        }
      ]
    },
    {
      "cell_type": "code",
      "metadata": {
        "colab": {
          "base_uri": "https://localhost:8080/"
        },
        "id": "yM-1N4ut21Hg",
        "outputId": "7bb9cceb-20ef-4c4d-cead-7663975812c9"
      },
      "source": [
        "col=list(df.columns)\n",
        "col.remove('Name')\n",
        "col.remove('Alignment')\n",
        "print(col)"
      ],
      "execution_count": 49,
      "outputs": [
        {
          "output_type": "stream",
          "text": [
            "['Intelligence', 'Strength', 'Speed', 'Durability', 'Power', 'Combat']\n"
          ],
          "name": "stdout"
        }
      ]
    },
    {
      "cell_type": "code",
      "metadata": {
        "colab": {
          "base_uri": "https://localhost:8080/"
        },
        "id": "qJZoREa13Fa3",
        "outputId": "6781a61e-d8b7-4955-f35c-7c5dd6fc3b23"
      },
      "source": [
        "min_max_arr=[[0 for i in range(6)] for j in range(3)]\n",
        "print(min_max_arr)"
      ],
      "execution_count": 50,
      "outputs": [
        {
          "output_type": "stream",
          "text": [
            "[[0, 0, 0, 0, 0, 0], [0, 0, 0, 0, 0, 0], [0, 0, 0, 0, 0, 0]]\n"
          ],
          "name": "stdout"
        }
      ]
    },
    {
      "cell_type": "code",
      "metadata": {
        "colab": {
          "base_uri": "https://localhost:8080/"
        },
        "id": "JgM5iJCj4AIS",
        "outputId": "eefb0de2-6d81-436e-eaf9-f90aadc22871"
      },
      "source": [
        "i=0\n",
        "for c in col:\n",
        "  min_max_arr[0][i]=df[c].min()\n",
        "  min_max_arr[1][i]=df[c].max()\n",
        "  min_max_arr[2][i]=c\n",
        "  i=i+1\n",
        "print(min_max_arr)"
      ],
      "execution_count": 51,
      "outputs": [
        {
          "output_type": "stream",
          "text": [
            "[[1, 1, 1, 1, 0, 1], [113, 100, 100, 120, 100, 101], ['Intelligence', 'Strength', 'Speed', 'Durability', 'Power', 'Combat']]\n"
          ],
          "name": "stdout"
        }
      ]
    },
    {
      "cell_type": "code",
      "metadata": {
        "id": "9DPiDLe04Qfu"
      },
      "source": [
        "from sklearn.preprocessing import MinMaxScaler\n",
        "scaler=MinMaxScaler()\n",
        "df[col] = scaler.fit_transform(df[col])"
      ],
      "execution_count": 66,
      "outputs": []
    },
    {
      "cell_type": "code",
      "metadata": {
        "colab": {
          "base_uri": "https://localhost:8080/",
          "height": 203
        },
        "id": "wYWCANHF6NtH",
        "outputId": "f01676d7-50d0-4d02-f006-0d3d0eeb8170"
      },
      "source": [
        "df.head()"
      ],
      "execution_count": 53,
      "outputs": [
        {
          "output_type": "execute_result",
          "data": {
            "text/html": [
              "<div>\n",
              "<style scoped>\n",
              "    .dataframe tbody tr th:only-of-type {\n",
              "        vertical-align: middle;\n",
              "    }\n",
              "\n",
              "    .dataframe tbody tr th {\n",
              "        vertical-align: top;\n",
              "    }\n",
              "\n",
              "    .dataframe thead th {\n",
              "        text-align: right;\n",
              "    }\n",
              "</style>\n",
              "<table border=\"1\" class=\"dataframe\">\n",
              "  <thead>\n",
              "    <tr style=\"text-align: right;\">\n",
              "      <th></th>\n",
              "      <th>Name</th>\n",
              "      <th>Alignment</th>\n",
              "      <th>Intelligence</th>\n",
              "      <th>Strength</th>\n",
              "      <th>Speed</th>\n",
              "      <th>Durability</th>\n",
              "      <th>Power</th>\n",
              "      <th>Combat</th>\n",
              "    </tr>\n",
              "  </thead>\n",
              "  <tbody>\n",
              "    <tr>\n",
              "      <th>0</th>\n",
              "      <td>3-D Man</td>\n",
              "      <td>good</td>\n",
              "      <td>0.437500</td>\n",
              "      <td>0.303030</td>\n",
              "      <td>0.424242</td>\n",
              "      <td>0.260504</td>\n",
              "      <td>0.25</td>\n",
              "      <td>0.51</td>\n",
              "    </tr>\n",
              "    <tr>\n",
              "      <th>1</th>\n",
              "      <td>A-Bomb</td>\n",
              "      <td>good</td>\n",
              "      <td>0.330357</td>\n",
              "      <td>1.000000</td>\n",
              "      <td>0.161616</td>\n",
              "      <td>0.663866</td>\n",
              "      <td>0.17</td>\n",
              "      <td>0.63</td>\n",
              "    </tr>\n",
              "    <tr>\n",
              "      <th>2</th>\n",
              "      <td>Abe Sapien</td>\n",
              "      <td>good</td>\n",
              "      <td>0.776786</td>\n",
              "      <td>0.131313</td>\n",
              "      <td>0.343434</td>\n",
              "      <td>0.344538</td>\n",
              "      <td>0.35</td>\n",
              "      <td>0.84</td>\n",
              "    </tr>\n",
              "    <tr>\n",
              "      <th>3</th>\n",
              "      <td>Abin Sur</td>\n",
              "      <td>good</td>\n",
              "      <td>0.437500</td>\n",
              "      <td>0.898990</td>\n",
              "      <td>0.525253</td>\n",
              "      <td>0.529412</td>\n",
              "      <td>0.84</td>\n",
              "      <td>0.64</td>\n",
              "    </tr>\n",
              "    <tr>\n",
              "      <th>4</th>\n",
              "      <td>Abomination</td>\n",
              "      <td>bad</td>\n",
              "      <td>0.553571</td>\n",
              "      <td>0.797980</td>\n",
              "      <td>0.525253</td>\n",
              "      <td>0.747899</td>\n",
              "      <td>0.55</td>\n",
              "      <td>0.94</td>\n",
              "    </tr>\n",
              "  </tbody>\n",
              "</table>\n",
              "</div>"
            ],
            "text/plain": [
              "          Name Alignment  Intelligence  ...  Durability  Power  Combat\n",
              "0      3-D Man      good      0.437500  ...    0.260504   0.25    0.51\n",
              "1       A-Bomb      good      0.330357  ...    0.663866   0.17    0.63\n",
              "2   Abe Sapien      good      0.776786  ...    0.344538   0.35    0.84\n",
              "3     Abin Sur      good      0.437500  ...    0.529412   0.84    0.64\n",
              "4  Abomination       bad      0.553571  ...    0.747899   0.55    0.94\n",
              "\n",
              "[5 rows x 8 columns]"
            ]
          },
          "metadata": {
            "tags": []
          },
          "execution_count": 53
        }
      ]
    },
    {
      "cell_type": "code",
      "metadata": {
        "colab": {
          "base_uri": "https://localhost:8080/",
          "height": 295
        },
        "id": "J7LF6t-26P6w",
        "outputId": "5e5debda-eb3c-43cc-ac97-3c22fce8e323"
      },
      "source": [
        "df.describe()"
      ],
      "execution_count": 54,
      "outputs": [
        {
          "output_type": "execute_result",
          "data": {
            "text/html": [
              "<div>\n",
              "<style scoped>\n",
              "    .dataframe tbody tr th:only-of-type {\n",
              "        vertical-align: middle;\n",
              "    }\n",
              "\n",
              "    .dataframe tbody tr th {\n",
              "        vertical-align: top;\n",
              "    }\n",
              "\n",
              "    .dataframe thead th {\n",
              "        text-align: right;\n",
              "    }\n",
              "</style>\n",
              "<table border=\"1\" class=\"dataframe\">\n",
              "  <thead>\n",
              "    <tr style=\"text-align: right;\">\n",
              "      <th></th>\n",
              "      <th>Intelligence</th>\n",
              "      <th>Strength</th>\n",
              "      <th>Speed</th>\n",
              "      <th>Durability</th>\n",
              "      <th>Power</th>\n",
              "      <th>Combat</th>\n",
              "    </tr>\n",
              "  </thead>\n",
              "  <tbody>\n",
              "    <tr>\n",
              "      <th>count</th>\n",
              "      <td>611.000000</td>\n",
              "      <td>611.000000</td>\n",
              "      <td>611.000000</td>\n",
              "      <td>611.000000</td>\n",
              "      <td>611.000000</td>\n",
              "      <td>611.000000</td>\n",
              "    </tr>\n",
              "    <tr>\n",
              "      <th>mean</th>\n",
              "      <td>0.388415</td>\n",
              "      <td>0.283671</td>\n",
              "      <td>0.265718</td>\n",
              "      <td>0.343190</td>\n",
              "      <td>0.403126</td>\n",
              "      <td>0.422062</td>\n",
              "    </tr>\n",
              "    <tr>\n",
              "      <th>std</th>\n",
              "      <td>0.293971</td>\n",
              "      <td>0.329403</td>\n",
              "      <td>0.260204</td>\n",
              "      <td>0.307091</td>\n",
              "      <td>0.345399</td>\n",
              "      <td>0.332703</td>\n",
              "    </tr>\n",
              "    <tr>\n",
              "      <th>min</th>\n",
              "      <td>0.000000</td>\n",
              "      <td>0.000000</td>\n",
              "      <td>0.000000</td>\n",
              "      <td>0.000000</td>\n",
              "      <td>0.000000</td>\n",
              "      <td>0.000000</td>\n",
              "    </tr>\n",
              "    <tr>\n",
              "      <th>25%</th>\n",
              "      <td>0.000000</td>\n",
              "      <td>0.000000</td>\n",
              "      <td>0.000000</td>\n",
              "      <td>0.000000</td>\n",
              "      <td>0.000000</td>\n",
              "      <td>0.000000</td>\n",
              "    </tr>\n",
              "    <tr>\n",
              "      <th>50%</th>\n",
              "      <td>0.437500</td>\n",
              "      <td>0.090909</td>\n",
              "      <td>0.222222</td>\n",
              "      <td>0.260504</td>\n",
              "      <td>0.370000</td>\n",
              "      <td>0.490000</td>\n",
              "    </tr>\n",
              "    <tr>\n",
              "      <th>75%</th>\n",
              "      <td>0.660714</td>\n",
              "      <td>0.525253</td>\n",
              "      <td>0.414141</td>\n",
              "      <td>0.663866</td>\n",
              "      <td>0.670000</td>\n",
              "      <td>0.690000</td>\n",
              "    </tr>\n",
              "    <tr>\n",
              "      <th>max</th>\n",
              "      <td>1.000000</td>\n",
              "      <td>1.000000</td>\n",
              "      <td>1.000000</td>\n",
              "      <td>1.000000</td>\n",
              "      <td>1.000000</td>\n",
              "      <td>1.000000</td>\n",
              "    </tr>\n",
              "  </tbody>\n",
              "</table>\n",
              "</div>"
            ],
            "text/plain": [
              "       Intelligence    Strength       Speed  Durability       Power      Combat\n",
              "count    611.000000  611.000000  611.000000  611.000000  611.000000  611.000000\n",
              "mean       0.388415    0.283671    0.265718    0.343190    0.403126    0.422062\n",
              "std        0.293971    0.329403    0.260204    0.307091    0.345399    0.332703\n",
              "min        0.000000    0.000000    0.000000    0.000000    0.000000    0.000000\n",
              "25%        0.000000    0.000000    0.000000    0.000000    0.000000    0.000000\n",
              "50%        0.437500    0.090909    0.222222    0.260504    0.370000    0.490000\n",
              "75%        0.660714    0.525253    0.414141    0.663866    0.670000    0.690000\n",
              "max        1.000000    1.000000    1.000000    1.000000    1.000000    1.000000"
            ]
          },
          "metadata": {
            "tags": []
          },
          "execution_count": 54
        }
      ]
    },
    {
      "cell_type": "code",
      "metadata": {
        "id": "GuqsXwgvy6Pe"
      },
      "source": [
        "dff=pd.get_dummies(df[['Alignment']])\n",
        "ddff=pd.concat([df,dff],axis=1)\n",
        "ddff.drop('Alignment',axis='columns',inplace=True)"
      ],
      "execution_count": 70,
      "outputs": []
    },
    {
      "cell_type": "code",
      "metadata": {
        "colab": {
          "base_uri": "https://localhost:8080/",
          "height": 203
        },
        "id": "lc-6qIDBzAyO",
        "outputId": "80867da9-3952-42e4-a074-121bbf0d3819"
      },
      "source": [
        "ddff.head()"
      ],
      "execution_count": 71,
      "outputs": [
        {
          "output_type": "execute_result",
          "data": {
            "text/html": [
              "<div>\n",
              "<style scoped>\n",
              "    .dataframe tbody tr th:only-of-type {\n",
              "        vertical-align: middle;\n",
              "    }\n",
              "\n",
              "    .dataframe tbody tr th {\n",
              "        vertical-align: top;\n",
              "    }\n",
              "\n",
              "    .dataframe thead th {\n",
              "        text-align: right;\n",
              "    }\n",
              "</style>\n",
              "<table border=\"1\" class=\"dataframe\">\n",
              "  <thead>\n",
              "    <tr style=\"text-align: right;\">\n",
              "      <th></th>\n",
              "      <th>Name</th>\n",
              "      <th>Intelligence</th>\n",
              "      <th>Strength</th>\n",
              "      <th>Speed</th>\n",
              "      <th>Durability</th>\n",
              "      <th>Power</th>\n",
              "      <th>Combat</th>\n",
              "      <th>Alignment_bad</th>\n",
              "      <th>Alignment_good</th>\n",
              "      <th>Alignment_neutral</th>\n",
              "    </tr>\n",
              "  </thead>\n",
              "  <tbody>\n",
              "    <tr>\n",
              "      <th>0</th>\n",
              "      <td>3-D Man</td>\n",
              "      <td>0.437500</td>\n",
              "      <td>0.303030</td>\n",
              "      <td>0.424242</td>\n",
              "      <td>0.260504</td>\n",
              "      <td>0.25</td>\n",
              "      <td>0.51</td>\n",
              "      <td>0</td>\n",
              "      <td>1</td>\n",
              "      <td>0</td>\n",
              "    </tr>\n",
              "    <tr>\n",
              "      <th>1</th>\n",
              "      <td>A-Bomb</td>\n",
              "      <td>0.330357</td>\n",
              "      <td>1.000000</td>\n",
              "      <td>0.161616</td>\n",
              "      <td>0.663866</td>\n",
              "      <td>0.17</td>\n",
              "      <td>0.63</td>\n",
              "      <td>0</td>\n",
              "      <td>1</td>\n",
              "      <td>0</td>\n",
              "    </tr>\n",
              "    <tr>\n",
              "      <th>2</th>\n",
              "      <td>Abe Sapien</td>\n",
              "      <td>0.776786</td>\n",
              "      <td>0.131313</td>\n",
              "      <td>0.343434</td>\n",
              "      <td>0.344538</td>\n",
              "      <td>0.35</td>\n",
              "      <td>0.84</td>\n",
              "      <td>0</td>\n",
              "      <td>1</td>\n",
              "      <td>0</td>\n",
              "    </tr>\n",
              "    <tr>\n",
              "      <th>3</th>\n",
              "      <td>Abin Sur</td>\n",
              "      <td>0.437500</td>\n",
              "      <td>0.898990</td>\n",
              "      <td>0.525253</td>\n",
              "      <td>0.529412</td>\n",
              "      <td>0.84</td>\n",
              "      <td>0.64</td>\n",
              "      <td>0</td>\n",
              "      <td>1</td>\n",
              "      <td>0</td>\n",
              "    </tr>\n",
              "    <tr>\n",
              "      <th>4</th>\n",
              "      <td>Abomination</td>\n",
              "      <td>0.553571</td>\n",
              "      <td>0.797980</td>\n",
              "      <td>0.525253</td>\n",
              "      <td>0.747899</td>\n",
              "      <td>0.55</td>\n",
              "      <td>0.94</td>\n",
              "      <td>1</td>\n",
              "      <td>0</td>\n",
              "      <td>0</td>\n",
              "    </tr>\n",
              "  </tbody>\n",
              "</table>\n",
              "</div>"
            ],
            "text/plain": [
              "          Name  Intelligence  ...  Alignment_good  Alignment_neutral\n",
              "0      3-D Man      0.437500  ...               1                  0\n",
              "1       A-Bomb      0.330357  ...               1                  0\n",
              "2   Abe Sapien      0.776786  ...               1                  0\n",
              "3     Abin Sur      0.437500  ...               1                  0\n",
              "4  Abomination      0.553571  ...               0                  0\n",
              "\n",
              "[5 rows x 10 columns]"
            ]
          },
          "metadata": {
            "tags": []
          },
          "execution_count": 71
        }
      ]
    },
    {
      "cell_type": "code",
      "metadata": {
        "id": "-TzAYtZ1z1P4"
      },
      "source": [
        "from sklearn import linear_model, metrics\n",
        "\n",
        "X = ddff.drop(\"Name\", axis=1)\n",
        "y = ddff[\"Name\"]\n",
        "\n",
        "X_train, X_test, y_train, y_test = train_test_split(X, y, test_size=0.3, random_state=101)\n",
        "\n",
        "\n",
        "from sklearn.linear_model import LogisticRegression\n",
        "\n",
        "logmodel = LogisticRegression()\n",
        "logmodel.fit(X_train, y_train)\n",
        "\n",
        "predictions = logmodel.predict(X_test)"
      ],
      "execution_count": 72,
      "outputs": []
    },
    {
      "cell_type": "code",
      "metadata": {
        "colab": {
          "base_uri": "https://localhost:8080/"
        },
        "id": "fQ6B66z_0zgR",
        "outputId": "f4c338ab-150a-496f-c81a-b01f32ad9708"
      },
      "source": [
        "np.size(predictions)"
      ],
      "execution_count": 74,
      "outputs": [
        {
          "output_type": "execute_result",
          "data": {
            "text/plain": [
              "184"
            ]
          },
          "metadata": {
            "tags": []
          },
          "execution_count": 74
        }
      ]
    },
    {
      "cell_type": "code",
      "metadata": {
        "colab": {
          "base_uri": "https://localhost:8080/"
        },
        "id": "sCYKEBWB83a_",
        "outputId": "cb7acbba-150c-453d-f179-b3d13ba91004"
      },
      "source": [
        "predictions"
      ],
      "execution_count": 84,
      "outputs": [
        {
          "output_type": "execute_result",
          "data": {
            "text/plain": [
              "array(['Zoom', 'Nova', 'Nova', 'Blue Beetle I', 'Luke Campbell', 'Nova',\n",
              "       'Red Skull', 'Punisher', 'Kevin 11', 'Nova', 'Giganta', 'Darkseid',\n",
              "       'Punisher', 'Blue Beetle I', 'Blue Beetle I', 'Darkseid',\n",
              "       'Solomon Grundy', 'Blue Beetle I', 'Red Hood', 'Giganta',\n",
              "       'Blue Beetle I', 'Nova', 'Darkseid', 'Red Skull', 'Blue Beetle I',\n",
              "       'Rhino', 'Blue Beetle I', 'Luke Campbell', 'Luke Campbell', 'Nova',\n",
              "       'Blue Beetle I', 'Nova', 'Mister Mxyzptlk', 'Luke Campbell',\n",
              "       'Trickster', 'Nova', 'Luke Campbell', 'Nova', 'Darkseid',\n",
              "       'General Zod', 'Punisher', 'Nova', 'Abraxas', 'Blue Beetle I',\n",
              "       'Blue Beetle I', 'Nova', 'Nova', 'Blue Beetle I', 'Blue Beetle I',\n",
              "       'Anti-Venom', 'General Zod', 'Blue Beetle I', 'Nova',\n",
              "       'Blue Beetle I', 'Blue Beetle I', 'Blue Beetle I', 'Bizarro',\n",
              "       'General Zod', 'Blue Beetle I', 'Red Skull', 'Luke Campbell',\n",
              "       'Professor X', 'General Zod', 'Professor X', 'Luke Campbell',\n",
              "       'Nova', 'Nova', 'Kevin 11', 'Blue Beetle I', 'Nova', 'Nova',\n",
              "       'Rhino', 'Bane', 'Air-Walker', 'Luke Campbell', 'Luke Campbell',\n",
              "       'Red Skull', 'Blue Beetle I', 'Blue Beetle I', 'Nova', 'Nova',\n",
              "       'Mister Mxyzptlk', 'Nova', 'Nova', 'Nova', 'Blue Beetle I', 'Nova',\n",
              "       'Punisher', 'Blue Beetle I', 'Nova', 'Apocalypse', 'Nova',\n",
              "       'Blue Beetle I', 'Exodus', 'Nova', 'Blue Beetle I', 'Nova', 'Nova',\n",
              "       'Nova', 'Nova', 'General Zod', 'Blue Beetle I', 'Rhino',\n",
              "       'Luke Campbell', 'Nova', 'Nova', 'Thanos', 'Nova', 'Nova',\n",
              "       'Nick Fury', 'Nova', 'Nova', 'Wyatt Wingfoot', 'Blue Beetle I',\n",
              "       'Nova', 'Zoom', 'Blue Beetle I', 'Nightwing', 'Nova',\n",
              "       'Blue Beetle I', 'Luke Campbell', 'Nova', 'Rhino', 'Nova', 'Nova',\n",
              "       'Nova', 'Zoom', 'General Zod', 'Nova', 'Blue Beetle I',\n",
              "       'Luke Campbell', 'Luke Campbell', 'Nick Fury', 'Nova',\n",
              "       'Luke Campbell', 'Blue Beetle I', 'Blue Beetle I', 'Nightwing',\n",
              "       'Blue Beetle I', 'Red Skull', 'Nova', 'Mister Mxyzptlk', 'Nova',\n",
              "       'Nova', 'Blue Beetle I', 'Mister Mxyzptlk', 'Blue Beetle I',\n",
              "       'Nova', 'Blue Beetle I', 'Nova', 'Abraxas', 'Luke Campbell',\n",
              "       'Blue Beetle I', 'Nightwing', 'Nick Fury', 'Riddler', 'Giganta',\n",
              "       'Nova', 'Blue Beetle I', 'Red Skull', 'Nova', 'Nova', 'Nova',\n",
              "       'Nova', 'Nova', 'Blue Beetle I', 'Blue Beetle I', 'Nova',\n",
              "       'Blue Beetle I', 'Nova', 'Mister Mxyzptlk', 'Blue Beetle I',\n",
              "       'Nova', 'Nova', 'Luke Campbell', 'Nova', 'Blue Beetle I',\n",
              "       'Blue Beetle I', 'Nova', 'Blue Beetle I', 'General Zod',\n",
              "       'Red Skull', 'Blue Beetle I', 'Black Adam'], dtype=object)"
            ]
          },
          "metadata": {
            "tags": []
          },
          "execution_count": 84
        }
      ]
    },
    {
      "cell_type": "code",
      "metadata": {
        "colab": {
          "base_uri": "https://localhost:8080/"
        },
        "id": "zoVOsRG8_QND",
        "outputId": "fee9f310-ba9f-4583-a42c-3d0a15e055eb"
      },
      "source": [
        "from sklearn.tree import DecisionTreeClassifier\n",
        "dtree_model = DecisionTreeClassifier().fit(X_train, y_train)\n",
        "dtree_predictions = dtree_model.predict(X_test)\n",
        "print(dtree_predictions)"
      ],
      "execution_count": 86,
      "outputs": [
        {
          "output_type": "stream",
          "text": [
            "['Exodus' 'Silverclaw' 'Isis' 'Adam Strange' 'Ammo' 'Green Arrow'\n",
            " 'Goblin Queen' 'Sage' 'Siren' 'Cyborg' 'Green Goblin' 'Blackout' 'Ronin'\n",
            " 'Adam Strange' 'Adam Strange' 'Klaw' 'Mister Freeze' 'Adam Strange'\n",
            " 'Trickster' 'Deathstroke' 'Adam Strange' 'Power Girl' 'Onslaught'\n",
            " 'Kraven the Hunter' 'Adam Strange' 'Rhino' 'Adam Strange' 'Ammo' 'Ammo'\n",
            " 'Superman' 'Adam Strange' 'Flash IV' 'Goblin Queen' 'Ammo' 'Toad'\n",
            " 'Flash I' 'Ammo' 'Big Barda' 'Venom' 'Venom' 'Ronin' 'Lightning Lad'\n",
            " 'Venom' 'Adam Strange' 'Adam Strange' 'Alfred Pennyworth' 'Ant-Man II'\n",
            " 'Adam Strange' 'Adam Strange' 'Klaw' 'Magus' 'Adam Strange' 'Northstar'\n",
            " 'Adam Strange' 'Adam Strange' 'Adam Strange' 'Apocalypse'\n",
            " 'Cyborg Superman' 'Adam Strange' 'Arclight' 'Ammo' 'Nina Theroux'\n",
            " 'Vulture' 'Violet' 'Ammo' 'Space Ghost' 'Namora' 'Scarlet Witch'\n",
            " 'Adam Strange' 'Ymir' 'Deadman' 'Rhino' 'Kraven the Hunter' 'Molten Man'\n",
            " 'Ammo' 'Ammo' 'Goblin Queen' 'Adam Strange' 'Adam Strange' 'Watcher'\n",
            " 'Moon Knight' 'Blizzard II' 'Justice' 'Superman' 'Blade' 'Adam Strange'\n",
            " 'Mimic' 'Daphne Powell' 'Adam Strange' 'Ms Marvel' 'Onslaught' 'Cable'\n",
            " 'Adam Strange' 'Arclight' 'Jubilee' 'Adam Strange' 'Rogue' 'Skaar'\n",
            " 'Brainiac 5' 'Thunderbird' 'Venom III' 'Adam Strange' 'Hydro-Man' 'Ammo'\n",
            " 'Deathstroke' 'Ymir' 'Destroyer' 'Medusa' 'Captain Britain' 'Jolt'\n",
            " 'Green Arrow' 'Daredevil' 'Hit-Girl' 'Adam Strange' 'Peter Petrelli'\n",
            " 'Blizzard II' 'Adam Strange' 'Nightwing' 'Banshee' 'Adam Strange' 'Ammo'\n",
            " 'Hercules' 'Rhino' 'Mimic' 'Red Tornado' 'Space Ghost' 'Zoom' 'Venom'\n",
            " 'Starfire' 'Adam Strange' 'Ammo' 'Ammo' 'Sobek' 'Catwoman' 'Ammo'\n",
            " 'Adam Strange' 'Adam Strange' 'Zatanna' 'Adam Strange' 'Big Man'\n",
            " 'Sasquatch' 'Mister Freeze' 'Power Girl' 'Warlock' 'Adam Strange'\n",
            " 'Mister Freeze' 'Adam Strange' 'Triplicate Girl' 'Adam Strange'\n",
            " 'Black Bolt' 'Anti-Monitor' 'Ammo' 'Adam Strange' 'Zatanna' 'Blink'\n",
            " 'Green Goblin' 'Green Goblin' 'Jim Powell' 'Ben 10' 'Kraven the Hunter'\n",
            " 'Rogue' 'Big Barda' 'Justice' 'Nova' 'Flash II' 'Adam Strange'\n",
            " 'Adam Strange' 'Black Panther' 'Adam Strange' 'Meltdown' 'Scarecrow'\n",
            " 'Adam Strange' 'Superman' 'Thunderbird' 'Ammo' 'Hercules' 'Adam Strange'\n",
            " 'Adam Strange' 'Stargirl' 'Adam Strange' 'General Zod' 'Mister Freeze'\n",
            " 'Adam Strange' 'Green Goblin']\n"
          ],
          "name": "stdout"
        }
      ]
    },
    {
      "cell_type": "code",
      "metadata": {
        "colab": {
          "base_uri": "https://localhost:8080/"
        },
        "id": "sGM2eDl-CFSi",
        "outputId": "f45e87c7-7344-4ea7-ab1f-9ac37ebdcd99"
      },
      "source": [
        "print(y_test)"
      ],
      "execution_count": 89,
      "outputs": [
        {
          "output_type": "stream",
          "text": [
            "504             Siryn\n",
            "407          Namorita\n",
            "481    Scarlet Spider\n",
            "100       Blaquesmith\n",
            "425         Overtkill\n",
            "            ...      \n",
            "388              Mogo\n",
            "535    Superboy-Prime\n",
            "315             Joker\n",
            "568          Valkyrie\n",
            "205               Ego\n",
            "Name: Name, Length: 184, dtype: object\n"
          ],
          "name": "stdout"
        }
      ]
    },
    {
      "cell_type": "code",
      "metadata": {
        "colab": {
          "base_uri": "https://localhost:8080/"
        },
        "id": "Af80ZShdBaNl",
        "outputId": "08889056-00f2-48d5-84b8-d56c6546b6f1"
      },
      "source": [
        "from sklearn.metrics import balanced_accuracy_score\n",
        "balanced_accuracy_score(y_test,dtree_predictions )"
      ],
      "execution_count": 87,
      "outputs": [
        {
          "output_type": "stream",
          "text": [
            "/usr/local/lib/python3.7/dist-packages/sklearn/metrics/_classification.py:1859: UserWarning: y_pred contains classes not in y_true\n",
            "  warnings.warn('y_pred contains classes not in y_true')\n"
          ],
          "name": "stderr"
        },
        {
          "output_type": "execute_result",
          "data": {
            "text/plain": [
              "0.0"
            ]
          },
          "metadata": {
            "tags": []
          },
          "execution_count": 87
        }
      ]
    },
    {
      "cell_type": "code",
      "metadata": {
        "colab": {
          "base_uri": "https://localhost:8080/"
        },
        "id": "d48anTtb1X6X",
        "outputId": "d37f5983-d98a-4c2d-e90f-402fcd4d5b5d"
      },
      "source": [
        "from sklearn.metrics import confusion_matrix\n",
        "cm = confusion_matrix(y_test, predictions)\n",
        "print(cm)\n",
        "print(np.size(cm))"
      ],
      "execution_count": 79,
      "outputs": [
        {
          "output_type": "stream",
          "text": [
            "[[0 0 0 ... 0 0 0]\n",
            " [0 0 0 ... 0 0 0]\n",
            " [0 0 0 ... 0 0 0]\n",
            " ...\n",
            " [0 0 0 ... 0 0 0]\n",
            " [0 0 0 ... 0 0 0]\n",
            " [0 0 0 ... 0 0 0]]\n",
            "45369\n"
          ],
          "name": "stdout"
        }
      ]
    },
    {
      "cell_type": "code",
      "metadata": {
        "colab": {
          "base_uri": "https://localhost:8080/"
        },
        "id": "r4YM7PWN3GNu",
        "outputId": "229d3f2d-bd5d-4421-cc2c-e437c91ce2ad"
      },
      "source": [
        "from sklearn.metrics import precision_recall_fscore_support\n",
        "a=precision_recall_fscore_support(y_test, predictions)\n",
        "print(a)"
      ],
      "execution_count": 78,
      "outputs": [
        {
          "output_type": "stream",
          "text": [
            "(array([0., 0., 0., 0., 0., 0., 0., 0., 0., 0., 0., 0., 0., 0., 0., 0., 0.,\n",
            "       0., 0., 0., 0., 0., 0., 0., 0., 0., 0., 0., 0., 0., 0., 0., 0., 0.,\n",
            "       0., 0., 0., 0., 0., 0., 0., 0., 0., 0., 0., 0., 0., 0., 0., 0., 0.,\n",
            "       0., 0., 0., 0., 0., 0., 0., 0., 0., 0., 0., 0., 0., 0., 0., 0., 0.,\n",
            "       0., 0., 0., 0., 0., 0., 0., 0., 0., 0., 0., 0., 0., 0., 0., 0., 0.,\n",
            "       0., 0., 0., 0., 0., 0., 0., 0., 0., 0., 0., 0., 0., 0., 0., 0., 0.,\n",
            "       0., 0., 0., 0., 0., 0., 0., 0., 0., 0., 0., 0., 0., 0., 0., 0., 0.,\n",
            "       0., 0., 0., 0., 0., 0., 0., 0., 0., 0., 0., 0., 0., 0., 0., 0., 0.,\n",
            "       0., 0., 0., 0., 0., 0., 0., 0., 0., 0., 0., 0., 0., 0., 0., 0., 0.,\n",
            "       0., 0., 0., 0., 0., 0., 0., 0., 0., 0., 0., 0., 0., 0., 0., 0., 0.,\n",
            "       0., 0., 0., 0., 0., 0., 0., 0., 0., 0., 0., 0., 0., 0., 0., 0., 0.,\n",
            "       0., 0., 0., 0., 0., 0., 0., 0., 0., 0., 0., 0., 0., 0., 0., 0., 0.,\n",
            "       0., 0., 0., 0., 0., 0., 0., 0., 0.]), array([0., 0., 0., 0., 0., 0., 0., 0., 0., 0., 0., 0., 0., 0., 0., 0., 0.,\n",
            "       0., 0., 0., 0., 0., 0., 0., 0., 0., 0., 0., 0., 0., 0., 0., 0., 0.,\n",
            "       0., 0., 0., 0., 0., 0., 0., 0., 0., 0., 0., 0., 0., 0., 0., 0., 0.,\n",
            "       0., 0., 0., 0., 0., 0., 0., 0., 0., 0., 0., 0., 0., 0., 0., 0., 0.,\n",
            "       0., 0., 0., 0., 0., 0., 0., 0., 0., 0., 0., 0., 0., 0., 0., 0., 0.,\n",
            "       0., 0., 0., 0., 0., 0., 0., 0., 0., 0., 0., 0., 0., 0., 0., 0., 0.,\n",
            "       0., 0., 0., 0., 0., 0., 0., 0., 0., 0., 0., 0., 0., 0., 0., 0., 0.,\n",
            "       0., 0., 0., 0., 0., 0., 0., 0., 0., 0., 0., 0., 0., 0., 0., 0., 0.,\n",
            "       0., 0., 0., 0., 0., 0., 0., 0., 0., 0., 0., 0., 0., 0., 0., 0., 0.,\n",
            "       0., 0., 0., 0., 0., 0., 0., 0., 0., 0., 0., 0., 0., 0., 0., 0., 0.,\n",
            "       0., 0., 0., 0., 0., 0., 0., 0., 0., 0., 0., 0., 0., 0., 0., 0., 0.,\n",
            "       0., 0., 0., 0., 0., 0., 0., 0., 0., 0., 0., 0., 0., 0., 0., 0., 0.,\n",
            "       0., 0., 0., 0., 0., 0., 0., 0., 0.]), array([0., 0., 0., 0., 0., 0., 0., 0., 0., 0., 0., 0., 0., 0., 0., 0., 0.,\n",
            "       0., 0., 0., 0., 0., 0., 0., 0., 0., 0., 0., 0., 0., 0., 0., 0., 0.,\n",
            "       0., 0., 0., 0., 0., 0., 0., 0., 0., 0., 0., 0., 0., 0., 0., 0., 0.,\n",
            "       0., 0., 0., 0., 0., 0., 0., 0., 0., 0., 0., 0., 0., 0., 0., 0., 0.,\n",
            "       0., 0., 0., 0., 0., 0., 0., 0., 0., 0., 0., 0., 0., 0., 0., 0., 0.,\n",
            "       0., 0., 0., 0., 0., 0., 0., 0., 0., 0., 0., 0., 0., 0., 0., 0., 0.,\n",
            "       0., 0., 0., 0., 0., 0., 0., 0., 0., 0., 0., 0., 0., 0., 0., 0., 0.,\n",
            "       0., 0., 0., 0., 0., 0., 0., 0., 0., 0., 0., 0., 0., 0., 0., 0., 0.,\n",
            "       0., 0., 0., 0., 0., 0., 0., 0., 0., 0., 0., 0., 0., 0., 0., 0., 0.,\n",
            "       0., 0., 0., 0., 0., 0., 0., 0., 0., 0., 0., 0., 0., 0., 0., 0., 0.,\n",
            "       0., 0., 0., 0., 0., 0., 0., 0., 0., 0., 0., 0., 0., 0., 0., 0., 0.,\n",
            "       0., 0., 0., 0., 0., 0., 0., 0., 0., 0., 0., 0., 0., 0., 0., 0., 0.,\n",
            "       0., 0., 0., 0., 0., 0., 0., 0., 0.]), array([1., 1., 1., 0., 1., 0., 1., 1., 1., 1., 1., 1., 0., 0., 1., 1., 1.,\n",
            "       1., 1., 1., 0., 1., 1., 1., 1., 1., 1., 1., 1., 1., 0., 1., 0., 1.,\n",
            "       1., 1., 1., 1., 1., 1., 1., 0., 1., 1., 1., 1., 1., 1., 1., 1., 1.,\n",
            "       1., 1., 1., 1., 1., 1., 1., 1., 1., 1., 1., 1., 0., 1., 1., 1., 1.,\n",
            "       1., 1., 1., 1., 1., 1., 1., 0., 1., 1., 1., 1., 1., 1., 1., 0., 1.,\n",
            "       0., 1., 1., 1., 1., 1., 1., 1., 1., 1., 1., 1., 1., 1., 1., 1., 1.,\n",
            "       1., 1., 1., 1., 1., 1., 1., 1., 1., 1., 0., 1., 1., 1., 1., 1., 1.,\n",
            "       1., 1., 1., 1., 1., 1., 1., 0., 1., 1., 1., 1., 1., 1., 1., 1., 1.,\n",
            "       1., 1., 1., 0., 1., 1., 1., 1., 1., 1., 1., 0., 0., 1., 0., 1., 1.,\n",
            "       1., 1., 1., 1., 0., 1., 1., 0., 1., 1., 1., 0., 0., 1., 0., 1., 0.,\n",
            "       1., 1., 1., 1., 1., 1., 1., 1., 1., 1., 1., 0., 1., 1., 1., 1., 1.,\n",
            "       1., 1., 1., 1., 0., 1., 1., 1., 1., 1., 0., 1., 1., 1., 1., 1., 1.,\n",
            "       1., 1., 1., 1., 0., 1., 1., 1., 0.]))\n"
          ],
          "name": "stdout"
        },
        {
          "output_type": "stream",
          "text": [
            "/usr/local/lib/python3.7/dist-packages/sklearn/metrics/_classification.py:1272: UndefinedMetricWarning: Precision and F-score are ill-defined and being set to 0.0 in labels with no predicted samples. Use `zero_division` parameter to control this behavior.\n",
            "  _warn_prf(average, modifier, msg_start, len(result))\n",
            "/usr/local/lib/python3.7/dist-packages/sklearn/metrics/_classification.py:1272: UndefinedMetricWarning: Recall and F-score are ill-defined and being set to 0.0 in labels with no true samples. Use `zero_division` parameter to control this behavior.\n",
            "  _warn_prf(average, modifier, msg_start, len(result))\n"
          ],
          "name": "stderr"
        }
      ]
    },
    {
      "cell_type": "code",
      "metadata": {
        "colab": {
          "base_uri": "https://localhost:8080/",
          "height": 320
        },
        "id": "ckPNMPzq8BwY",
        "outputId": "e9683d23-229a-4aec-bd36-2569390007ae"
      },
      "source": [
        "from sklearn.metrics import average_precision_score\n",
        "average_precision_score(y_test, predictions)"
      ],
      "execution_count": 80,
      "outputs": [
        {
          "output_type": "error",
          "ename": "ValueError",
          "evalue": "ignored",
          "traceback": [
            "\u001b[0;31m---------------------------------------------------------------------------\u001b[0m",
            "\u001b[0;31mValueError\u001b[0m                                Traceback (most recent call last)",
            "\u001b[0;32m<ipython-input-80-1088e278d8b7>\u001b[0m in \u001b[0;36m<module>\u001b[0;34m()\u001b[0m\n\u001b[1;32m      1\u001b[0m \u001b[0;32mfrom\u001b[0m \u001b[0msklearn\u001b[0m\u001b[0;34m.\u001b[0m\u001b[0mmetrics\u001b[0m \u001b[0;32mimport\u001b[0m \u001b[0maverage_precision_score\u001b[0m\u001b[0;34m\u001b[0m\u001b[0;34m\u001b[0m\u001b[0m\n\u001b[0;32m----> 2\u001b[0;31m \u001b[0maverage_precision_score\u001b[0m\u001b[0;34m(\u001b[0m\u001b[0my_test\u001b[0m\u001b[0;34m,\u001b[0m \u001b[0mpredictions\u001b[0m\u001b[0;34m)\u001b[0m\u001b[0;34m\u001b[0m\u001b[0;34m\u001b[0m\u001b[0m\n\u001b[0m",
            "\u001b[0;32m/usr/local/lib/python3.7/dist-packages/sklearn/metrics/_ranking.py\u001b[0m in \u001b[0;36maverage_precision_score\u001b[0;34m(y_true, y_score, average, pos_label, sample_weight)\u001b[0m\n\u001b[1;32m    213\u001b[0m                                 pos_label=pos_label)\n\u001b[1;32m    214\u001b[0m     return _average_binary_score(average_precision, y_true, y_score,\n\u001b[0;32m--> 215\u001b[0;31m                                  average, sample_weight=sample_weight)\n\u001b[0m\u001b[1;32m    216\u001b[0m \u001b[0;34m\u001b[0m\u001b[0m\n\u001b[1;32m    217\u001b[0m \u001b[0;34m\u001b[0m\u001b[0m\n",
            "\u001b[0;32m/usr/local/lib/python3.7/dist-packages/sklearn/metrics/_base.py\u001b[0m in \u001b[0;36m_average_binary_score\u001b[0;34m(binary_metric, y_true, y_score, average, sample_weight)\u001b[0m\n\u001b[1;32m     72\u001b[0m     \u001b[0my_type\u001b[0m \u001b[0;34m=\u001b[0m \u001b[0mtype_of_target\u001b[0m\u001b[0;34m(\u001b[0m\u001b[0my_true\u001b[0m\u001b[0;34m)\u001b[0m\u001b[0;34m\u001b[0m\u001b[0;34m\u001b[0m\u001b[0m\n\u001b[1;32m     73\u001b[0m     \u001b[0;32mif\u001b[0m \u001b[0my_type\u001b[0m \u001b[0;32mnot\u001b[0m \u001b[0;32min\u001b[0m \u001b[0;34m(\u001b[0m\u001b[0;34m\"binary\"\u001b[0m\u001b[0;34m,\u001b[0m \u001b[0;34m\"multilabel-indicator\"\u001b[0m\u001b[0;34m)\u001b[0m\u001b[0;34m:\u001b[0m\u001b[0;34m\u001b[0m\u001b[0;34m\u001b[0m\u001b[0m\n\u001b[0;32m---> 74\u001b[0;31m         \u001b[0;32mraise\u001b[0m \u001b[0mValueError\u001b[0m\u001b[0;34m(\u001b[0m\u001b[0;34m\"{0} format is not supported\"\u001b[0m\u001b[0;34m.\u001b[0m\u001b[0mformat\u001b[0m\u001b[0;34m(\u001b[0m\u001b[0my_type\u001b[0m\u001b[0;34m)\u001b[0m\u001b[0;34m)\u001b[0m\u001b[0;34m\u001b[0m\u001b[0;34m\u001b[0m\u001b[0m\n\u001b[0m\u001b[1;32m     75\u001b[0m \u001b[0;34m\u001b[0m\u001b[0m\n\u001b[1;32m     76\u001b[0m     \u001b[0;32mif\u001b[0m \u001b[0my_type\u001b[0m \u001b[0;34m==\u001b[0m \u001b[0;34m\"binary\"\u001b[0m\u001b[0;34m:\u001b[0m\u001b[0;34m\u001b[0m\u001b[0;34m\u001b[0m\u001b[0m\n",
            "\u001b[0;31mValueError\u001b[0m: multiclass format is not supported"
          ]
        }
      ]
    },
    {
      "cell_type": "code",
      "metadata": {
        "colab": {
          "base_uri": "https://localhost:8080/"
        },
        "id": "xEHy1gd28fhK",
        "outputId": "fcebaa3a-d645-446d-fff6-8eee83afc852"
      },
      "source": [
        "from sklearn.metrics import precision_score\n",
        "precision_score(y_test, predictions,average=None)"
      ],
      "execution_count": 83,
      "outputs": [
        {
          "output_type": "stream",
          "text": [
            "/usr/local/lib/python3.7/dist-packages/sklearn/metrics/_classification.py:1272: UndefinedMetricWarning: Precision is ill-defined and being set to 0.0 in labels with no predicted samples. Use `zero_division` parameter to control this behavior.\n",
            "  _warn_prf(average, modifier, msg_start, len(result))\n"
          ],
          "name": "stderr"
        },
        {
          "output_type": "execute_result",
          "data": {
            "text/plain": [
              "array([0., 0., 0., 0., 0., 0., 0., 0., 0., 0., 0., 0., 0., 0., 0., 0., 0.,\n",
              "       0., 0., 0., 0., 0., 0., 0., 0., 0., 0., 0., 0., 0., 0., 0., 0., 0.,\n",
              "       0., 0., 0., 0., 0., 0., 0., 0., 0., 0., 0., 0., 0., 0., 0., 0., 0.,\n",
              "       0., 0., 0., 0., 0., 0., 0., 0., 0., 0., 0., 0., 0., 0., 0., 0., 0.,\n",
              "       0., 0., 0., 0., 0., 0., 0., 0., 0., 0., 0., 0., 0., 0., 0., 0., 0.,\n",
              "       0., 0., 0., 0., 0., 0., 0., 0., 0., 0., 0., 0., 0., 0., 0., 0., 0.,\n",
              "       0., 0., 0., 0., 0., 0., 0., 0., 0., 0., 0., 0., 0., 0., 0., 0., 0.,\n",
              "       0., 0., 0., 0., 0., 0., 0., 0., 0., 0., 0., 0., 0., 0., 0., 0., 0.,\n",
              "       0., 0., 0., 0., 0., 0., 0., 0., 0., 0., 0., 0., 0., 0., 0., 0., 0.,\n",
              "       0., 0., 0., 0., 0., 0., 0., 0., 0., 0., 0., 0., 0., 0., 0., 0., 0.,\n",
              "       0., 0., 0., 0., 0., 0., 0., 0., 0., 0., 0., 0., 0., 0., 0., 0., 0.,\n",
              "       0., 0., 0., 0., 0., 0., 0., 0., 0., 0., 0., 0., 0., 0., 0., 0., 0.,\n",
              "       0., 0., 0., 0., 0., 0., 0., 0., 0.])"
            ]
          },
          "metadata": {
            "tags": []
          },
          "execution_count": 83
        }
      ]
    },
    {
      "cell_type": "code",
      "metadata": {
        "id": "4-SFMf_06TA_"
      },
      "source": [
        "def func(st):\n",
        "  if(st=='good'):\n",
        "    return(1)\n",
        "  elif(st=='neutral'):\n",
        "    return(0)\n",
        "  else:\n",
        "    return(-1)\n",
        "df['Alignment']=df.apply(lambda row : func(row['Alignment']), axis = 1)"
      ],
      "execution_count": 20,
      "outputs": []
    },
    {
      "cell_type": "code",
      "metadata": {
        "colab": {
          "base_uri": "https://localhost:8080/",
          "height": 203
        },
        "id": "Q1gq11d57Wsh",
        "outputId": "1432fae2-3bcb-421b-ef69-d8ef18d70c74"
      },
      "source": [
        "df.head()"
      ],
      "execution_count": 21,
      "outputs": [
        {
          "output_type": "execute_result",
          "data": {
            "text/html": [
              "<div>\n",
              "<style scoped>\n",
              "    .dataframe tbody tr th:only-of-type {\n",
              "        vertical-align: middle;\n",
              "    }\n",
              "\n",
              "    .dataframe tbody tr th {\n",
              "        vertical-align: top;\n",
              "    }\n",
              "\n",
              "    .dataframe thead th {\n",
              "        text-align: right;\n",
              "    }\n",
              "</style>\n",
              "<table border=\"1\" class=\"dataframe\">\n",
              "  <thead>\n",
              "    <tr style=\"text-align: right;\">\n",
              "      <th></th>\n",
              "      <th>Name</th>\n",
              "      <th>Alignment</th>\n",
              "      <th>Intelligence</th>\n",
              "      <th>Strength</th>\n",
              "      <th>Speed</th>\n",
              "      <th>Durability</th>\n",
              "      <th>Power</th>\n",
              "      <th>Combat</th>\n",
              "    </tr>\n",
              "  </thead>\n",
              "  <tbody>\n",
              "    <tr>\n",
              "      <th>0</th>\n",
              "      <td>3-D Man</td>\n",
              "      <td>1</td>\n",
              "      <td>0.437500</td>\n",
              "      <td>0.303030</td>\n",
              "      <td>0.424242</td>\n",
              "      <td>0.260504</td>\n",
              "      <td>0.25</td>\n",
              "      <td>0.51</td>\n",
              "    </tr>\n",
              "    <tr>\n",
              "      <th>1</th>\n",
              "      <td>A-Bomb</td>\n",
              "      <td>1</td>\n",
              "      <td>0.330357</td>\n",
              "      <td>1.000000</td>\n",
              "      <td>0.161616</td>\n",
              "      <td>0.663866</td>\n",
              "      <td>0.17</td>\n",
              "      <td>0.63</td>\n",
              "    </tr>\n",
              "    <tr>\n",
              "      <th>2</th>\n",
              "      <td>Abe Sapien</td>\n",
              "      <td>1</td>\n",
              "      <td>0.776786</td>\n",
              "      <td>0.131313</td>\n",
              "      <td>0.343434</td>\n",
              "      <td>0.344538</td>\n",
              "      <td>0.35</td>\n",
              "      <td>0.84</td>\n",
              "    </tr>\n",
              "    <tr>\n",
              "      <th>3</th>\n",
              "      <td>Abin Sur</td>\n",
              "      <td>1</td>\n",
              "      <td>0.437500</td>\n",
              "      <td>0.898990</td>\n",
              "      <td>0.525253</td>\n",
              "      <td>0.529412</td>\n",
              "      <td>0.84</td>\n",
              "      <td>0.64</td>\n",
              "    </tr>\n",
              "    <tr>\n",
              "      <th>4</th>\n",
              "      <td>Abomination</td>\n",
              "      <td>-1</td>\n",
              "      <td>0.553571</td>\n",
              "      <td>0.797980</td>\n",
              "      <td>0.525253</td>\n",
              "      <td>0.747899</td>\n",
              "      <td>0.55</td>\n",
              "      <td>0.94</td>\n",
              "    </tr>\n",
              "  </tbody>\n",
              "</table>\n",
              "</div>"
            ],
            "text/plain": [
              "          Name  Alignment  Intelligence  ...  Durability  Power  Combat\n",
              "0      3-D Man          1      0.437500  ...    0.260504   0.25    0.51\n",
              "1       A-Bomb          1      0.330357  ...    0.663866   0.17    0.63\n",
              "2   Abe Sapien          1      0.776786  ...    0.344538   0.35    0.84\n",
              "3     Abin Sur          1      0.437500  ...    0.529412   0.84    0.64\n",
              "4  Abomination         -1      0.553571  ...    0.747899   0.55    0.94\n",
              "\n",
              "[5 rows x 8 columns]"
            ]
          },
          "metadata": {
            "tags": []
          },
          "execution_count": 21
        }
      ]
    },
    {
      "cell_type": "code",
      "metadata": {
        "colab": {
          "base_uri": "https://localhost:8080/",
          "height": 295
        },
        "id": "ZnEoxwev7ajK",
        "outputId": "5b555311-c62a-4170-de41-ac02731de218"
      },
      "source": [
        "df.describe()"
      ],
      "execution_count": 22,
      "outputs": [
        {
          "output_type": "execute_result",
          "data": {
            "text/html": [
              "<div>\n",
              "<style scoped>\n",
              "    .dataframe tbody tr th:only-of-type {\n",
              "        vertical-align: middle;\n",
              "    }\n",
              "\n",
              "    .dataframe tbody tr th {\n",
              "        vertical-align: top;\n",
              "    }\n",
              "\n",
              "    .dataframe thead th {\n",
              "        text-align: right;\n",
              "    }\n",
              "</style>\n",
              "<table border=\"1\" class=\"dataframe\">\n",
              "  <thead>\n",
              "    <tr style=\"text-align: right;\">\n",
              "      <th></th>\n",
              "      <th>Alignment</th>\n",
              "      <th>Intelligence</th>\n",
              "      <th>Strength</th>\n",
              "      <th>Speed</th>\n",
              "      <th>Durability</th>\n",
              "      <th>Power</th>\n",
              "      <th>Combat</th>\n",
              "    </tr>\n",
              "  </thead>\n",
              "  <tbody>\n",
              "    <tr>\n",
              "      <th>count</th>\n",
              "      <td>611.000000</td>\n",
              "      <td>611.000000</td>\n",
              "      <td>611.000000</td>\n",
              "      <td>611.000000</td>\n",
              "      <td>611.000000</td>\n",
              "      <td>611.000000</td>\n",
              "      <td>611.000000</td>\n",
              "    </tr>\n",
              "    <tr>\n",
              "      <th>mean</th>\n",
              "      <td>0.436989</td>\n",
              "      <td>0.388415</td>\n",
              "      <td>0.283671</td>\n",
              "      <td>0.265718</td>\n",
              "      <td>0.343190</td>\n",
              "      <td>0.403126</td>\n",
              "      <td>0.422062</td>\n",
              "    </tr>\n",
              "    <tr>\n",
              "      <th>std</th>\n",
              "      <td>0.887365</td>\n",
              "      <td>0.293971</td>\n",
              "      <td>0.329403</td>\n",
              "      <td>0.260204</td>\n",
              "      <td>0.307091</td>\n",
              "      <td>0.345399</td>\n",
              "      <td>0.332703</td>\n",
              "    </tr>\n",
              "    <tr>\n",
              "      <th>min</th>\n",
              "      <td>-1.000000</td>\n",
              "      <td>0.000000</td>\n",
              "      <td>0.000000</td>\n",
              "      <td>0.000000</td>\n",
              "      <td>0.000000</td>\n",
              "      <td>0.000000</td>\n",
              "      <td>0.000000</td>\n",
              "    </tr>\n",
              "    <tr>\n",
              "      <th>25%</th>\n",
              "      <td>-1.000000</td>\n",
              "      <td>0.000000</td>\n",
              "      <td>0.000000</td>\n",
              "      <td>0.000000</td>\n",
              "      <td>0.000000</td>\n",
              "      <td>0.000000</td>\n",
              "      <td>0.000000</td>\n",
              "    </tr>\n",
              "    <tr>\n",
              "      <th>50%</th>\n",
              "      <td>1.000000</td>\n",
              "      <td>0.437500</td>\n",
              "      <td>0.090909</td>\n",
              "      <td>0.222222</td>\n",
              "      <td>0.260504</td>\n",
              "      <td>0.370000</td>\n",
              "      <td>0.490000</td>\n",
              "    </tr>\n",
              "    <tr>\n",
              "      <th>75%</th>\n",
              "      <td>1.000000</td>\n",
              "      <td>0.660714</td>\n",
              "      <td>0.525253</td>\n",
              "      <td>0.414141</td>\n",
              "      <td>0.663866</td>\n",
              "      <td>0.670000</td>\n",
              "      <td>0.690000</td>\n",
              "    </tr>\n",
              "    <tr>\n",
              "      <th>max</th>\n",
              "      <td>1.000000</td>\n",
              "      <td>1.000000</td>\n",
              "      <td>1.000000</td>\n",
              "      <td>1.000000</td>\n",
              "      <td>1.000000</td>\n",
              "      <td>1.000000</td>\n",
              "      <td>1.000000</td>\n",
              "    </tr>\n",
              "  </tbody>\n",
              "</table>\n",
              "</div>"
            ],
            "text/plain": [
              "        Alignment  Intelligence    Strength  ...  Durability       Power      Combat\n",
              "count  611.000000    611.000000  611.000000  ...  611.000000  611.000000  611.000000\n",
              "mean     0.436989      0.388415    0.283671  ...    0.343190    0.403126    0.422062\n",
              "std      0.887365      0.293971    0.329403  ...    0.307091    0.345399    0.332703\n",
              "min     -1.000000      0.000000    0.000000  ...    0.000000    0.000000    0.000000\n",
              "25%     -1.000000      0.000000    0.000000  ...    0.000000    0.000000    0.000000\n",
              "50%      1.000000      0.437500    0.090909  ...    0.260504    0.370000    0.490000\n",
              "75%      1.000000      0.660714    0.525253  ...    0.663866    0.670000    0.690000\n",
              "max      1.000000      1.000000    1.000000  ...    1.000000    1.000000    1.000000\n",
              "\n",
              "[8 rows x 7 columns]"
            ]
          },
          "metadata": {
            "tags": []
          },
          "execution_count": 22
        }
      ]
    },
    {
      "cell_type": "code",
      "metadata": {
        "id": "HjgsmaDavSRc"
      },
      "source": [
        ""
      ],
      "execution_count": null,
      "outputs": []
    }
  ]
}